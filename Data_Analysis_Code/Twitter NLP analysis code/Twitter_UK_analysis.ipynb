{
 "cells": [
  {
   "cell_type": "markdown",
   "id": "d75ebc43",
   "metadata": {},
   "source": [
    "## Load libraries"
   ]
  },
  {
   "cell_type": "code",
   "execution_count": 2,
   "id": "224651c8",
   "metadata": {},
   "outputs": [
    {
     "name": "stderr",
     "output_type": "stream",
     "text": [
      "[nltk_data] Downloading package stopwords to\n",
      "[nltk_data]     /Users/zhaolongjiang/nltk_data...\n",
      "[nltk_data]   Package stopwords is already up-to-date!\n"
     ]
    }
   ],
   "source": [
    "import pandas as pd\n",
    "import numpy as np\n",
    "from datetime import datetime\n",
    "import matplotlib.pyplot as plt\n",
    "import re\n",
    "import os\n",
    "import gensim\n",
    "import gensim\n",
    "from gensim.utils import simple_preprocess\n",
    "import nltk\n",
    "nltk.download('stopwords')\n",
    "from nltk.corpus import stopwords\n",
    "stop_words = stopwords.words('english')\n",
    "import pyLDAvis.gensim\n",
    "import pickle \n",
    "import pyLDAvis\n",
    "\n",
    "pd.options.mode.chained_assignment = None  "
   ]
  },
  {
   "cell_type": "markdown",
   "id": "c7f2d0db",
   "metadata": {},
   "source": [
    "## Load/Clean data"
   ]
  },
  {
   "cell_type": "code",
   "execution_count": 3,
   "id": "4cf02f4b",
   "metadata": {},
   "outputs": [
    {
     "ename": "FileNotFoundError",
     "evalue": "[Errno 2] No such file or directory: 'UK_tweet_data.xlsx'",
     "output_type": "error",
     "traceback": [
      "\u001b[0;31m---------------------------------------------------------------------------\u001b[0m",
      "\u001b[0;31mFileNotFoundError\u001b[0m                         Traceback (most recent call last)",
      "Cell \u001b[0;32mIn[3], line 1\u001b[0m\n\u001b[0;32m----> 1\u001b[0m uk \u001b[38;5;241m=\u001b[39m pd\u001b[38;5;241m.\u001b[39mread_excel(\u001b[38;5;124m'\u001b[39m\u001b[38;5;124mUK_tweet_data.xlsx\u001b[39m\u001b[38;5;124m'\u001b[39m)\n\u001b[1;32m      2\u001b[0m uk\u001b[38;5;241m.\u001b[39mhead()\n",
      "File \u001b[0;32m~/anaconda3/lib/python3.11/site-packages/pandas/io/excel/_base.py:504\u001b[0m, in \u001b[0;36mread_excel\u001b[0;34m(io, sheet_name, header, names, index_col, usecols, dtype, engine, converters, true_values, false_values, skiprows, nrows, na_values, keep_default_na, na_filter, verbose, parse_dates, date_parser, date_format, thousands, decimal, comment, skipfooter, storage_options, dtype_backend, engine_kwargs)\u001b[0m\n\u001b[1;32m    502\u001b[0m \u001b[38;5;28;01mif\u001b[39;00m \u001b[38;5;129;01mnot\u001b[39;00m \u001b[38;5;28misinstance\u001b[39m(io, ExcelFile):\n\u001b[1;32m    503\u001b[0m     should_close \u001b[38;5;241m=\u001b[39m \u001b[38;5;28;01mTrue\u001b[39;00m\n\u001b[0;32m--> 504\u001b[0m     io \u001b[38;5;241m=\u001b[39m ExcelFile(\n\u001b[1;32m    505\u001b[0m         io,\n\u001b[1;32m    506\u001b[0m         storage_options\u001b[38;5;241m=\u001b[39mstorage_options,\n\u001b[1;32m    507\u001b[0m         engine\u001b[38;5;241m=\u001b[39mengine,\n\u001b[1;32m    508\u001b[0m         engine_kwargs\u001b[38;5;241m=\u001b[39mengine_kwargs,\n\u001b[1;32m    509\u001b[0m     )\n\u001b[1;32m    510\u001b[0m \u001b[38;5;28;01melif\u001b[39;00m engine \u001b[38;5;129;01mand\u001b[39;00m engine \u001b[38;5;241m!=\u001b[39m io\u001b[38;5;241m.\u001b[39mengine:\n\u001b[1;32m    511\u001b[0m     \u001b[38;5;28;01mraise\u001b[39;00m \u001b[38;5;167;01mValueError\u001b[39;00m(\n\u001b[1;32m    512\u001b[0m         \u001b[38;5;124m\"\u001b[39m\u001b[38;5;124mEngine should not be specified when passing \u001b[39m\u001b[38;5;124m\"\u001b[39m\n\u001b[1;32m    513\u001b[0m         \u001b[38;5;124m\"\u001b[39m\u001b[38;5;124man ExcelFile - ExcelFile already has the engine set\u001b[39m\u001b[38;5;124m\"\u001b[39m\n\u001b[1;32m    514\u001b[0m     )\n",
      "File \u001b[0;32m~/anaconda3/lib/python3.11/site-packages/pandas/io/excel/_base.py:1563\u001b[0m, in \u001b[0;36mExcelFile.__init__\u001b[0;34m(self, path_or_buffer, engine, storage_options, engine_kwargs)\u001b[0m\n\u001b[1;32m   1561\u001b[0m     ext \u001b[38;5;241m=\u001b[39m \u001b[38;5;124m\"\u001b[39m\u001b[38;5;124mxls\u001b[39m\u001b[38;5;124m\"\u001b[39m\n\u001b[1;32m   1562\u001b[0m \u001b[38;5;28;01melse\u001b[39;00m:\n\u001b[0;32m-> 1563\u001b[0m     ext \u001b[38;5;241m=\u001b[39m inspect_excel_format(\n\u001b[1;32m   1564\u001b[0m         content_or_path\u001b[38;5;241m=\u001b[39mpath_or_buffer, storage_options\u001b[38;5;241m=\u001b[39mstorage_options\n\u001b[1;32m   1565\u001b[0m     )\n\u001b[1;32m   1566\u001b[0m     \u001b[38;5;28;01mif\u001b[39;00m ext \u001b[38;5;129;01mis\u001b[39;00m \u001b[38;5;28;01mNone\u001b[39;00m:\n\u001b[1;32m   1567\u001b[0m         \u001b[38;5;28;01mraise\u001b[39;00m \u001b[38;5;167;01mValueError\u001b[39;00m(\n\u001b[1;32m   1568\u001b[0m             \u001b[38;5;124m\"\u001b[39m\u001b[38;5;124mExcel file format cannot be determined, you must specify \u001b[39m\u001b[38;5;124m\"\u001b[39m\n\u001b[1;32m   1569\u001b[0m             \u001b[38;5;124m\"\u001b[39m\u001b[38;5;124man engine manually.\u001b[39m\u001b[38;5;124m\"\u001b[39m\n\u001b[1;32m   1570\u001b[0m         )\n",
      "File \u001b[0;32m~/anaconda3/lib/python3.11/site-packages/pandas/io/excel/_base.py:1419\u001b[0m, in \u001b[0;36minspect_excel_format\u001b[0;34m(content_or_path, storage_options)\u001b[0m\n\u001b[1;32m   1416\u001b[0m \u001b[38;5;28;01mif\u001b[39;00m \u001b[38;5;28misinstance\u001b[39m(content_or_path, \u001b[38;5;28mbytes\u001b[39m):\n\u001b[1;32m   1417\u001b[0m     content_or_path \u001b[38;5;241m=\u001b[39m BytesIO(content_or_path)\n\u001b[0;32m-> 1419\u001b[0m \u001b[38;5;28;01mwith\u001b[39;00m get_handle(\n\u001b[1;32m   1420\u001b[0m     content_or_path, \u001b[38;5;124m\"\u001b[39m\u001b[38;5;124mrb\u001b[39m\u001b[38;5;124m\"\u001b[39m, storage_options\u001b[38;5;241m=\u001b[39mstorage_options, is_text\u001b[38;5;241m=\u001b[39m\u001b[38;5;28;01mFalse\u001b[39;00m\n\u001b[1;32m   1421\u001b[0m ) \u001b[38;5;28;01mas\u001b[39;00m handle:\n\u001b[1;32m   1422\u001b[0m     stream \u001b[38;5;241m=\u001b[39m handle\u001b[38;5;241m.\u001b[39mhandle\n\u001b[1;32m   1423\u001b[0m     stream\u001b[38;5;241m.\u001b[39mseek(\u001b[38;5;241m0\u001b[39m)\n",
      "File \u001b[0;32m~/anaconda3/lib/python3.11/site-packages/pandas/io/common.py:872\u001b[0m, in \u001b[0;36mget_handle\u001b[0;34m(path_or_buf, mode, encoding, compression, memory_map, is_text, errors, storage_options)\u001b[0m\n\u001b[1;32m    863\u001b[0m         handle \u001b[38;5;241m=\u001b[39m \u001b[38;5;28mopen\u001b[39m(\n\u001b[1;32m    864\u001b[0m             handle,\n\u001b[1;32m    865\u001b[0m             ioargs\u001b[38;5;241m.\u001b[39mmode,\n\u001b[0;32m   (...)\u001b[0m\n\u001b[1;32m    868\u001b[0m             newline\u001b[38;5;241m=\u001b[39m\u001b[38;5;124m\"\u001b[39m\u001b[38;5;124m\"\u001b[39m,\n\u001b[1;32m    869\u001b[0m         )\n\u001b[1;32m    870\u001b[0m     \u001b[38;5;28;01melse\u001b[39;00m:\n\u001b[1;32m    871\u001b[0m         \u001b[38;5;66;03m# Binary mode\u001b[39;00m\n\u001b[0;32m--> 872\u001b[0m         handle \u001b[38;5;241m=\u001b[39m \u001b[38;5;28mopen\u001b[39m(handle, ioargs\u001b[38;5;241m.\u001b[39mmode)\n\u001b[1;32m    873\u001b[0m     handles\u001b[38;5;241m.\u001b[39mappend(handle)\n\u001b[1;32m    875\u001b[0m \u001b[38;5;66;03m# Convert BytesIO or file objects passed with an encoding\u001b[39;00m\n",
      "\u001b[0;31mFileNotFoundError\u001b[0m: [Errno 2] No such file or directory: 'UK_tweet_data.xlsx'"
     ]
    }
   ],
   "source": [
    "uk = pd.read_excel('UK_tweet_data.xlsx')\n",
    "uk.head()"
   ]
  },
  {
   "cell_type": "code",
   "execution_count": 3,
   "id": "13ee11c8",
   "metadata": {},
   "outputs": [
    {
     "data": {
      "text/plain": [
       "(10754, 5)"
      ]
     },
     "execution_count": 3,
     "metadata": {},
     "output_type": "execute_result"
    }
   ],
   "source": [
    "uk_cleaned = uk.drop_duplicates(subset = ['Tweets', 'Account', 'Likes'], keep = 'last')\n",
    "uk_cleaned.shape"
   ]
  },
  {
   "cell_type": "code",
   "execution_count": 4,
   "id": "c145a500",
   "metadata": {},
   "outputs": [
    {
     "data": {
      "text/html": [
       "<div>\n",
       "<style scoped>\n",
       "    .dataframe tbody tr th:only-of-type {\n",
       "        vertical-align: middle;\n",
       "    }\n",
       "\n",
       "    .dataframe tbody tr th {\n",
       "        vertical-align: top;\n",
       "    }\n",
       "\n",
       "    .dataframe thead th {\n",
       "        text-align: right;\n",
       "    }\n",
       "</style>\n",
       "<table border=\"1\" class=\"dataframe\">\n",
       "  <thead>\n",
       "    <tr style=\"text-align: right;\">\n",
       "      <th></th>\n",
       "      <th>Tweets</th>\n",
       "      <th>Time</th>\n",
       "      <th>Account</th>\n",
       "      <th>Likes</th>\n",
       "      <th>Hashtag</th>\n",
       "      <th>Region</th>\n",
       "    </tr>\n",
       "  </thead>\n",
       "  <tbody>\n",
       "    <tr>\n",
       "      <th>1829</th>\n",
       "      <td>The “vote no” crowd left leaflets in my letter...</td>\n",
       "      <td>Feb 28</td>\n",
       "      <td>@mneylon</td>\n",
       "      <td>1 reply, 293 views</td>\n",
       "      <td>uk since:2024-02-01 until:2024-02-29 immigration</td>\n",
       "      <td>UK</td>\n",
       "    </tr>\n",
       "    <tr>\n",
       "      <th>1830</th>\n",
       "      <td>I for one am fed up of the outrage mob using f...</td>\n",
       "      <td>Feb 28</td>\n",
       "      <td>@Brenbyrn2</td>\n",
       "      <td>1 reply, 7 likes, 169 views</td>\n",
       "      <td>uk since:2024-02-01 until:2024-02-29 immigration</td>\n",
       "      <td>UK</td>\n",
       "    </tr>\n",
       "    <tr>\n",
       "      <th>1831</th>\n",
       "      <td>But Starmer, Khan and his cronies want more im...</td>\n",
       "      <td>Feb 28</td>\n",
       "      <td>@smupp1</td>\n",
       "      <td>5 views</td>\n",
       "      <td>uk since:2024-02-01 until:2024-02-29 immigration</td>\n",
       "      <td>UK</td>\n",
       "    </tr>\n",
       "    <tr>\n",
       "      <th>1832</th>\n",
       "      <td>\"Tired of garlic struggles? Say goodbye to the...</td>\n",
       "      <td>Feb 28</td>\n",
       "      <td>@Splazzastore</td>\n",
       "      <td>11 replies, 13 reposts, 85 likes, 36 bookmarks...</td>\n",
       "      <td>uk since:2024-02-01 until:2024-02-29 immigration</td>\n",
       "      <td>UK</td>\n",
       "    </tr>\n",
       "    <tr>\n",
       "      <th>1833</th>\n",
       "      <td>Biden’s approval rate on immigration is 35%, b...</td>\n",
       "      <td>Feb 28</td>\n",
       "      <td>@DavidDeeble</td>\n",
       "      <td>5 likes, 108 views</td>\n",
       "      <td>uk since:2024-02-01 until:2024-02-29 immigration</td>\n",
       "      <td>UK</td>\n",
       "    </tr>\n",
       "  </tbody>\n",
       "</table>\n",
       "</div>"
      ],
      "text/plain": [
       "                                                 Tweets    Time  \\\n",
       "1829  The “vote no” crowd left leaflets in my letter...  Feb 28   \n",
       "1830  I for one am fed up of the outrage mob using f...  Feb 28   \n",
       "1831  But Starmer, Khan and his cronies want more im...  Feb 28   \n",
       "1832  \"Tired of garlic struggles? Say goodbye to the...  Feb 28   \n",
       "1833  Biden’s approval rate on immigration is 35%, b...  Feb 28   \n",
       "\n",
       "            Account                                              Likes  \\\n",
       "1829       @mneylon                                 1 reply, 293 views   \n",
       "1830     @Brenbyrn2                        1 reply, 7 likes, 169 views   \n",
       "1831        @smupp1                                            5 views   \n",
       "1832  @Splazzastore  11 replies, 13 reposts, 85 likes, 36 bookmarks...   \n",
       "1833   @DavidDeeble                                 5 likes, 108 views   \n",
       "\n",
       "                                               Hashtag Region  \n",
       "1829  uk since:2024-02-01 until:2024-02-29 immigration     UK  \n",
       "1830  uk since:2024-02-01 until:2024-02-29 immigration     UK  \n",
       "1831  uk since:2024-02-01 until:2024-02-29 immigration     UK  \n",
       "1832  uk since:2024-02-01 until:2024-02-29 immigration     UK  \n",
       "1833  uk since:2024-02-01 until:2024-02-29 immigration     UK  "
      ]
     },
     "execution_count": 4,
     "metadata": {},
     "output_type": "execute_result"
    }
   ],
   "source": [
    "uk_cleaned.loc[:,'Region'] = uk_cleaned['Hashtag'].apply(lambda x: x.upper()[:2])\n",
    "uk_cleaned.head()"
   ]
  },
  {
   "cell_type": "code",
   "execution_count": 5,
   "id": "2c7a489b",
   "metadata": {},
   "outputs": [
    {
     "data": {
      "text/html": [
       "<div>\n",
       "<style scoped>\n",
       "    .dataframe tbody tr th:only-of-type {\n",
       "        vertical-align: middle;\n",
       "    }\n",
       "\n",
       "    .dataframe tbody tr th {\n",
       "        vertical-align: top;\n",
       "    }\n",
       "\n",
       "    .dataframe thead th {\n",
       "        text-align: right;\n",
       "    }\n",
       "</style>\n",
       "<table border=\"1\" class=\"dataframe\">\n",
       "  <thead>\n",
       "    <tr style=\"text-align: right;\">\n",
       "      <th></th>\n",
       "      <th>Tweets</th>\n",
       "      <th>Time</th>\n",
       "      <th>Account</th>\n",
       "      <th>Likes</th>\n",
       "      <th>Region</th>\n",
       "      <th>Month</th>\n",
       "    </tr>\n",
       "  </thead>\n",
       "  <tbody>\n",
       "    <tr>\n",
       "      <th>1829</th>\n",
       "      <td>The “vote no” crowd left leaflets in my letter...</td>\n",
       "      <td>Feb 28</td>\n",
       "      <td>@mneylon</td>\n",
       "      <td>1 reply, 293 views</td>\n",
       "      <td>UK</td>\n",
       "      <td>2024-02</td>\n",
       "    </tr>\n",
       "    <tr>\n",
       "      <th>1830</th>\n",
       "      <td>I for one am fed up of the outrage mob using f...</td>\n",
       "      <td>Feb 28</td>\n",
       "      <td>@Brenbyrn2</td>\n",
       "      <td>1 reply, 7 likes, 169 views</td>\n",
       "      <td>UK</td>\n",
       "      <td>2024-02</td>\n",
       "    </tr>\n",
       "    <tr>\n",
       "      <th>1831</th>\n",
       "      <td>But Starmer, Khan and his cronies want more im...</td>\n",
       "      <td>Feb 28</td>\n",
       "      <td>@smupp1</td>\n",
       "      <td>5 views</td>\n",
       "      <td>UK</td>\n",
       "      <td>2024-02</td>\n",
       "    </tr>\n",
       "    <tr>\n",
       "      <th>1832</th>\n",
       "      <td>\"Tired of garlic struggles? Say goodbye to the...</td>\n",
       "      <td>Feb 28</td>\n",
       "      <td>@Splazzastore</td>\n",
       "      <td>11 replies, 13 reposts, 85 likes, 36 bookmarks...</td>\n",
       "      <td>UK</td>\n",
       "      <td>2024-02</td>\n",
       "    </tr>\n",
       "    <tr>\n",
       "      <th>1833</th>\n",
       "      <td>Biden’s approval rate on immigration is 35%, b...</td>\n",
       "      <td>Feb 28</td>\n",
       "      <td>@DavidDeeble</td>\n",
       "      <td>5 likes, 108 views</td>\n",
       "      <td>UK</td>\n",
       "      <td>2024-02</td>\n",
       "    </tr>\n",
       "  </tbody>\n",
       "</table>\n",
       "</div>"
      ],
      "text/plain": [
       "                                                 Tweets    Time  \\\n",
       "1829  The “vote no” crowd left leaflets in my letter...  Feb 28   \n",
       "1830  I for one am fed up of the outrage mob using f...  Feb 28   \n",
       "1831  But Starmer, Khan and his cronies want more im...  Feb 28   \n",
       "1832  \"Tired of garlic struggles? Say goodbye to the...  Feb 28   \n",
       "1833  Biden’s approval rate on immigration is 35%, b...  Feb 28   \n",
       "\n",
       "            Account                                              Likes Region  \\\n",
       "1829       @mneylon                                 1 reply, 293 views     UK   \n",
       "1830     @Brenbyrn2                        1 reply, 7 likes, 169 views     UK   \n",
       "1831        @smupp1                                            5 views     UK   \n",
       "1832  @Splazzastore  11 replies, 13 reposts, 85 likes, 36 bookmarks...     UK   \n",
       "1833   @DavidDeeble                                 5 likes, 108 views     UK   \n",
       "\n",
       "        Month  \n",
       "1829  2024-02  \n",
       "1830  2024-02  \n",
       "1831  2024-02  \n",
       "1832  2024-02  \n",
       "1833  2024-02  "
      ]
     },
     "execution_count": 5,
     "metadata": {},
     "output_type": "execute_result"
    }
   ],
   "source": [
    "uk_cleaned.loc[:,'Month'] = uk_cleaned['Hashtag'].apply(lambda x: x[9:16])\n",
    "uk_cleaned = uk_cleaned.drop(columns = 'Hashtag')\n",
    "uk_cleaned['Likes'] = uk_cleaned['Likes'].fillna('none')\n",
    "uk_cleaned.head()"
   ]
  },
  {
   "cell_type": "code",
   "execution_count": 6,
   "id": "bca1c045",
   "metadata": {},
   "outputs": [],
   "source": [
    "uk_cleaned.to_csv('UK_tweet_data.csv', index = False)"
   ]
  },
  {
   "cell_type": "markdown",
   "id": "cfc60005",
   "metadata": {},
   "source": [
    "## Analysis"
   ]
  },
  {
   "cell_type": "markdown",
   "id": "4815c5db",
   "metadata": {},
   "source": [
    "### Influence"
   ]
  },
  {
   "cell_type": "code",
   "execution_count": 7,
   "id": "de762629",
   "metadata": {},
   "outputs": [
    {
     "name": "stderr",
     "output_type": "stream",
     "text": [
      "<>:2: DeprecationWarning: invalid escape sequence '\\d'\n",
      "<>:2: DeprecationWarning: invalid escape sequence '\\d'\n",
      "C:\\Users\\PC\\AppData\\Local\\Temp\\ipykernel_21920\\2265528259.py:2: DeprecationWarning: invalid escape sequence '\\d'\n",
      "  uk_cleaned.loc[repost_filter, 'Reposts'] = uk_cleaned.loc[repost_filter, 'Likes'].apply(lambda x: re.findall('(\\d+[.,]?\\d*)(?:[\\s\\d\\-\\+\\/]*)(?:repost)', x)[0]).astype('int')\n"
     ]
    },
    {
     "data": {
      "text/html": [
       "<div>\n",
       "<style scoped>\n",
       "    .dataframe tbody tr th:only-of-type {\n",
       "        vertical-align: middle;\n",
       "    }\n",
       "\n",
       "    .dataframe tbody tr th {\n",
       "        vertical-align: top;\n",
       "    }\n",
       "\n",
       "    .dataframe thead th {\n",
       "        text-align: right;\n",
       "    }\n",
       "</style>\n",
       "<table border=\"1\" class=\"dataframe\">\n",
       "  <thead>\n",
       "    <tr style=\"text-align: right;\">\n",
       "      <th></th>\n",
       "      <th>Likes</th>\n",
       "      <th>Reposts</th>\n",
       "    </tr>\n",
       "  </thead>\n",
       "  <tbody>\n",
       "    <tr>\n",
       "      <th>1829</th>\n",
       "      <td>1 reply, 293 views</td>\n",
       "      <td>0.0</td>\n",
       "    </tr>\n",
       "    <tr>\n",
       "      <th>1830</th>\n",
       "      <td>1 reply, 7 likes, 169 views</td>\n",
       "      <td>0.0</td>\n",
       "    </tr>\n",
       "    <tr>\n",
       "      <th>1831</th>\n",
       "      <td>5 views</td>\n",
       "      <td>0.0</td>\n",
       "    </tr>\n",
       "    <tr>\n",
       "      <th>1832</th>\n",
       "      <td>11 replies, 13 reposts, 85 likes, 36 bookmarks...</td>\n",
       "      <td>13.0</td>\n",
       "    </tr>\n",
       "    <tr>\n",
       "      <th>1833</th>\n",
       "      <td>5 likes, 108 views</td>\n",
       "      <td>0.0</td>\n",
       "    </tr>\n",
       "    <tr>\n",
       "      <th>1834</th>\n",
       "      <td>1 reply, 1 repost, 1 like, 654 views</td>\n",
       "      <td>1.0</td>\n",
       "    </tr>\n",
       "    <tr>\n",
       "      <th>1835</th>\n",
       "      <td>34 views</td>\n",
       "      <td>0.0</td>\n",
       "    </tr>\n",
       "    <tr>\n",
       "      <th>1836</th>\n",
       "      <td>27 views</td>\n",
       "      <td>0.0</td>\n",
       "    </tr>\n",
       "    <tr>\n",
       "      <th>1837</th>\n",
       "      <td>1 reply, 3 likes, 61 views</td>\n",
       "      <td>0.0</td>\n",
       "    </tr>\n",
       "    <tr>\n",
       "      <th>1838</th>\n",
       "      <td>1 reply, 2 likes, 46 views</td>\n",
       "      <td>0.0</td>\n",
       "    </tr>\n",
       "  </tbody>\n",
       "</table>\n",
       "</div>"
      ],
      "text/plain": [
       "                                                  Likes  Reposts\n",
       "1829                                 1 reply, 293 views      0.0\n",
       "1830                        1 reply, 7 likes, 169 views      0.0\n",
       "1831                                            5 views      0.0\n",
       "1832  11 replies, 13 reposts, 85 likes, 36 bookmarks...     13.0\n",
       "1833                                 5 likes, 108 views      0.0\n",
       "1834               1 reply, 1 repost, 1 like, 654 views      1.0\n",
       "1835                                           34 views      0.0\n",
       "1836                                           27 views      0.0\n",
       "1837                         1 reply, 3 likes, 61 views      0.0\n",
       "1838                         1 reply, 2 likes, 46 views      0.0"
      ]
     },
     "execution_count": 7,
     "metadata": {},
     "output_type": "execute_result"
    }
   ],
   "source": [
    "repost_filter = uk_cleaned['Likes'].str.contains('repost')\n",
    "uk_cleaned.loc[repost_filter, 'Reposts'] = uk_cleaned.loc[repost_filter, 'Likes'].apply(lambda x: re.findall('(\\d+[.,]?\\d*)(?:[\\s\\d\\-\\+\\/]*)(?:repost)', x)[0]).astype('int')   \n",
    "uk_cleaned.loc[~repost_filter, 'Reposts'] = 0\n",
    "uk_cleaned[['Likes', 'Reposts']].head(10)"
   ]
  },
  {
   "cell_type": "code",
   "execution_count": 8,
   "id": "4e710a47",
   "metadata": {},
   "outputs": [
    {
     "name": "stdout",
     "output_type": "stream",
     "text": [
      "1224\n"
     ]
    },
    {
     "data": {
      "text/html": [
       "<div>\n",
       "<style scoped>\n",
       "    .dataframe tbody tr th:only-of-type {\n",
       "        vertical-align: middle;\n",
       "    }\n",
       "\n",
       "    .dataframe tbody tr th {\n",
       "        vertical-align: top;\n",
       "    }\n",
       "\n",
       "    .dataframe thead th {\n",
       "        text-align: right;\n",
       "    }\n",
       "</style>\n",
       "<table border=\"1\" class=\"dataframe\">\n",
       "  <thead>\n",
       "    <tr style=\"text-align: right;\">\n",
       "      <th></th>\n",
       "      <th>Tweets</th>\n",
       "      <th>Time</th>\n",
       "      <th>Account</th>\n",
       "      <th>Likes</th>\n",
       "      <th>Region</th>\n",
       "      <th>Month</th>\n",
       "      <th>Reposts</th>\n",
       "      <th>Influential</th>\n",
       "    </tr>\n",
       "  </thead>\n",
       "  <tbody>\n",
       "    <tr>\n",
       "      <th>1829</th>\n",
       "      <td>The “vote no” crowd left leaflets in my letter...</td>\n",
       "      <td>Feb 28</td>\n",
       "      <td>@mneylon</td>\n",
       "      <td>1 reply, 293 views</td>\n",
       "      <td>UK</td>\n",
       "      <td>2024-02</td>\n",
       "      <td>0.0</td>\n",
       "      <td>no</td>\n",
       "    </tr>\n",
       "    <tr>\n",
       "      <th>1830</th>\n",
       "      <td>I for one am fed up of the outrage mob using f...</td>\n",
       "      <td>Feb 28</td>\n",
       "      <td>@Brenbyrn2</td>\n",
       "      <td>1 reply, 7 likes, 169 views</td>\n",
       "      <td>UK</td>\n",
       "      <td>2024-02</td>\n",
       "      <td>0.0</td>\n",
       "      <td>no</td>\n",
       "    </tr>\n",
       "    <tr>\n",
       "      <th>1831</th>\n",
       "      <td>But Starmer, Khan and his cronies want more im...</td>\n",
       "      <td>Feb 28</td>\n",
       "      <td>@smupp1</td>\n",
       "      <td>5 views</td>\n",
       "      <td>UK</td>\n",
       "      <td>2024-02</td>\n",
       "      <td>0.0</td>\n",
       "      <td>no</td>\n",
       "    </tr>\n",
       "    <tr>\n",
       "      <th>1832</th>\n",
       "      <td>\"Tired of garlic struggles? Say goodbye to the...</td>\n",
       "      <td>Feb 28</td>\n",
       "      <td>@Splazzastore</td>\n",
       "      <td>11 replies, 13 reposts, 85 likes, 36 bookmarks...</td>\n",
       "      <td>UK</td>\n",
       "      <td>2024-02</td>\n",
       "      <td>13.0</td>\n",
       "      <td>yes</td>\n",
       "    </tr>\n",
       "    <tr>\n",
       "      <th>1833</th>\n",
       "      <td>Biden’s approval rate on immigration is 35%, b...</td>\n",
       "      <td>Feb 28</td>\n",
       "      <td>@DavidDeeble</td>\n",
       "      <td>5 likes, 108 views</td>\n",
       "      <td>UK</td>\n",
       "      <td>2024-02</td>\n",
       "      <td>0.0</td>\n",
       "      <td>no</td>\n",
       "    </tr>\n",
       "  </tbody>\n",
       "</table>\n",
       "</div>"
      ],
      "text/plain": [
       "                                                 Tweets    Time  \\\n",
       "1829  The “vote no” crowd left leaflets in my letter...  Feb 28   \n",
       "1830  I for one am fed up of the outrage mob using f...  Feb 28   \n",
       "1831  But Starmer, Khan and his cronies want more im...  Feb 28   \n",
       "1832  \"Tired of garlic struggles? Say goodbye to the...  Feb 28   \n",
       "1833  Biden’s approval rate on immigration is 35%, b...  Feb 28   \n",
       "\n",
       "            Account                                              Likes Region  \\\n",
       "1829       @mneylon                                 1 reply, 293 views     UK   \n",
       "1830     @Brenbyrn2                        1 reply, 7 likes, 169 views     UK   \n",
       "1831        @smupp1                                            5 views     UK   \n",
       "1832  @Splazzastore  11 replies, 13 reposts, 85 likes, 36 bookmarks...     UK   \n",
       "1833   @DavidDeeble                                 5 likes, 108 views     UK   \n",
       "\n",
       "        Month  Reposts Influential  \n",
       "1829  2024-02      0.0          no  \n",
       "1830  2024-02      0.0          no  \n",
       "1831  2024-02      0.0          no  \n",
       "1832  2024-02     13.0         yes  \n",
       "1833  2024-02      0.0          no  "
      ]
     },
     "execution_count": 8,
     "metadata": {},
     "output_type": "execute_result"
    }
   ],
   "source": [
    "print(len(uk_cleaned[uk_cleaned.Reposts >= 10]))\n",
    "uk_cleaned['Influential'] = np.where(uk_cleaned.Reposts >= 10, 'yes', 'no')\n",
    "uk_cleaned.head()"
   ]
  },
  {
   "cell_type": "markdown",
   "id": "2c4489d7",
   "metadata": {},
   "source": [
    "### Sentiment and topic, Overall"
   ]
  },
  {
   "cell_type": "code",
   "execution_count": 9,
   "id": "42707a99",
   "metadata": {},
   "outputs": [
    {
     "name": "stdout",
     "output_type": "stream",
     "text": [
      "['vote', 'crowd', 'left', 'leaflets', 'letterbox', 'today', 'apparently', 'mass', 'immigration']\n"
     ]
    }
   ],
   "source": [
    "def sent_to_words(sentences):\n",
    "    for sentence in sentences:\n",
    "        # deacc=True removes punctuations\n",
    "        yield(gensim.utils.simple_preprocess(str(sentence), deacc=True))\n",
    "def remove_stopwords(texts):\n",
    "    res = [[word for word in simple_preprocess(str(doc)) \n",
    "             if (word not in stop_words) & (word not in ['https', 'com'])] for doc in texts]\n",
    "    return res\n",
    "\n",
    "data = uk_cleaned.Tweets.values.tolist()\n",
    "data_words = list(sent_to_words(data))\n",
    "# remove stop words\n",
    "data_words = remove_stopwords(data_words)\n",
    "print(data_words[:1][0][:30])"
   ]
  },
  {
   "cell_type": "code",
   "execution_count": 10,
   "id": "8ad21d58",
   "metadata": {},
   "outputs": [
    {
     "name": "stdout",
     "output_type": "stream",
     "text": [
      "[(0, 1), (1, 1), (2, 1), (3, 1), (4, 1), (5, 1), (6, 1), (7, 1), (8, 1)]\n"
     ]
    }
   ],
   "source": [
    "import gensim.corpora as corpora\n",
    "# Create Dictionary\n",
    "id2word = corpora.Dictionary(data_words)\n",
    "# Create Corpus\n",
    "texts = data_words\n",
    "# Term Document Frequency\n",
    "corpus = [id2word.doc2bow(text) for text in texts]\n",
    "# View\n",
    "print(corpus[:1][0][:30])"
   ]
  },
  {
   "cell_type": "code",
   "execution_count": 11,
   "id": "52c2aa55",
   "metadata": {},
   "outputs": [
    {
     "name": "stdout",
     "output_type": "stream",
     "text": [
      "[(0,\n",
      "  '0.050*\"immigration\" + 0.008*\"people\" + 0.005*\"get\" + 0.004*\"one\" + '\n",
      "  '0.004*\"country\" + 0.004*\"uk\" + 0.004*\"illegal\" + 0.004*\"labour\" + '\n",
      "  '0.004*\"stop\" + 0.004*\"like\"'),\n",
      " (1,\n",
      "  '0.043*\"immigration\" + 0.007*\"uk\" + 0.006*\"people\" + 0.006*\"brexit\" + '\n",
      "  '0.005*\"illegal\" + 0.004*\"eu\" + 0.004*\"mass\" + 0.003*\"right\" + 0.003*\"get\" + '\n",
      "  '0.003*\"us\"'),\n",
      " (2,\n",
      "  '0.055*\"immigration\" + 0.007*\"uk\" + 0.007*\"people\" + 0.006*\"would\" + '\n",
      "  '0.006*\"illegal\" + 0.005*\"country\" + 0.004*\"right\" + 0.004*\"us\" + '\n",
      "  '0.004*\"labour\" + 0.004*\"need\"')]\n"
     ]
    }
   ],
   "source": [
    "from pprint import pprint\n",
    "# number of topics\n",
    "num_topics = 3\n",
    "# Build LDA model\n",
    "lda_model = gensim.models.LdaMulticore(corpus=corpus,\n",
    "                                       id2word=id2word,\n",
    "                                       num_topics=num_topics,\n",
    "                                       alpha = 'symmetric',\n",
    "                                       eta = 'auto',\n",
    "                                       random_state = 9)\n",
    "# Print the Keyword in the 10 topics\n",
    "pprint(lda_model.print_topics())\n",
    "doc_lda = lda_model[corpus]"
   ]
  },
  {
   "cell_type": "markdown",
   "id": "86b4742f",
   "metadata": {},
   "source": [
    "topic 1 (0): illegal, labour\n",
    "\n",
    "topic 2 (2): government, tories\n",
    "\n",
    "topic 3 (1): eu, visa, brexit"
   ]
  },
  {
   "cell_type": "code",
   "execution_count": 1,
   "id": "401e2b65",
   "metadata": {},
   "outputs": [
    {
     "ename": "NameError",
     "evalue": "name 'pyLDAvis' is not defined",
     "output_type": "error",
     "traceback": [
      "\u001b[0;31m---------------------------------------------------------------------------\u001b[0m",
      "\u001b[0;31mNameError\u001b[0m                                 Traceback (most recent call last)",
      "Cell \u001b[0;32mIn[1], line 2\u001b[0m\n\u001b[1;32m      1\u001b[0m \u001b[38;5;66;03m# Visualize the topics\u001b[39;00m\n\u001b[0;32m----> 2\u001b[0m pyLDAvis\u001b[38;5;241m.\u001b[39menable_notebook()\n\u001b[1;32m      3\u001b[0m LDAvis_data_filepath \u001b[38;5;241m=\u001b[39m os\u001b[38;5;241m.\u001b[39mpath\u001b[38;5;241m.\u001b[39mjoin(\u001b[38;5;124m'\u001b[39m\u001b[38;5;124mldavis_prepared_\u001b[39m\u001b[38;5;124m'\u001b[39m\u001b[38;5;241m+\u001b[39m\u001b[38;5;28mstr\u001b[39m(num_topics))\n\u001b[1;32m      4\u001b[0m \u001b[38;5;66;03m# # this is a bit time consuming - make the if statement True\u001b[39;00m\n\u001b[1;32m      5\u001b[0m \u001b[38;5;66;03m# # if you want to execute visualization prep yourself\u001b[39;00m\n",
      "\u001b[0;31mNameError\u001b[0m: name 'pyLDAvis' is not defined"
     ]
    }
   ],
   "source": [
    "# Visualize the topics\n",
    "pyLDAvis.enable_notebook()\n",
    "LDAvis_data_filepath = os.path.join('ldavis_prepared_'+str(num_topics))\n",
    "# # this is a bit time consuming - make the if statement True\n",
    "# # if you want to execute visualization prep yourself\n",
    "if 1 == 1:\n",
    "    LDAvis_prepared = pyLDAvis.gensim.prepare(lda_model, corpus, id2word)\n",
    "    with open(LDAvis_data_filepath, 'wb') as f:\n",
    "        pickle.dump(LDAvis_prepared, f)\n",
    "# load the pre-prepared pyLDAvis data from disk\n",
    "with open(LDAvis_data_filepath, 'rb') as f:\n",
    "    LDAvis_prepared = pickle.load(f)\n",
    "pyLDAvis.save_html(LDAvis_prepared, 'ldavis_prepared_'+ str(num_topics) +'.html')\n",
    "LDAvis_prepared"
   ]
  },
  {
   "cell_type": "markdown",
   "id": "7c81f22c",
   "metadata": {},
   "source": [
    "#### Sentiment analysis"
   ]
  },
  {
   "cell_type": "code",
   "execution_count": 13,
   "id": "2d606e0c",
   "metadata": {},
   "outputs": [
    {
     "data": {
      "text/html": [
       "<div>\n",
       "<style scoped>\n",
       "    .dataframe tbody tr th:only-of-type {\n",
       "        vertical-align: middle;\n",
       "    }\n",
       "\n",
       "    .dataframe tbody tr th {\n",
       "        vertical-align: top;\n",
       "    }\n",
       "\n",
       "    .dataframe thead th {\n",
       "        text-align: right;\n",
       "    }\n",
       "</style>\n",
       "<table border=\"1\" class=\"dataframe\">\n",
       "  <thead>\n",
       "    <tr style=\"text-align: right;\">\n",
       "      <th></th>\n",
       "      <th>Tweets</th>\n",
       "      <th>Time</th>\n",
       "      <th>Account</th>\n",
       "      <th>Likes</th>\n",
       "      <th>Region</th>\n",
       "      <th>Month</th>\n",
       "      <th>Reposts</th>\n",
       "      <th>Influential</th>\n",
       "      <th>Sentiment</th>\n",
       "    </tr>\n",
       "  </thead>\n",
       "  <tbody>\n",
       "    <tr>\n",
       "      <th>1829</th>\n",
       "      <td>The “vote no” crowd left leaflets in my letter...</td>\n",
       "      <td>Feb 28</td>\n",
       "      <td>@mneylon</td>\n",
       "      <td>1 reply, 293 views</td>\n",
       "      <td>UK</td>\n",
       "      <td>2024-02</td>\n",
       "      <td>0.0</td>\n",
       "      <td>no</td>\n",
       "      <td>0.0000</td>\n",
       "    </tr>\n",
       "    <tr>\n",
       "      <th>1830</th>\n",
       "      <td>I for one am fed up of the outrage mob using f...</td>\n",
       "      <td>Feb 28</td>\n",
       "      <td>@Brenbyrn2</td>\n",
       "      <td>1 reply, 7 likes, 169 views</td>\n",
       "      <td>UK</td>\n",
       "      <td>2024-02</td>\n",
       "      <td>0.0</td>\n",
       "      <td>no</td>\n",
       "      <td>-0.5106</td>\n",
       "    </tr>\n",
       "    <tr>\n",
       "      <th>1831</th>\n",
       "      <td>But Starmer, Khan and his cronies want more im...</td>\n",
       "      <td>Feb 28</td>\n",
       "      <td>@smupp1</td>\n",
       "      <td>5 views</td>\n",
       "      <td>UK</td>\n",
       "      <td>2024-02</td>\n",
       "      <td>0.0</td>\n",
       "      <td>no</td>\n",
       "      <td>0.7351</td>\n",
       "    </tr>\n",
       "    <tr>\n",
       "      <th>1832</th>\n",
       "      <td>\"Tired of garlic struggles? Say goodbye to the...</td>\n",
       "      <td>Feb 28</td>\n",
       "      <td>@Splazzastore</td>\n",
       "      <td>11 replies, 13 reposts, 85 likes, 36 bookmarks...</td>\n",
       "      <td>UK</td>\n",
       "      <td>2024-02</td>\n",
       "      <td>13.0</td>\n",
       "      <td>yes</td>\n",
       "      <td>-0.8202</td>\n",
       "    </tr>\n",
       "    <tr>\n",
       "      <th>1833</th>\n",
       "      <td>Biden’s approval rate on immigration is 35%, b...</td>\n",
       "      <td>Feb 28</td>\n",
       "      <td>@DavidDeeble</td>\n",
       "      <td>5 likes, 108 views</td>\n",
       "      <td>UK</td>\n",
       "      <td>2024-02</td>\n",
       "      <td>0.0</td>\n",
       "      <td>no</td>\n",
       "      <td>0.2617</td>\n",
       "    </tr>\n",
       "  </tbody>\n",
       "</table>\n",
       "</div>"
      ],
      "text/plain": [
       "                                                 Tweets    Time  \\\n",
       "1829  The “vote no” crowd left leaflets in my letter...  Feb 28   \n",
       "1830  I for one am fed up of the outrage mob using f...  Feb 28   \n",
       "1831  But Starmer, Khan and his cronies want more im...  Feb 28   \n",
       "1832  \"Tired of garlic struggles? Say goodbye to the...  Feb 28   \n",
       "1833  Biden’s approval rate on immigration is 35%, b...  Feb 28   \n",
       "\n",
       "            Account                                              Likes Region  \\\n",
       "1829       @mneylon                                 1 reply, 293 views     UK   \n",
       "1830     @Brenbyrn2                        1 reply, 7 likes, 169 views     UK   \n",
       "1831        @smupp1                                            5 views     UK   \n",
       "1832  @Splazzastore  11 replies, 13 reposts, 85 likes, 36 bookmarks...     UK   \n",
       "1833   @DavidDeeble                                 5 likes, 108 views     UK   \n",
       "\n",
       "        Month  Reposts Influential  Sentiment  \n",
       "1829  2024-02      0.0          no     0.0000  \n",
       "1830  2024-02      0.0          no    -0.5106  \n",
       "1831  2024-02      0.0          no     0.7351  \n",
       "1832  2024-02     13.0         yes    -0.8202  \n",
       "1833  2024-02      0.0          no     0.2617  "
      ]
     },
     "execution_count": 13,
     "metadata": {},
     "output_type": "execute_result"
    }
   ],
   "source": [
    "from nltk.sentiment.vader import SentimentIntensityAnalyzer\n",
    "\n",
    "def tweet_sentiment(tweet):\n",
    "    sid = SentimentIntensityAnalyzer()\n",
    "    ss = sid.polarity_scores(tweet)\n",
    "    return ss['compound']\n",
    "\n",
    "uk_cleaned['Sentiment'] = uk_cleaned['Tweets'].apply(tweet_sentiment)\n",
    "uk_cleaned.head()"
   ]
  },
  {
   "cell_type": "code",
   "execution_count": 14,
   "id": "059c7e81",
   "metadata": {},
   "outputs": [
    {
     "data": {
      "text/plain": [
       "<AxesSubplot: >"
      ]
     },
     "execution_count": 14,
     "metadata": {},
     "output_type": "execute_result"
    },
    {
     "data": {
      "image/png": "[encoded data removed]",
      "text/plain": [
       "<Figure size 640x480 with 1 Axes>"
      ]
     },
     "metadata": {},
     "output_type": "display_data"
    }
   ],
   "source": [
    "uk_cleaned['Sentiment'].hist()"
   ]
  },
  {
   "cell_type": "markdown",
   "id": "b1aae36d",
   "metadata": {},
   "source": [
    "Topical sentiment"
   ]
  },
  {
   "cell_type": "code",
   "execution_count": 64,
   "id": "87d1a1f6",
   "metadata": {},
   "outputs": [],
   "source": [
    "def topic_classify(text, lda_model):\n",
    "    #clean_text = remove_stopwords(sent_to_words(text))\n",
    "    clean_text = text.split()\n",
    "    new_text_corpus =  id2word.doc2bow(clean_text)\n",
    "    lda_res = lda_model[new_text_corpus]\n",
    "    res = max(lda_res, key=lambda item: item[1])[0]\n",
    "    return 'topic ' + str(res)"
   ]
  },
  {
   "cell_type": "code",
   "execution_count": 65,
   "id": "c1f9de83",
   "metadata": {},
   "outputs": [
    {
     "data": {
      "text/plain": [
       "topic_class\n",
       "topic 0    4177\n",
       "topic 2    3859\n",
       "topic 1    2718\n",
       "Name: count, dtype: int64"
      ]
     },
     "execution_count": 65,
     "metadata": {},
     "output_type": "execute_result"
    }
   ],
   "source": [
    "uk_cleaned['topic_class'] = uk_cleaned['Tweets'].apply(lambda x: topic_classify(x, lda_model))\n",
    "uk_cleaned['topic_class'].value_counts()"
   ]
  },
  {
   "cell_type": "code",
   "execution_count": 66,
   "id": "0c7d14a7",
   "metadata": {},
   "outputs": [
    {
     "data": {
      "text/plain": [
       "{'topic 0': [44.45774479291357, 13.861623174527173, 41.68063203255925],\n",
       " 'topic 1': [49.96320824135394, 10.89036055923473, 39.14643119941133],\n",
       " 'topic 2': [47.473438714692925, 12.619849701995335, 39.90671158331174]}"
      ]
     },
     "execution_count": 66,
     "metadata": {},
     "output_type": "execute_result"
    }
   ],
   "source": [
    "topic_pct = uk_cleaned.groupby('topic_class')['Sentiment'].apply(lambda x: [100*(x<0).sum()/len(x), 100*(x==0).sum()/len(x), 100*(x>0).sum()/len(x)])\n",
    "topic_dict = topic_pct.to_dict()\n",
    "topic_dict"
   ]
  },
  {
   "cell_type": "code",
   "execution_count": 67,
   "id": "94cd9413",
   "metadata": {},
   "outputs": [
    {
     "data": {
      "image/png": "[encoded data removed]",
      "text/plain": [
       "<Figure size 1000x500 with 1 Axes>"
      ]
     },
     "metadata": {},
     "output_type": "display_data"
    }
   ],
   "source": [
    "import matplotlib.pyplot as plt\n",
    "\n",
    "category_names = ['Negative', 'Neutral', 'Positive']\n",
    "def survey(results, category_names):\n",
    "    \"\"\"\n",
    "    Parameters\n",
    "    ----------\n",
    "    results : dict\n",
    "        A mapping from question labels to a list of answers per category.\n",
    "        It is assumed all lists contain the same number of entries and that\n",
    "        it matches the length of *category_names*. The order is assumed\n",
    "        to be from 'Strongly disagree' to 'Strongly aisagree'\n",
    "    category_names : list of str\n",
    "        The category labels.\n",
    "    \"\"\"\n",
    "    \n",
    "    labels = list(results.keys())\n",
    "    data = np.array(list(results.values()))\n",
    "    data_cum = data.cumsum(axis=1)\n",
    "    middle_index = data.shape[1]//2\n",
    "    offsets = data[:, range(middle_index)].sum(axis=1) + data[:, middle_index]/2\n",
    "    \n",
    "    # Color Mapping\n",
    "    category_colors = plt.get_cmap('coolwarm_r')(\n",
    "        np.linspace(0.15, 0.85, data.shape[1]))\n",
    "    \n",
    "    fig, ax = plt.subplots(figsize=(10, 5))\n",
    "    \n",
    "    # Plot Bars\n",
    "    for i, (colname, color) in enumerate(zip(category_names, category_colors)):\n",
    "        widths = data[:, i]\n",
    "        starts = data_cum[:, i] - widths - offsets\n",
    "        rects = ax.barh(labels, widths, left=starts, height=0.5,\n",
    "                        label=colname, color=color)\n",
    "    \n",
    "    # Add Zero Reference Line\n",
    "    ax.axvline(0, linestyle='--', color='black', alpha=.25)\n",
    "    \n",
    "    # X Axis\n",
    "    ax.set_xlim(-90, 90)\n",
    "    ax.set_xticks(np.arange(-90, 91, 10))\n",
    "    ax.xaxis.set_major_formatter(lambda x, pos: str(abs(int(x))))\n",
    "    \n",
    "    # Y Axis\n",
    "    ax.invert_yaxis()\n",
    "    \n",
    "    # Remove spines\n",
    "    ax.spines['right'].set_visible(False)\n",
    "    ax.spines['top'].set_visible(False)\n",
    "    ax.spines['left'].set_visible(False)\n",
    "    \n",
    "    # Ledgend\n",
    "    ax.legend(ncol=len(category_names), bbox_to_anchor=(0, 1),\n",
    "              loc='lower left', fontsize='small')\n",
    "    \n",
    "    # Set Background Color\n",
    "    fig.set_facecolor('#FFFFFF')\n",
    "\n",
    "    return fig, ax\n",
    "\n",
    "\n",
    "fig, ax = survey(topic_pct.to_dict(), category_names)\n",
    "plt.show()"
   ]
  },
  {
   "cell_type": "markdown",
   "id": "5fb881c9",
   "metadata": {},
   "source": [
    "### Sentiment and topic, influence"
   ]
  },
  {
   "cell_type": "code",
   "execution_count": 69,
   "id": "a36a24fe",
   "metadata": {},
   "outputs": [
    {
     "name": "stdout",
     "output_type": "stream",
     "text": [
      "['vote', 'crowd', 'left', 'leaflets', 'letterbox', 'today', 'apparently', 'mass', 'immigration']\n"
     ]
    }
   ],
   "source": [
    "inf_data = uk_cleaned[uk_cleaned.Influential == 'yes'].Tweets.values.tolist()\n",
    "inf_words = list(sent_to_words(data))\n",
    "# remove stop words\n",
    "inf_words = remove_stopwords(inf_words)\n",
    "print(inf_words[:1][0][:30])"
   ]
  },
  {
   "cell_type": "code",
   "execution_count": 70,
   "id": "8cc3dd45",
   "metadata": {},
   "outputs": [
    {
     "name": "stdout",
     "output_type": "stream",
     "text": [
      "[(0, 1), (1, 1), (2, 1), (3, 1), (4, 1), (5, 1), (6, 1), (7, 1), (8, 1)]\n"
     ]
    }
   ],
   "source": [
    "import gensim.corpora as corpora\n",
    "# Create Dictionary\n",
    "inf_id2word = corpora.Dictionary(inf_words)\n",
    "# Create Corpus\n",
    "inf_texts = inf_words\n",
    "# Term Document Frequency\n",
    "inf_corpus = [id2word.doc2bow(text) for text in inf_texts]\n",
    "# View\n",
    "print(inf_corpus[:1][0][:30])"
   ]
  },
  {
   "cell_type": "code",
   "execution_count": 71,
   "id": "f6331080",
   "metadata": {},
   "outputs": [
    {
     "name": "stdout",
     "output_type": "stream",
     "text": [
      "[(0,\n",
      "  '0.050*\"immigration\" + 0.008*\"people\" + 0.005*\"get\" + 0.004*\"one\" + '\n",
      "  '0.004*\"country\" + 0.004*\"uk\" + 0.004*\"illegal\" + 0.004*\"labour\" + '\n",
      "  '0.004*\"stop\" + 0.004*\"like\"'),\n",
      " (1,\n",
      "  '0.043*\"immigration\" + 0.007*\"uk\" + 0.006*\"people\" + 0.006*\"brexit\" + '\n",
      "  '0.005*\"illegal\" + 0.004*\"eu\" + 0.004*\"mass\" + 0.003*\"right\" + 0.003*\"get\" + '\n",
      "  '0.003*\"us\"'),\n",
      " (2,\n",
      "  '0.055*\"immigration\" + 0.007*\"uk\" + 0.007*\"people\" + 0.006*\"would\" + '\n",
      "  '0.006*\"illegal\" + 0.005*\"country\" + 0.004*\"right\" + 0.004*\"us\" + '\n",
      "  '0.004*\"labour\" + 0.004*\"need\"')]\n"
     ]
    }
   ],
   "source": [
    "from pprint import pprint\n",
    "# number of topics\n",
    "inf_num_topics = 3\n",
    "# Build LDA model\n",
    "inf_lda_model = gensim.models.LdaMulticore(corpus=inf_corpus,\n",
    "                                       id2word=inf_id2word,\n",
    "                                       num_topics=inf_num_topics,\n",
    "                                       alpha = 'symmetric',\n",
    "                                       eta = 'auto',\n",
    "                                       random_state = 9)\n",
    "# Print the Keyword in the 10 topics\n",
    "pprint(inf_lda_model.print_topics())\n",
    "inf_doc_lda = inf_lda_model[inf_corpus]"
   ]
  },
  {
   "cell_type": "markdown",
   "id": "fb307563",
   "metadata": {},
   "source": [
    "topic 1 (0): EU asylum\n",
    "\n",
    "topic 2 (2):  uk, brexit, britain\n",
    "\n",
    "topic 3 (1): labour, work"
   ]
  },
  {
   "cell_type": "code",
   "execution_count": 62,
   "id": "83dc4f2a",
   "metadata": {},
   "outputs": [
    {
     "data": {
      "text/html": [
       "\n",
       "<link rel=\"stylesheet\" type=\"text/css\" href=\"https://cdn.jsdelivr.net/gh/bmabey/pyLDAvis@3.4.0/pyLDAvis/js/ldavis.v1.0.0.css\">\n",
       "\n",
       "\n",
       "<div id=\"ldavis_el7275627533813342886503035487\" style=\"background-color:white;\"></div>\n",
       "<script type=\"text/javascript\">\n",
       "\n",
       "var ldavis_el7275627533813342886503035487_data = {\"mdsDat\": {\"x\": [0.01839538922970871, -0.03208516543810542, 0.013689776208396712], \"y\": [0.022755195546901, 0.002339208759563342, -0.025094404306464344], \"topics\": [1, 2, 3], \"cluster\": [1, 1, 1], \"Freq\": [35.96784225776843, 34.84580945246152, 29.18634828977005]}, \"tinfo\": {\"Term\": [\"brexit\", \"would\", \"free\", \"seconds\", \"upload\", \"pdf\", \"ai\", \"property\", \"one\", \"uk\", \"inspection\", \"world\", \"try\", \"report\", \"file\", \"chatgpt\", \"issue\", \"said\", \"news\", \"research\", \"think\", \"time\", \"yes\", \"things\", \"eu\", \"good\", \"twclid\", \"best\", \"researchers\", \"low\", \"ilford\", \"medieval\", \"tudor\", \"justin\", \"eddie\", \"cardiff\", \"disc\", \"cofe\", \"handy\", \"harrow\", \"smes\", \"pillars\", \"terry\", \"criticial\", \"catlovers\", \"gentle\", \"pissed\", \"bristles\", \"noah\", \"billablehour\", \"watford\", \"replicacoins\", \"replica\", \"meticulously\", \"globalization\", \"redbridge\", \"footballfever\", \"player\", \"footballfans\", \"publication\", \"romford\", \"evergreen\", \"facilitates\", \"changer\", \"property\", \"inspection\", \"welby\", \"busters\", \"apply\", \"ltd\", \"report\", \"former\", \"would\", \"unlawful\", \"jail\", \"facilitation\", \"fined\", \"trade\", \"engineers\", \"australia\", \"capita\", \"secretary\", \"mps\", \"morning\", \"immigration\", \"stopping\", \"good\", \"visa\", \"problem\", \"non\", \"section\", \"latest\", \"immigrants\", \"allowed\", \"uk\", \"us\", \"done\", \"british\", \"benefits\", \"co\", \"country\", \"minister\", \"illegal\", \"right\", \"law\", \"policy\", \"home\", \"people\", \"go\", \"need\", \"want\", \"labour\", \"tory\", \"many\", \"government\", \"well\", \"like\", \"eu\", \"mass\", \"get\", \"asylum\", \"anti\", \"brexit\", \"years\", \"stop\", \"upload\", \"file\", \"seconds\", \"citations\", \"pdf\", \"professors\", \"coral\", \"researchers\", \"\\u3055\\u3089\\u306b\\u30cf\\u30a4\\u30a8\\u30f3\\u30c8\\u306a\", \"multichain\", \"\\u753b\\u50cf\\u30bf\\u30c3\\u30d5\\u3066\", \"assignment\", \"raccoon\", \"xlh\", \"\\u9078\\u624b\\u304b\\u3044\\u3061\\u65e9\\u304f\\u4f53\\u611f\", \"summary\", \"\\u30ea\\u30a2\\u30eb\\u306a\\u611f\\u60f3\\u3092\\u52d5\\u753b\\u3066\\u30c1\\u30a7\\u30c3\\u30af\", \"\\u65b0\\u767b\\u5834\\u3057\\u305f\", \"quillbot\", \"\\u52d5\\u753b\\u672c\\u7bc7\\u3078\", \"breakthroughs\", \"\\u3046\\u304a\\u3063\\u304b\", \"wasting\", \"\\u30ed\\u30b7\\u30af\\u30fc\\u30eb\\u53f2\\u4e0a\\u6700\\u8efd\\u91cf\", \"\\u6700\\u9ad8\\u5cf0\\u30de\\u30a6\\u30b9\\u304b\\u65b0\\u767a\\u58f2\", \"\\u30bf\\u30c3\\u30d5\\u3057\\u3066\\u8a73\\u7d30\\u30c1\\u30a7\\u30c3\\u30af\", \"\\u304a\\u307b\", \"\\u30b9\\u30a4\\u30c3\\u30c1\\u3068\\u30bb\\u30f3\\u30b5\\u30fc\\u306e\\u9032\\u5316\\u3066\", \"superlight\\u304b\\u9032\\u5316\\u3057\\u305f\", \"\\u3057\\u304b\\u3082\", \"readers\", \"chatgpt\", \"research\", \"ai\", \"tool\", \"try\", \"page\", \"free\", \"things\", \"ask\", \"crisis\", \"immigration\", \"one\", \"stop\", \"best\", \"irish\", \"housing\", \"new\", \"mess\", \"policies\", \"get\", \"people\", \"control\", \"take\", \"much\", \"labour\", \"think\", \"time\", \"work\", \"country\", \"years\", \"tories\", \"need\", \"like\", \"want\", \"illegal\", \"mass\", \"party\", \"uk\", \"policy\", \"government\", \"right\", \"legal\", \"eu\", \"back\", \"brexit\", \"dragon\", \"bookstore\", \"girlfriend\", \"bookish\", \"silk\", \"dust\", \"roommate\", \"strategist\", \"tenants\", \"bari\", \"xbox\", \"cryptogaming\", \"esim\", \"seo\", \"chatting\", \"outlet\", \"dirt\", \"owed\", \"metaverse\", \"bisexuality\", \"leonard\", \"breathes\", \"\\u8010\\u4e45\\u6027\\u3082\\u30a2\\u30c3\\u30d5\", \"cigarettes\", \"fleshes\", \"dualities\", \"annoying\", \"gift\", \"cousin\", \"brother\", \"trimmer\", \"blade\", \"till\", \"authors\", \"facebook\", \"books\", \"tee\", \"brexit\", \"nigeria\", \"said\", \"yes\", \"issue\", \"low\", \"news\", \"world\", \"always\", \"deserve\", \"end\", \"ever\", \"immigration\", \"twclid\", \"probably\", \"uk\", \"eu\", \"immigrant\", \"made\", \"nothing\", \"britain\", \"class\", \"west\", \"jews\", \"see\", \"development\", \"illegal\", \"make\", \"mass\", \"never\", \"even\", \"economic\", \"also\", \"know\", \"people\", \"think\", \"us\", \"time\", \"government\", \"right\", \"one\", \"tories\", \"get\", \"many\", \"like\", \"legal\", \"country\", \"policy\", \"labour\"], \"Freq\": [627.0, 601.0, 320.0, 66.0, 61.0, 71.0, 165.0, 133.0, 545.0, 1161.0, 128.0, 318.0, 179.0, 156.0, 44.0, 92.0, 277.0, 184.0, 192.0, 92.0, 433.0, 407.0, 178.0, 168.0, 583.0, 261.0, 337.0, 145.0, 39.0, 111.0, 9.376378493151181, 6.654888815608654, 5.743553814746487, 8.996943309131982, 5.719415191056646, 6.477547278712942, 5.645612111615346, 4.836207724319323, 4.765621830180689, 3.94077170879192, 3.940114045233152, 3.9377297340464668, 4.700969134569206, 3.9016331146207044, 4.677910227219113, 4.660625780626387, 3.8830942403063964, 4.6502184731981036, 3.8708849097683187, 3.810099575387621, 3.029958595786065, 3.0271622153259354, 3.024228312049532, 3.023649518200278, 3.0223017446832574, 3.0209048023916343, 3.020339985452927, 3.0173406902021798, 3.0165375170211104, 4.529530845678044, 5.252709175933473, 15.565720878036677, 14.023187099351222, 9.562958268743005, 102.24860026129551, 97.49766466987195, 9.51025233742147, 5.93445944415257, 31.90736195827744, 12.232960502058457, 112.17092886061691, 42.355477971954436, 391.8144937565413, 54.60970634011148, 18.350745098346934, 18.284025317500642, 20.157570275264874, 51.88031920893459, 17.377097536039134, 19.82875946124648, 14.639339233795415, 36.06424291083142, 49.964859493141766, 36.54738078100396, 3747.9650138912048, 51.81930001088992, 150.36016933675697, 132.24565399366742, 202.03549119540196, 82.19802722967002, 24.669957940981792, 36.75342839628608, 198.61054111415802, 64.08585601414931, 483.9610862433307, 263.81348373345327, 96.45053050531166, 152.3495070082976, 81.55865146000143, 98.72589167428366, 309.221942269566, 104.00212748489518, 384.1504505349066, 279.74283290803135, 115.62550999222024, 236.2816215756981, 126.6566149250167, 466.82293397659805, 138.21407433539665, 240.8059075856934, 217.44692794636688, 248.13576686955517, 163.68484535626652, 157.42909966772353, 213.31370790666728, 137.68897378635936, 215.30871621048692, 205.06769807708457, 220.706167776167, 222.4141462449959, 151.10856500869124, 144.6724932136754, 173.68258537809285, 148.2122616183605, 143.0599411032546, 59.15728631007612, 43.01271365543622, 62.70592534966363, 10.28268165342685, 66.34759033527708, 7.562348326089046, 10.73779789198648, 35.13712429775144, 13.008410543666564, 8.105894344158543, 12.979814108646782, 4.863959952893291, 12.811101332153314, 7.986324375854217, 12.797588486531268, 12.717611126883332, 12.689362886296584, 12.680082537449435, 37.980642528653206, 12.671075908114922, 3.957215223344936, 4.738261278964164, 20.462849062527553, 3.9349102264870592, 3.9305149971750573, 3.919183686396654, 5.48546331929574, 3.914497569652054, 3.913938040542301, 3.909808067683799, 19.407963077030807, 72.37657694328348, 71.48416234906804, 120.64397790185033, 56.33312382082408, 125.01044441927007, 39.79990427768424, 204.53091106983092, 108.62688271227584, 82.95835277865388, 97.56825073203656, 3321.997735594012, 279.27425068865017, 253.44531144855583, 88.70215267069624, 118.7142456656983, 137.51954608037752, 215.33557003061424, 38.2625755610819, 156.47704615056352, 312.5600290547799, 510.16946928350234, 173.7271090483013, 132.41992136475864, 135.20925280422603, 270.22450714567293, 199.98011815721634, 189.19721747967068, 162.61726153578954, 278.3981934951333, 190.15982807158605, 200.98492991441557, 228.0802755204215, 238.58598247865478, 200.26693751818863, 274.90030959740125, 219.48453109219793, 151.4445378463257, 276.6969309706309, 182.868218810507, 184.27241732005177, 187.96029157575603, 150.522611839497, 154.97776734783787, 138.5484528923428, 140.02136177000656, 4.605544480235527, 4.590722552981299, 4.517242378749765, 3.7603292633213434, 3.757003322003994, 3.7547443066919906, 4.50107524980087, 4.492366881467939, 3.737662554007305, 3.6536804091832824, 2.893889955532014, 2.8925878926450794, 3.6138092142386133, 5.7677918584217265, 2.8642377973093955, 2.8460538784665674, 3.5510797169652784, 2.8309684601848244, 3.523491132977374, 2.8127013016707365, 2.808126562754874, 2.807757351268969, 3.5073547885297724, 2.8034341541334102, 2.8017687531193705, 2.776067745131813, 2.769094245470445, 25.572813222988014, 4.835512401021152, 4.816199987170391, 10.55675971372445, 6.053150818455303, 11.022349371993736, 5.397018869194765, 7.878060105709251, 24.33320884870347, 8.873738623286288, 313.55057999707674, 23.02596930484083, 97.0239145445734, 92.74004703977212, 136.0309561332037, 60.9632219295045, 98.33259933975991, 150.43198472385464, 83.61848264953555, 21.499563554613434, 66.24055389814508, 96.6010067872287, 2421.544594707537, 144.84846686487793, 46.05912274014135, 401.2097779578307, 223.42906263730535, 53.47048170506094, 80.71530974915633, 115.15645891545368, 98.31399253908353, 44.70999683167702, 31.56349823772711, 25.385272420872848, 131.51497996959924, 23.683772528474208, 299.5448892125071, 119.61506573054288, 220.9451746445397, 109.05157474257513, 130.56473046462798, 64.4715403539366, 111.78203686927796, 123.48096396010166, 331.47371846873915, 146.12122128634454, 176.2066616432437, 136.58424759518354, 170.3530308484989, 184.62008528952177, 162.91301961405986, 147.97875161342938, 178.62360144688117, 123.01287103580616, 161.72447862623622, 115.35012259285237, 133.51050263384934, 123.74783642204943, 114.06104914522655], \"Total\": [627.0, 601.0, 320.0, 66.0, 61.0, 71.0, 165.0, 133.0, 545.0, 1161.0, 128.0, 318.0, 179.0, 156.0, 44.0, 92.0, 277.0, 184.0, 192.0, 92.0, 433.0, 407.0, 178.0, 168.0, 583.0, 261.0, 337.0, 145.0, 39.0, 111.0, 10.047554550710506, 7.3069707185998745, 6.389210760137256, 10.034183235068781, 6.391147509695021, 7.299675904713572, 6.391241882331563, 5.477889044857707, 5.474445673093417, 4.5627876400298195, 4.564531430145542, 4.5630696742846295, 5.470132610353568, 4.562325392665461, 5.471894357436117, 5.470668633124592, 4.561470598679866, 5.4703069658986765, 4.559833431538568, 4.56092604649302, 3.6486133631745825, 3.6479355216328537, 3.648790231372595, 3.6487978131382017, 3.64858677906634, 3.6476497864088504, 3.648581780666648, 3.648787641009072, 3.648219055684316, 5.478906835501321, 6.370613113337592, 19.128521929081103, 17.365667047161356, 11.819089318212702, 133.2062153510876, 128.69238927023997, 11.808367819788254, 7.278513794339848, 41.783083682958846, 15.455240710826754, 156.81628018552533, 56.418147042839365, 601.3421510601088, 75.78148584062161, 23.784085433581964, 23.784853335070135, 26.50504424811155, 74.65610341772717, 22.75520002341306, 26.42222451945338, 19.11515151795324, 51.68411190992785, 74.32661843095526, 52.655932543120294, 9491.507344192752, 78.87425161742408, 261.29510605050075, 230.1685906102963, 379.0438462957569, 137.88112599400773, 34.63802407004773, 55.23122577294974, 393.3204898154694, 105.43062575627545, 1161.8677951717923, 568.9283092299806, 175.1156667183432, 304.21803559925934, 143.32529922576987, 181.11794420152353, 721.1306383985486, 193.47069284468054, 958.595649344815, 652.3232097733091, 223.01815470877085, 542.8976768082546, 249.8863781055021, 1308.4661217288397, 279.80107775787235, 574.968783886915, 528.1076444635147, 632.4213231604547, 366.0890471512298, 352.12365214797757, 567.939156075218, 301.583119553992, 615.6191773153779, 583.4745280622278, 661.1358735129047, 713.5977767466569, 363.3956281225355, 363.91465145781217, 627.2545271451761, 434.1775536733345, 493.2874601541248, 61.48374812011257, 44.97876530066252, 66.08592887650133, 11.004898551823851, 71.50715400083136, 8.256084987777033, 11.91685615527966, 39.42002068803596, 14.686281244572777, 9.164084418737747, 14.677886114090777, 5.500814618309253, 14.676491047966575, 9.151696134826699, 14.679867499214586, 14.661348365392325, 14.676595430081978, 14.673734111991992, 43.961722141927005, 14.668529347390876, 4.581264022191249, 5.495705426515534, 23.765808031972114, 4.582459190162863, 4.58137695431753, 4.579319167675027, 6.413174477836664, 4.578643967714243, 4.579732638311192, 4.577644215301577, 23.71863569499718, 92.89494272224407, 92.37502899929018, 165.6802785275561, 74.77429658074603, 179.5537435263046, 53.89983130960698, 320.0465389246485, 168.2776198127781, 126.87918708992734, 155.70991369503776, 9491.507344192752, 545.2764259906829, 493.2874601541248, 145.0143679092481, 206.7022203232107, 250.25063978246163, 434.8709515346493, 54.725996965113495, 299.6740505748373, 713.5977767466569, 1308.4661217288397, 352.81033587863965, 252.64149160650186, 259.6664290006153, 632.4213231604547, 433.9438820965437, 407.06671219094665, 336.60304429433097, 721.1306383985486, 434.1775536733345, 474.1208055685561, 574.968783886915, 615.6191773153779, 528.1076444635147, 958.595649344815, 661.1358735129047, 359.10136591282054, 1161.8677951717923, 542.8976768082546, 567.939156075218, 652.3232097733091, 370.2344598717947, 583.4745280622278, 336.0503806915909, 627.2545271451761, 5.27811344417624, 5.2730136551339495, 5.280969634765745, 4.403655272385065, 4.403215914643592, 4.401826466394325, 5.282124118599366, 5.282061680932315, 4.404353997370245, 4.408072589236681, 3.5281707460147933, 3.5277804479352675, 4.409983663951301, 7.057234506925558, 3.5295002124837165, 3.5315607753989644, 4.412241176948693, 3.532178913959882, 4.413339873218735, 3.532934672153642, 3.5316817365718367, 3.531994204363492, 4.412250765536672, 3.532100522797301, 3.5322259629869603, 3.5326897234896877, 3.534524623520457, 32.69421403589853, 6.182355166815234, 6.180958230768752, 14.143475849574433, 7.95798346811933, 15.047342592261149, 7.07154545996168, 10.614017927619983, 37.29700273992145, 12.39449520433165, 627.2545271451761, 36.46054835779802, 184.03325671096064, 178.6940286312003, 277.4809834162359, 111.56102239831593, 192.14747475046528, 318.0948013080514, 168.2169666159487, 34.699585875523034, 129.637077718942, 203.2348849328372, 9491.507344192752, 337.64656634016717, 87.5414138470332, 1161.8677951717923, 583.4745280622278, 105.49599180323558, 174.78622162182802, 270.1487004729959, 224.214113290004, 87.65214178232046, 57.10571495786159, 43.66243306776833, 340.9462487235238, 40.07868276202515, 958.595649344815, 303.9693222128855, 661.1358735129047, 271.3670400914913, 341.96500831577254, 140.71105079787992, 285.97651445218355, 327.55882972902407, 1308.4661217288397, 433.9438820965437, 568.9283092299806, 407.06671219094665, 567.939156075218, 652.3232097733091, 545.2764259906829, 474.1208055685561, 713.5977767466569, 352.12365214797757, 615.6191773153779, 370.2344598717947, 721.1306383985486, 542.8976768082546, 632.4213231604547], \"Category\": [\"Default\", \"Default\", \"Default\", \"Default\", \"Default\", \"Default\", \"Default\", \"Default\", \"Default\", \"Default\", \"Default\", \"Default\", \"Default\", \"Default\", \"Default\", \"Default\", \"Default\", \"Default\", \"Default\", \"Default\", \"Default\", \"Default\", \"Default\", \"Default\", \"Default\", \"Default\", \"Default\", \"Default\", \"Default\", \"Default\", \"Topic1\", \"Topic1\", \"Topic1\", \"Topic1\", \"Topic1\", \"Topic1\", \"Topic1\", \"Topic1\", \"Topic1\", \"Topic1\", \"Topic1\", \"Topic1\", \"Topic1\", \"Topic1\", \"Topic1\", \"Topic1\", \"Topic1\", \"Topic1\", \"Topic1\", \"Topic1\", \"Topic1\", \"Topic1\", \"Topic1\", \"Topic1\", \"Topic1\", \"Topic1\", \"Topic1\", \"Topic1\", \"Topic1\", \"Topic1\", \"Topic1\", \"Topic1\", \"Topic1\", \"Topic1\", \"Topic1\", \"Topic1\", \"Topic1\", \"Topic1\", \"Topic1\", \"Topic1\", \"Topic1\", \"Topic1\", \"Topic1\", \"Topic1\", \"Topic1\", \"Topic1\", \"Topic1\", \"Topic1\", \"Topic1\", \"Topic1\", \"Topic1\", \"Topic1\", \"Topic1\", \"Topic1\", \"Topic1\", \"Topic1\", \"Topic1\", \"Topic1\", \"Topic1\", \"Topic1\", \"Topic1\", \"Topic1\", \"Topic1\", \"Topic1\", \"Topic1\", \"Topic1\", \"Topic1\", \"Topic1\", \"Topic1\", \"Topic1\", \"Topic1\", \"Topic1\", \"Topic1\", \"Topic1\", \"Topic1\", \"Topic1\", \"Topic1\", \"Topic1\", \"Topic1\", \"Topic1\", \"Topic1\", \"Topic1\", \"Topic1\", \"Topic1\", \"Topic1\", \"Topic1\", \"Topic1\", \"Topic1\", \"Topic1\", \"Topic1\", \"Topic1\", \"Topic1\", \"Topic1\", \"Topic1\", \"Topic1\", \"Topic2\", \"Topic2\", \"Topic2\", \"Topic2\", \"Topic2\", \"Topic2\", \"Topic2\", \"Topic2\", \"Topic2\", \"Topic2\", \"Topic2\", \"Topic2\", \"Topic2\", \"Topic2\", \"Topic2\", \"Topic2\", \"Topic2\", \"Topic2\", \"Topic2\", \"Topic2\", \"Topic2\", \"Topic2\", \"Topic2\", \"Topic2\", \"Topic2\", \"Topic2\", \"Topic2\", \"Topic2\", \"Topic2\", \"Topic2\", \"Topic2\", \"Topic2\", \"Topic2\", \"Topic2\", \"Topic2\", \"Topic2\", \"Topic2\", \"Topic2\", \"Topic2\", \"Topic2\", \"Topic2\", \"Topic2\", \"Topic2\", \"Topic2\", \"Topic2\", \"Topic2\", \"Topic2\", \"Topic2\", \"Topic2\", \"Topic2\", \"Topic2\", \"Topic2\", \"Topic2\", \"Topic2\", \"Topic2\", \"Topic2\", \"Topic2\", \"Topic2\", \"Topic2\", \"Topic2\", \"Topic2\", \"Topic2\", \"Topic2\", \"Topic2\", \"Topic2\", \"Topic2\", \"Topic2\", \"Topic2\", \"Topic2\", \"Topic2\", \"Topic2\", \"Topic2\", \"Topic2\", \"Topic2\", \"Topic2\", \"Topic2\", \"Topic3\", \"Topic3\", \"Topic3\", \"Topic3\", \"Topic3\", \"Topic3\", \"Topic3\", \"Topic3\", \"Topic3\", \"Topic3\", \"Topic3\", \"Topic3\", \"Topic3\", \"Topic3\", \"Topic3\", \"Topic3\", \"Topic3\", \"Topic3\", \"Topic3\", \"Topic3\", \"Topic3\", \"Topic3\", \"Topic3\", \"Topic3\", \"Topic3\", \"Topic3\", \"Topic3\", \"Topic3\", \"Topic3\", \"Topic3\", \"Topic3\", \"Topic3\", \"Topic3\", \"Topic3\", \"Topic3\", \"Topic3\", \"Topic3\", \"Topic3\", \"Topic3\", \"Topic3\", \"Topic3\", \"Topic3\", \"Topic3\", \"Topic3\", \"Topic3\", \"Topic3\", \"Topic3\", \"Topic3\", \"Topic3\", \"Topic3\", \"Topic3\", \"Topic3\", \"Topic3\", \"Topic3\", \"Topic3\", \"Topic3\", \"Topic3\", \"Topic3\", \"Topic3\", \"Topic3\", \"Topic3\", \"Topic3\", \"Topic3\", \"Topic3\", \"Topic3\", \"Topic3\", \"Topic3\", \"Topic3\", \"Topic3\", \"Topic3\", \"Topic3\", \"Topic3\", \"Topic3\", \"Topic3\", \"Topic3\", \"Topic3\", \"Topic3\", \"Topic3\", \"Topic3\", \"Topic3\", \"Topic3\", \"Topic3\", \"Topic3\", \"Topic3\", \"Topic3\", \"Topic3\"], \"logprob\": [30.0, 29.0, 28.0, 27.0, 26.0, 25.0, 24.0, 23.0, 22.0, 21.0, 20.0, 19.0, 18.0, 17.0, 16.0, 15.0, 14.0, 13.0, 12.0, 11.0, 10.0, 9.0, 8.0, 7.0, 6.0, 5.0, 4.0, 3.0, 2.0, 1.0, -8.8979, -9.2408, -9.3881, -8.9393, -9.3923, -9.2678, -9.4053, -9.56, -9.5747, -9.7648, -9.7649, -9.7655, -9.5884, -9.7747, -9.5933, -9.597, -9.7795, -9.5992, -9.7827, -9.7985, -10.0276, -10.0285, -10.0295, -10.0297, -10.0301, -10.0306, -10.0308, -10.0318, -10.032, -9.6255, -9.4774, -8.3911, -8.4954, -8.8782, -6.5087, -6.5563, -8.8838, -9.3554, -7.6733, -8.632, -6.4161, -7.39, -5.1653, -7.1359, -8.2265, -8.2301, -8.1326, -7.1872, -8.281, -8.149, -8.4524, -7.5508, -7.2248, -7.5375, -2.9072, -7.1884, -6.1231, -6.2515, -5.8277, -6.727, -7.9306, -7.5319, -5.8448, -6.9759, -4.9541, -5.5609, -6.5671, -6.11, -6.7348, -6.5438, -5.4021, -6.4917, -5.1851, -5.5023, -6.3858, -5.6711, -6.2947, -4.9902, -6.2073, -5.6521, -5.7542, -5.6222, -6.0382, -6.0772, -5.7734, -6.2111, -5.7641, -5.8128, -5.7393, -5.7316, -6.1181, -6.1617, -5.9789, -6.1375, -6.1729, -7.0242, -7.3429, -6.966, -8.774, -6.9095, -9.0813, -8.7307, -7.5452, -8.5388, -9.0119, -8.541, -9.5226, -8.5541, -9.0267, -8.5552, -8.5615, -8.5637, -8.5644, -7.4674, -8.5651, -9.7289, -9.5488, -8.0858, -9.7346, -9.7357, -9.7386, -9.4023, -9.7398, -9.7399, -9.741, -8.1388, -6.8226, -6.835, -6.3116, -7.0732, -6.276, -7.4206, -5.7837, -6.4165, -6.6861, -6.5239, -2.9961, -5.4723, -5.5693, -6.6192, -6.3277, -6.1807, -5.7322, -7.46, -6.0515, -5.3596, -4.8697, -5.947, -6.2185, -6.1976, -5.5052, -5.8062, -5.8617, -6.013, -5.4754, -5.8566, -5.8012, -5.6747, -5.6297, -5.8048, -5.488, -5.7132, -6.0842, -5.4815, -5.8957, -5.888, -5.8682, -6.0903, -6.0612, -6.1732, -6.1626, -9.4, -9.4032, -9.4193, -9.6027, -9.6036, -9.6042, -9.4229, -9.4248, -9.6088, -9.6315, -9.8646, -9.8651, -9.6425, -9.1749, -9.8749, -9.8813, -9.66, -9.8866, -9.6678, -9.8931, -9.8947, -9.8948, -9.6724, -9.8964, -9.897, -9.9062, -9.9087, -7.6857, -9.3512, -9.3552, -8.5704, -9.1266, -8.5273, -9.2414, -8.8631, -7.7354, -8.7441, -5.1793, -7.7906, -6.3523, -6.3974, -6.0143, -6.8169, -6.3389, -5.9137, -6.5009, -7.8592, -6.7339, -6.3566, -3.1351, -5.9515, -7.0973, -4.9327, -5.5181, -6.9481, -6.5363, -6.1809, -6.339, -7.127, -7.4752, -7.693, -6.0481, -7.7624, -5.2249, -6.1429, -5.5293, -6.2354, -6.0553, -6.761, -6.2107, -6.1111, -5.1237, -5.9428, -5.7556, -6.0103, -5.7893, -5.7089, -5.834, -5.9301, -5.7419, -6.1149, -5.8413, -6.1792, -6.033, -6.109, -6.1905], \"loglift\": [30.0, 29.0, 28.0, 27.0, 26.0, 25.0, 24.0, 23.0, 22.0, 21.0, 20.0, 19.0, 18.0, 17.0, 16.0, 15.0, 14.0, 13.0, 12.0, 11.0, 10.0, 9.0, 8.0, 7.0, 6.0, 5.0, 4.0, 3.0, 2.0, 1.0, 0.9534, 0.9291, 0.916, 0.9134, 0.9115, 0.9031, 0.8985, 0.898, 0.8839, 0.876, 0.8754, 0.8752, 0.871, 0.8661, 0.8658, 0.8623, 0.8615, 0.8601, 0.8587, 0.8427, 0.8367, 0.836, 0.8348, 0.8346, 0.8342, 0.834, 0.8336, 0.8325, 0.8324, 0.8323, 0.8296, 0.8164, 0.8088, 0.8107, 0.7581, 0.7449, 0.8061, 0.8184, 0.7529, 0.7887, 0.6875, 0.7359, 0.5942, 0.6949, 0.7632, 0.7595, 0.7488, 0.6586, 0.7529, 0.7355, 0.7558, 0.6627, 0.6254, 0.6574, 0.0934, 0.6025, 0.4699, 0.4684, 0.3933, 0.5053, 0.6832, 0.6152, 0.3393, 0.5247, 0.1468, 0.254, 0.4261, 0.331, 0.4588, 0.4157, 0.1758, 0.4018, 0.1081, 0.1759, 0.3656, 0.1906, 0.343, -0.0081, 0.3173, 0.1522, 0.1352, 0.087, 0.2176, 0.2175, 0.0433, 0.2385, -0.028, -0.0231, -0.0746, -0.1432, 0.1451, 0.1001, -0.2616, -0.0523, -0.2153, 1.0157, 1.0095, 1.0017, 0.9864, 0.9793, 0.9665, 0.9501, 0.9392, 0.9329, 0.9315, 0.9313, 0.9312, 0.9183, 0.918, 0.917, 0.912, 0.9087, 0.9082, 0.908, 0.9079, 0.9078, 0.9059, 0.9046, 0.9019, 0.901, 0.8986, 0.898, 0.8975, 0.8971, 0.8965, 0.8537, 0.8047, 0.7979, 0.737, 0.771, 0.6922, 0.751, 0.6065, 0.6165, 0.6293, 0.5868, 0.0044, 0.3851, 0.3883, 0.5627, 0.4997, 0.4555, 0.3514, 0.6964, 0.4045, 0.2287, 0.1124, 0.3458, 0.4082, 0.4017, 0.2039, 0.2795, 0.2881, 0.3267, 0.1025, 0.2286, 0.196, 0.1296, 0.1063, 0.0846, -0.1948, -0.0484, 0.1909, -0.3806, -0.0339, -0.0714, -0.1901, 0.1542, -0.2715, 0.1682, -0.4453, 1.0952, 1.0929, 1.0753, 1.0735, 1.0728, 1.0725, 1.0715, 1.0695, 1.0673, 1.0438, 1.0333, 1.033, 1.0324, 1.0297, 1.0226, 1.0157, 1.0143, 1.0102, 1.0063, 1.0035, 1.0022, 1.002, 1.0019, 1.0004, 0.9998, 0.9904, 0.9874, 0.9858, 0.9858, 0.982, 0.939, 0.9579, 0.9202, 0.9612, 0.9334, 0.8044, 0.8973, 0.5381, 0.7719, 0.5913, 0.5756, 0.5186, 0.6272, 0.5616, 0.4826, 0.5325, 0.7528, 0.56, 0.4877, -0.1345, 0.3852, 0.5893, 0.1682, 0.2716, 0.5519, 0.4588, 0.3788, 0.407, 0.5583, 0.6386, 0.6892, 0.2789, 0.7054, 0.0683, 0.2988, 0.1354, 0.3198, 0.2686, 0.451, 0.2921, 0.2559, -0.1416, 0.143, 0.0594, 0.1394, 0.0273, -0.0308, 0.0234, 0.0671, -0.1536, 0.1798, -0.1053, 0.0653, -0.4552, -0.2472, -0.4814]}, \"token.table\": {\"Topic\": [1, 2, 3, 1, 2, 3, 1, 2, 3, 1, 2, 3, 3, 1, 2, 3, 1, 2, 3, 1, 2, 3, 2, 1, 2, 3, 1, 2, 3, 1, 2, 3, 1, 2, 3, 3, 1, 2, 3, 1, 2, 3, 1, 3, 1, 2, 3, 3, 1, 2, 3, 3, 2, 3, 1, 2, 3, 1, 1, 2, 3, 1, 2, 3, 1, 3, 1, 3, 1, 2, 3, 1, 1, 1, 2, 3, 1, 2, 3, 3, 3, 2, 1, 2, 3, 1, 2, 3, 1, 1, 2, 3, 1, 2, 3, 1, 2, 3, 1, 2, 3, 1, 2, 3, 1, 3, 1, 2, 3, 1, 2, 3, 3, 1, 1, 2, 3, 3, 3, 3, 1, 2, 3, 1, 1, 2, 3, 1, 2, 3, 3, 1, 2, 3, 1, 2, 3, 1, 2, 3, 1, 2, 3, 1, 2, 3, 1, 2, 1, 2, 1, 2, 3, 1, 2, 3, 3, 1, 1, 1, 2, 3, 1, 2, 3, 1, 1, 2, 3, 1, 2, 3, 3, 1, 1, 2, 3, 1, 2, 3, 1, 2, 3, 1, 1, 1, 2, 3, 1, 2, 3, 1, 1, 2, 3, 1, 2, 3, 1, 2, 3, 1, 2, 3, 1, 2, 3, 1, 2, 3, 1, 2, 3, 1, 2, 1, 2, 3, 1, 3, 1, 2, 3, 1, 2, 3, 1, 2, 3, 1, 2, 3, 1, 2, 3, 3, 1, 2, 3, 1, 2, 3, 1, 2, 3, 1, 2, 3, 1, 2, 3, 1, 2, 3, 1, 2, 3, 1, 1, 2, 3, 1, 3, 1, 1, 2, 3, 1, 2, 3, 1, 2, 3, 1, 2, 3, 1, 2, 3, 1, 2, 3, 1, 2, 3, 1, 2, 3, 1, 2, 3, 1, 2, 3, 1, 1, 2, 3, 1, 2, 3, 1, 2, 3, 3, 3, 1, 2, 3, 1, 2, 3, 1, 2, 3, 1, 2, 3, 1, 1, 1, 1, 2, 3, 1, 2, 3, 1, 2, 3, 1, 2, 3, 2, 1, 2, 3, 1, 2, 1, 2, 3, 1, 2, 1, 2, 3, 1, 1, 1, 1, 2, 3, 1, 2, 3, 1, 2, 3, 1, 2, 3, 1, 3, 3, 1, 2, 3, 1, 2, 3, 1, 2, 3, 1, 2, 3, 1, 2, 3, 2, 3, 3, 1, 1, 2, 3, 1, 2, 3, 3, 1, 2, 3, 2, 1, 2, 3, 1, 2, 3, 3, 1, 1, 2, 3, 1, 2, 3, 1, 2, 3, 1, 2, 3, 1, 2, 3, 1, 2, 3, 1, 2, 3, 1, 2, 3, 1, 2, 3, 1, 2, 3, 1, 1, 2, 3, 1, 2, 3, 1, 2, 3, 1, 2, 3, 1, 2, 3, 1, 2, 3, 1, 2, 3, 1, 2, 3, 1, 1, 3, 1, 2, 3, 1, 2, 3, 1, 2, 3, 1, 2, 3, 1, 2, 3, 3, 1, 2, 3, 1, 2, 3, 1, 2, 3, 2, 1, 2, 1, 2, 2, 2, 2, 1, 2, 2, 1, 2, 1, 2, 2, 1, 2, 3, 1, 2], \"Freq\": [0.09657154214246969, 0.730322287452427, 0.1750359201332263, 0.607034242099152, 0.23712275081998124, 0.151758560524788, 0.37765338949908084, 0.23078818247166052, 0.3916405520731209, 0.27345636367954057, 0.23184343877178437, 0.49935509889307406, 0.8487704343708717, 0.3984450733685547, 0.30226867634855875, 0.30226867634855875, 0.765860180230095, 0.0717993918965714, 0.1435987837931428, 0.24432691216746472, 0.6541656035451474, 0.10245967284442069, 0.9089562813765237, 0.41552508702466673, 0.3549850081204106, 0.22840120677514794, 0.7569385380581786, 0.1513877076116357, 0.11354078070872678, 0.14141180392064098, 0.14141180392064098, 0.7070590196032049, 0.27971996284172695, 0.41362845569148987, 0.30650166141167956, 0.9074260731928316, 0.5721250919618273, 0.24419973437395068, 0.18838265223133338, 0.13102149996537205, 0.6137322893114796, 0.2620429999307441, 0.8770148779491115, 0.8491524124818389, 0.12565997454080222, 0.12565997454080222, 0.7539598472448134, 0.9083363143985516, 0.16087083570331517, 0.1876826416538677, 0.6434833428132607, 0.9482243603014121, 0.87312147490831, 0.8493785171826567, 0.2773993530057508, 0.223194881728765, 0.5005942347345158, 0.9140254890940269, 0.3657218486239499, 0.1962409919445585, 0.43708220933106207, 0.49964164583662857, 0.203801197643888, 0.29584044819274063, 0.16178721205751065, 0.8089360602875533, 0.8243441133086692, 0.13739068555144487, 0.7847178185279762, 0.10462904247039682, 0.10462904247039682, 0.8219543002074461, 0.9137603311374554, 0.8460888762885, 0.08460888762885001, 0.16921777525770001, 0.05382424331699093, 0.7750691037646693, 0.16147272995097278, 0.8499786993606366, 0.8493529503583053, 0.9086862503010253, 0.22817468681676897, 0.26240088983928433, 0.5133930453377302, 0.5466051441586937, 0.13803160206027618, 0.32023331677984074, 0.9127603642672685, 0.3316229376008017, 0.4931828302781153, 0.1757318130876043, 0.08391474957570572, 0.9230622453327629, 0.08391474957570572, 0.4284937895388996, 0.38550573945570904, 0.18581931326282378, 0.16175065537607053, 0.16175065537607053, 0.8087532768803527, 0.21835475464067083, 0.6293754692584042, 0.15413276798165, 0.8767458819203309, 0.8503930571291176, 0.2017315141774581, 0.2017315141774581, 0.6051945425323743, 0.3243619576319408, 0.0748527594535248, 0.5988220756281984, 0.9065687571426501, 0.9387846854281728, 0.548209088307369, 0.25126249880754414, 0.19986789677872827, 0.9473081723010133, 0.8492112907771923, 0.9087136965843469, 0.34112459346883944, 0.20609610855409047, 0.4548327912917859, 0.9387985476627363, 0.30083985759501186, 0.18513222005846885, 0.5091136051607893, 0.7470819848873455, 0.13183799733306098, 0.08789199822204065, 0.9070328383974195, 0.35134352939248903, 0.2656499856382234, 0.38219320514402466, 0.2544119950415034, 0.365534475634344, 0.3830801304647925, 0.2706228314010943, 0.2558615860519437, 0.47728026628920267, 0.8364472727856297, 0.10455590909820371, 0.10455590909820371, 0.1884300567078905, 0.09421502835394525, 0.753720226831562, 0.8061884384849174, 0.17275466538962517, 0.7567841494090476, 0.21021781928029099, 0.022232713444120936, 0.9560066780972003, 0.022232713444120936, 0.7545733488607541, 0.18864333721518853, 0.037728667443037704, 0.8493227872270964, 0.8223190423079664, 0.8222372911843728, 0.7444413225430571, 0.12407355375717617, 0.12407355375717617, 0.1624763703888791, 0.6405318448023118, 0.19684637181729583, 0.9139650626479696, 0.31109962395358604, 0.43862244278140733, 0.25084158868329687, 0.09175935523961438, 0.12234580698615251, 0.7952477454099913, 0.94679582459326, 0.8222361647562865, 0.4932075355314363, 0.19656822068281882, 0.30736121779495307, 0.574063564631055, 0.1722190693893165, 0.2525879684376642, 0.37504017414814456, 0.3239783664002751, 0.2993278385219933, 0.9133344814388624, 0.8766570604574222, 0.5082309846692826, 0.18008184496155683, 0.31214186460003185, 0.2797195645967169, 0.5514471416335275, 0.17182773253798322, 0.8957403470243982, 0.40058600335027383, 0.2868779971909513, 0.31295781511740145, 0.30332905973986546, 0.18958066233741588, 0.5023887551941522, 0.5059487241393477, 0.2745852372213545, 0.22119366331720222, 0.3948793235979701, 0.3499970952487878, 0.2551754860603745, 0.7537353261528977, 0.04662280367956068, 0.1942616819981695, 0.26608325693840656, 0.5757074104667342, 0.15964995416304395, 0.26668494211365884, 0.24506183869903783, 0.49012367739807566, 0.7568085832127428, 0.2102246064479841, 0.25193282250045324, 0.160320887045743, 0.5725745965919392, 0.8969339894597119, 0.09965933216219021, 0.22896650370269186, 0.39382238636863, 0.37550506607241463, 0.3921436405095385, 0.4269305763611911, 0.18025957668583623, 0.6699108970006106, 0.10863419951361251, 0.21726839902722503, 0.5201370271917058, 0.2690363933750203, 0.21074517481043253, 0.28090307972956724, 0.40784966383812166, 0.3106139823932714, 0.8494536664880981, 0.34924188186856436, 0.3882270221701716, 0.2631496970358485, 0.3137296454225427, 0.14341926647887665, 0.5467859534507172, 0.7764356585914396, 0.06470297154928664, 0.12940594309857328, 0.2517360899030104, 0.2860637385261482, 0.4634232564123601, 0.3158213444077959, 0.2895028990404796, 0.39477668050974485, 0.44586610141718575, 0.2044736261276266, 0.34930911130136205, 0.3342731938379476, 0.3312480970611336, 0.3342731938379476, 0.9579893323209191, 0.1644556609126241, 0.6943683460755239, 0.1279099584875965, 0.22658576695356128, 0.9063430678142451, 0.8221886094093568, 0.5375491164622636, 0.2894495242489111, 0.17573721115112462, 0.7026748594700218, 0.13293848692676088, 0.17092091176297827, 0.6727065088592298, 0.12108717159466137, 0.20181195265776894, 0.277278816045294, 0.5198977800849262, 0.20025692269937898, 0.10912164863467497, 0.8729731890773997, 0.10912164863467497, 0.41915319014501473, 0.3965432670251592, 0.18435783466959155, 0.2948036724468382, 0.3058588101635946, 0.401670003708817, 0.2943401934488635, 0.49439954368363787, 0.20925748128005137, 0.3278731613923927, 0.16133441274863766, 0.5100249177214997, 0.21941524086510333, 0.1645614306488275, 0.6308188174871721, 0.877225025882213, 0.5947151896885705, 0.21757872793484287, 0.18856823087686383, 0.333149853552586, 0.24060822756575653, 0.4256914795394154, 0.1888950174452617, 0.5116670860895923, 0.29893094993764713, 0.8494827615308663, 0.8493341003037519, 0.16697640384629295, 0.7421173504279687, 0.1113176025641953, 0.356445316420976, 0.4204940842153701, 0.22277832276311, 0.027969229484042218, 0.9229845729733932, 0.041953844226063325, 0.3569064511834406, 0.3897693578234577, 0.25296795576385195, 0.8766028760293028, 0.8769101791772239, 0.8221909015155374, 0.27363063249122477, 0.520565593519891, 0.20355449490200866, 0.434704383683249, 0.3370800941272651, 0.22840399820645285, 0.26273279113574055, 0.2170401318077857, 0.5254655822714811, 0.5329198771436728, 0.2638217213582539, 0.20314272544585552, 0.968982273298281, 0.7657300354278641, 0.0450429432604626, 0.18767893025192747, 0.9125908050857556, 0.18251816101715113, 0.06824118469050719, 0.864388339413091, 0.06824118469050719, 0.06813617755986366, 0.8857703082782276, 0.04216094099421257, 0.8010578788900388, 0.1264828229826377, 0.8224473772613822, 0.8221903178225365, 0.8223829566639843, 0.7142115593323325, 0.08289955599393145, 0.19768355660091347, 0.12990523662073447, 0.7686059833393457, 0.09742892746555086, 0.076103460821128, 0.8878737095798267, 0.050735640547418664, 0.4292350721313498, 0.28820069128819203, 0.28360174408678474, 0.7848538140751226, 0.1569707628150245, 0.9465888888135071, 0.30429282729019247, 0.16844781510707083, 0.5270786472705119, 0.030263628490983577, 0.9533042974659828, 0.015131814245491789, 0.69653900724344, 0.09674152878381112, 0.19348305756762224, 0.7217501768993243, 0.2020900495318108, 0.08661002122791892, 0.2962343782286391, 0.3167654737494358, 0.3871578012493105, 0.1416985646457771, 0.8501913878746625, 0.9084269491980546, 0.8763221507431833, 0.28989182079617526, 0.5128855291009254, 0.19663990641418883, 0.6592772537763477, 0.1394624959911505, 0.20285453962349162, 0.7572800625255055, 0.0682065506580875, 0.8866851585551375, 0.0682065506580875, 0.8734134317227364, 0.21374161329013577, 0.5224794991536652, 0.2612397495768326, 0.16136195682265758, 0.08068097841132879, 0.7261288057019591, 0.908192212158315, 0.9140546228324106, 0.17233426543746427, 0.6477391356097795, 0.18421938719177214, 0.20279119865647002, 0.4608890878556137, 0.336449034134598, 0.1329138343024502, 0.1329138343024502, 0.7310260886634762, 0.1989845830528254, 0.46429736045659264, 0.33655417133626025, 0.10698863601292581, 0.7489204520904807, 0.13373579501615726, 0.26364588630550084, 0.4239425851792453, 0.312156729385713, 0.447978439333784, 0.3168627985531643, 0.234915523065277, 0.6965271105704741, 0.1875265297689738, 0.12055276913719744, 0.21211193287329494, 0.07070397762443165, 0.7777437538687481, 0.15037280465302302, 0.6961703919121437, 0.15037280465302302, 0.9390831239179698, 0.2843209721945857, 0.28728264898827927, 0.42944313508557214, 0.416570630506577, 0.238409224484136, 0.34513393147342436, 0.7257709371873785, 0.2375250339885966, 0.0527833408863548, 0.016264460618868482, 0.9596031765132405, 0.032528921237736964, 0.4640303456815365, 0.22674210073075077, 0.30935356378769097, 0.5734926718280698, 0.2128874312089047, 0.2128874312089047, 0.4109010772234558, 0.378710670252033, 0.20829086863861815, 0.04207725647933793, 0.8415451295867585, 0.12623176943801379, 0.8222301738734418, 0.846857089194171, 0.1693714178388342, 0.45758529258562847, 0.24205598810689044, 0.30174102627023325, 0.2451593506942453, 0.19262520411690703, 0.560364230158275, 0.3505612976477389, 0.4842499281066224, 0.1663680734599439, 0.19491044727875814, 0.33323399050884456, 0.471557533738931, 0.6518751418122635, 0.17959825335643995, 0.1679576258240781, 0.8502989837973736, 0.1092693622327023, 0.8741548978616184, 0.1092693622327023, 0.3408743698237148, 0.4376089882872014, 0.2211076993451123, 0.2742117370979934, 0.2070578422984848, 0.5204426846961916, 0.9098013106517923, 0.15592901821958957, 0.7796450910979478, 0.0680907564921885, 0.8851798343984505, 0.8738119023381721, 0.8736211044592064, 0.8734922929669579, 0.13627138593060126, 0.8857640085489082, 0.8728937528973035, 0.13634632025028087, 0.8862510816268258, 0.13629795829307798, 0.8859367289050067, 0.8730999522382381, 0.06812970152697939, 0.8856861198507321, 0.9065667870111347, 0.13624101171941816, 0.8855665761762179], \"Term\": [\"ai\", \"ai\", \"ai\", \"allowed\", \"allowed\", \"allowed\", \"also\", \"also\", \"also\", \"always\", \"always\", \"always\", \"annoying\", \"anti\", \"anti\", \"anti\", \"apply\", \"apply\", \"apply\", \"ask\", \"ask\", \"ask\", \"assignment\", \"asylum\", \"asylum\", \"asylum\", \"australia\", \"australia\", \"australia\", \"authors\", \"authors\", \"authors\", \"back\", \"back\", \"back\", \"bari\", \"benefits\", \"benefits\", \"benefits\", \"best\", \"best\", \"best\", \"billablehour\", \"bisexuality\", \"blade\", \"blade\", \"blade\", \"bookish\", \"books\", \"books\", \"books\", \"bookstore\", \"breakthroughs\", \"breathes\", \"brexit\", \"brexit\", \"brexit\", \"bristles\", \"britain\", \"britain\", \"britain\", \"british\", \"british\", \"british\", \"brother\", \"brother\", \"busters\", \"busters\", \"capita\", \"capita\", \"capita\", \"cardiff\", \"catlovers\", \"changer\", \"changer\", \"changer\", \"chatgpt\", \"chatgpt\", \"chatgpt\", \"chatting\", \"cigarettes\", \"citations\", \"class\", \"class\", \"class\", \"co\", \"co\", \"co\", \"cofe\", \"control\", \"control\", \"control\", \"coral\", \"coral\", \"coral\", \"country\", \"country\", \"country\", \"cousin\", \"cousin\", \"cousin\", \"crisis\", \"crisis\", \"crisis\", \"criticial\", \"cryptogaming\", \"deserve\", \"deserve\", \"deserve\", \"development\", \"development\", \"development\", \"dirt\", \"disc\", \"done\", \"done\", \"done\", \"dragon\", \"dualities\", \"dust\", \"economic\", \"economic\", \"economic\", \"eddie\", \"end\", \"end\", \"end\", \"engineers\", \"engineers\", \"engineers\", \"esim\", \"eu\", \"eu\", \"eu\", \"even\", \"even\", \"even\", \"ever\", \"ever\", \"ever\", \"evergreen\", \"evergreen\", \"evergreen\", \"facebook\", \"facebook\", \"facebook\", \"facilitates\", \"facilitates\", \"facilitation\", \"facilitation\", \"file\", \"file\", \"file\", \"fined\", \"fined\", \"fined\", \"fleshes\", \"footballfans\", \"footballfever\", \"former\", \"former\", \"former\", \"free\", \"free\", \"free\", \"gentle\", \"get\", \"get\", \"get\", \"gift\", \"gift\", \"gift\", \"girlfriend\", \"globalization\", \"go\", \"go\", \"go\", \"good\", \"good\", \"good\", \"government\", \"government\", \"government\", \"handy\", \"harrow\", \"home\", \"home\", \"home\", \"housing\", \"housing\", \"housing\", \"ilford\", \"illegal\", \"illegal\", \"illegal\", \"immigrant\", \"immigrant\", \"immigrant\", \"immigrants\", \"immigrants\", \"immigrants\", \"immigration\", \"immigration\", \"immigration\", \"inspection\", \"inspection\", \"inspection\", \"irish\", \"irish\", \"irish\", \"issue\", \"issue\", \"issue\", \"jail\", \"jail\", \"jews\", \"jews\", \"jews\", \"justin\", \"justin\", \"know\", \"know\", \"know\", \"labour\", \"labour\", \"labour\", \"latest\", \"latest\", \"latest\", \"law\", \"law\", \"law\", \"legal\", \"legal\", \"legal\", \"leonard\", \"like\", \"like\", \"like\", \"low\", \"low\", \"low\", \"ltd\", \"ltd\", \"ltd\", \"made\", \"made\", \"made\", \"make\", \"make\", \"make\", \"many\", \"many\", \"many\", \"mass\", \"mass\", \"mass\", \"medieval\", \"mess\", \"mess\", \"mess\", \"metaverse\", \"metaverse\", \"meticulously\", \"minister\", \"minister\", \"minister\", \"morning\", \"morning\", \"morning\", \"mps\", \"mps\", \"mps\", \"much\", \"much\", \"much\", \"multichain\", \"multichain\", \"multichain\", \"need\", \"need\", \"need\", \"never\", \"never\", \"never\", \"new\", \"new\", \"new\", \"news\", \"news\", \"news\", \"nigeria\", \"nigeria\", \"nigeria\", \"noah\", \"non\", \"non\", \"non\", \"nothing\", \"nothing\", \"nothing\", \"one\", \"one\", \"one\", \"outlet\", \"owed\", \"page\", \"page\", \"page\", \"party\", \"party\", \"party\", \"pdf\", \"pdf\", \"pdf\", \"people\", \"people\", \"people\", \"pillars\", \"pissed\", \"player\", \"policies\", \"policies\", \"policies\", \"policy\", \"policy\", \"policy\", \"probably\", \"probably\", \"probably\", \"problem\", \"problem\", \"problem\", \"professors\", \"property\", \"property\", \"property\", \"publication\", \"publication\", \"quillbot\", \"quillbot\", \"quillbot\", \"raccoon\", \"raccoon\", \"readers\", \"readers\", \"readers\", \"redbridge\", \"replica\", \"replicacoins\", \"report\", \"report\", \"report\", \"research\", \"research\", \"research\", \"researchers\", \"researchers\", \"researchers\", \"right\", \"right\", \"right\", \"romford\", \"romford\", \"roommate\", \"said\", \"said\", \"said\", \"seconds\", \"seconds\", \"seconds\", \"secretary\", \"secretary\", \"secretary\", \"section\", \"section\", \"section\", \"see\", \"see\", \"see\", \"seo\", \"seo\", \"silk\", \"smes\", \"stop\", \"stop\", \"stop\", \"stopping\", \"stopping\", \"stopping\", \"strategist\", \"summary\", \"summary\", \"summary\", \"superlight\\u304b\\u9032\\u5316\\u3057\\u305f\", \"take\", \"take\", \"take\", \"tee\", \"tee\", \"tee\", \"tenants\", \"terry\", \"things\", \"things\", \"things\", \"think\", \"think\", \"think\", \"till\", \"till\", \"till\", \"time\", \"time\", \"time\", \"tool\", \"tool\", \"tool\", \"tories\", \"tories\", \"tories\", \"tory\", \"tory\", \"tory\", \"trade\", \"trade\", \"trade\", \"trimmer\", \"trimmer\", \"trimmer\", \"try\", \"try\", \"try\", \"tudor\", \"twclid\", \"twclid\", \"twclid\", \"uk\", \"uk\", \"uk\", \"unlawful\", \"unlawful\", \"unlawful\", \"upload\", \"upload\", \"upload\", \"us\", \"us\", \"us\", \"visa\", \"visa\", \"visa\", \"want\", \"want\", \"want\", \"wasting\", \"wasting\", \"wasting\", \"watford\", \"welby\", \"welby\", \"well\", \"well\", \"well\", \"west\", \"west\", \"west\", \"work\", \"work\", \"work\", \"world\", \"world\", \"world\", \"would\", \"would\", \"would\", \"xbox\", \"xlh\", \"xlh\", \"xlh\", \"years\", \"years\", \"years\", \"yes\", \"yes\", \"yes\", \"\\u3046\\u304a\\u3063\\u304b\", \"\\u304a\\u307b\", \"\\u304a\\u307b\", \"\\u3055\\u3089\\u306b\\u30cf\\u30a4\\u30a8\\u30f3\\u30c8\\u306a\", \"\\u3055\\u3089\\u306b\\u30cf\\u30a4\\u30a8\\u30f3\\u30c8\\u306a\", \"\\u3057\\u304b\\u3082\", \"\\u30b9\\u30a4\\u30c3\\u30c1\\u3068\\u30bb\\u30f3\\u30b5\\u30fc\\u306e\\u9032\\u5316\\u3066\", \"\\u30bf\\u30c3\\u30d5\\u3057\\u3066\\u8a73\\u7d30\\u30c1\\u30a7\\u30c3\\u30af\", \"\\u30ea\\u30a2\\u30eb\\u306a\\u611f\\u60f3\\u3092\\u52d5\\u753b\\u3066\\u30c1\\u30a7\\u30c3\\u30af\", \"\\u30ea\\u30a2\\u30eb\\u306a\\u611f\\u60f3\\u3092\\u52d5\\u753b\\u3066\\u30c1\\u30a7\\u30c3\\u30af\", \"\\u30ed\\u30b7\\u30af\\u30fc\\u30eb\\u53f2\\u4e0a\\u6700\\u8efd\\u91cf\", \"\\u52d5\\u753b\\u672c\\u7bc7\\u3078\", \"\\u52d5\\u753b\\u672c\\u7bc7\\u3078\", \"\\u65b0\\u767b\\u5834\\u3057\\u305f\", \"\\u65b0\\u767b\\u5834\\u3057\\u305f\", \"\\u6700\\u9ad8\\u5cf0\\u30de\\u30a6\\u30b9\\u304b\\u65b0\\u767a\\u58f2\", \"\\u753b\\u50cf\\u30bf\\u30c3\\u30d5\\u3066\", \"\\u753b\\u50cf\\u30bf\\u30c3\\u30d5\\u3066\", \"\\u8010\\u4e45\\u6027\\u3082\\u30a2\\u30c3\\u30d5\", \"\\u9078\\u624b\\u304b\\u3044\\u3061\\u65e9\\u304f\\u4f53\\u611f\", \"\\u9078\\u624b\\u304b\\u3044\\u3061\\u65e9\\u304f\\u4f53\\u611f\"]}, \"R\": 30, \"lambda.step\": 0.01, \"plot.opts\": {\"xlab\": \"PC1\", \"ylab\": \"PC2\"}, \"topic.order\": [3, 1, 2]};\n",
       "\n",
       "function LDAvis_load_lib(url, callback){\n",
       "  var s = document.createElement('script');\n",
       "  s.src = url;\n",
       "  s.async = true;\n",
       "  s.onreadystatechange = s.onload = callback;\n",
       "  s.onerror = function(){console.warn(\"failed to load library \" + url);};\n",
       "  document.getElementsByTagName(\"head\")[0].appendChild(s);\n",
       "}\n",
       "\n",
       "if(typeof(LDAvis) !== \"undefined\"){\n",
       "   // already loaded: just create the visualization\n",
       "   !function(LDAvis){\n",
       "       new LDAvis(\"#\" + \"ldavis_el7275627533813342886503035487\", ldavis_el7275627533813342886503035487_data);\n",
       "   }(LDAvis);\n",
       "}else if(typeof define === \"function\" && define.amd){\n",
       "   // require.js is available: use it to load d3/LDAvis\n",
       "   require.config({paths: {d3: \"https://d3js.org/d3.v5\"}});\n",
       "   require([\"d3\"], function(d3){\n",
       "      window.d3 = d3;\n",
       "      LDAvis_load_lib(\"https://cdn.jsdelivr.net/gh/bmabey/pyLDAvis@3.4.0/pyLDAvis/js/ldavis.v3.0.0.js\", function(){\n",
       "        new LDAvis(\"#\" + \"ldavis_el7275627533813342886503035487\", ldavis_el7275627533813342886503035487_data);\n",
       "      });\n",
       "    });\n",
       "}else{\n",
       "    // require.js not available: dynamically load d3 & LDAvis\n",
       "    LDAvis_load_lib(\"https://d3js.org/d3.v5.js\", function(){\n",
       "         LDAvis_load_lib(\"https://cdn.jsdelivr.net/gh/bmabey/pyLDAvis@3.4.0/pyLDAvis/js/ldavis.v3.0.0.js\", function(){\n",
       "                 new LDAvis(\"#\" + \"ldavis_el7275627533813342886503035487\", ldavis_el7275627533813342886503035487_data);\n",
       "            })\n",
       "         });\n",
       "}\n",
       "</script>"
      ],
      "text/plain": [
       "PreparedData(topic_coordinates=              x         y  topics  cluster       Freq\n",
       "topic                                                \n",
       "2      0.018395  0.022755       1        1  35.967842\n",
       "0     -0.032085  0.002339       2        1  34.845809\n",
       "1      0.013690 -0.025094       3        1  29.186348, topic_info=         Term        Freq       Total Category  logprob  loglift\n",
       "910    brexit  627.000000  627.000000  Default  30.0000  30.0000\n",
       "555     would  601.000000  601.000000  Default  29.0000  29.0000\n",
       "1414     free  320.000000  320.000000  Default  28.0000  28.0000\n",
       "1165  seconds   66.000000   66.000000  Default  27.0000  27.0000\n",
       "1167   upload   61.000000   61.000000  Default  26.0000  26.0000\n",
       "...       ...         ...         ...      ...      ...      ...\n",
       "345      like  161.724479  615.619177   Topic3  -5.8413  -0.1053\n",
       "530     legal  115.350123  370.234460   Topic3  -6.1792   0.0653\n",
       "503   country  133.510503  721.130638   Topic3  -6.0330  -0.4552\n",
       "313    policy  123.747836  542.897677   Topic3  -6.1090  -0.2472\n",
       "103    labour  114.061049  632.421323   Topic3  -6.1905  -0.4814\n",
       "\n",
       "[287 rows x 6 columns], token_table=       Topic      Freq       Term\n",
       "term                             \n",
       "1155       1  0.096572         ai\n",
       "1155       2  0.730322         ai\n",
       "1155       3  0.175036         ai\n",
       "788        1  0.607034    allowed\n",
       "788        2  0.237123    allowed\n",
       "...      ...       ...        ...\n",
       "445        1  0.068130     画像タッフて\n",
       "445        2  0.885686     画像タッフて\n",
       "11141      3  0.906567    耐久性もアッフ\n",
       "446        1  0.136241  選手かいち早く体感\n",
       "446        2  0.885567  選手かいち早く体感\n",
       "\n",
       "[507 rows x 3 columns], R=30, lambda_step=0.01, plot_opts={'xlab': 'PC1', 'ylab': 'PC2'}, topic_order=[3, 1, 2])"
      ]
     },
     "execution_count": 62,
     "metadata": {},
     "output_type": "execute_result"
    }
   ],
   "source": [
    "# Visualize the topics\n",
    "pyLDAvis.enable_notebook()\n",
    "inf_LDAvis_data_filepath = os.path.join('inf_ldavis_prepared_'+str(inf_num_topics))\n",
    "# # this is a bit time consuming - make the if statement True\n",
    "# # if you want to execute visualization prep yourself\n",
    "if 1 == 1:\n",
    "    inf_LDAvis_prepared = pyLDAvis.gensim.prepare(inf_lda_model, inf_corpus, inf_id2word)\n",
    "    with open(inf_LDAvis_data_filepath, 'wb') as f:\n",
    "        pickle.dump(inf_LDAvis_prepared, f)\n",
    "# load the pre-prepared pyLDAvis data from disk\n",
    "with open(inf_LDAvis_data_filepath, 'rb') as f:\n",
    "    inf_LDAvis_prepared = pickle.load(f)\n",
    "pyLDAvis.save_html(inf_LDAvis_prepared, 'inf_ldavis_prepared_'+ str(inf_num_topics) +'.html')\n",
    "inf_LDAvis_prepared"
   ]
  },
  {
   "cell_type": "code",
   "execution_count": 72,
   "id": "b982928a",
   "metadata": {},
   "outputs": [],
   "source": [
    "inf_sent = uk_cleaned.loc[uk_cleaned.Influential == 'yes', 'Tweets'].apply(tweet_sentiment)"
   ]
  },
  {
   "cell_type": "code",
   "execution_count": 73,
   "id": "7ebadc39",
   "metadata": {},
   "outputs": [
    {
     "data": {
      "text/plain": [
       "<AxesSubplot: >"
      ]
     },
     "execution_count": 73,
     "metadata": {},
     "output_type": "execute_result"
    },
    {
     "data": {
      "image/png": "[encoded data removed]",
      "text/plain": [
       "<Figure size 640x480 with 1 Axes>"
      ]
     },
     "metadata": {},
     "output_type": "display_data"
    }
   ],
   "source": [
    "inf_sent.hist()"
   ]
  },
  {
   "cell_type": "code",
   "execution_count": 75,
   "id": "fae9cda7",
   "metadata": {},
   "outputs": [
    {
     "data": {
      "text/plain": [
       "inf_topic_class\n",
       "topic 0    578\n",
       "topic 2    362\n",
       "topic 1    284\n",
       "Name: count, dtype: int64"
      ]
     },
     "execution_count": 75,
     "metadata": {},
     "output_type": "execute_result"
    }
   ],
   "source": [
    "uk_inf = uk_cleaned[uk_cleaned.Influential == 'yes']\n",
    "uk_inf['inf_topic_class'] = uk_inf['Tweets'].apply(lambda x: topic_classify(x, inf_lda_model))\n",
    "uk_inf['inf_topic_class'].value_counts()"
   ]
  },
  {
   "cell_type": "code",
   "execution_count": 77,
   "id": "3ab94776",
   "metadata": {},
   "outputs": [
    {
     "data": {
      "text/plain": [
       "{'topic 0': [23.883161512027492, 20.790378006872853, 55.32646048109966],\n",
       " 'topic 1': [34.73684210526316, 15.43859649122807, 49.824561403508774],\n",
       " 'topic 2': [36.134453781512605, 12.605042016806722, 51.260504201680675]}"
      ]
     },
     "execution_count": 77,
     "metadata": {},
     "output_type": "execute_result"
    }
   ],
   "source": [
    "inf_topic_pct = uk_inf.groupby('topic_class')['Sentiment'].apply(lambda x: [100*(x<0).sum()/len(x), 100*(x==0).sum()/len(x), 100*(x>0).sum()/len(x)])\n",
    "inf_topic_dict = inf_topic_pct.to_dict()\n",
    "inf_topic_dict"
   ]
  },
  {
   "cell_type": "code",
   "execution_count": 78,
   "id": "d939b666",
   "metadata": {},
   "outputs": [
    {
     "data": {
      "image/png": "[encoded data removed]",
      "text/plain": [
       "<Figure size 1000x500 with 1 Axes>"
      ]
     },
     "metadata": {},
     "output_type": "display_data"
    }
   ],
   "source": [
    "fig, ax = survey(inf_topic_dict, category_names)\n",
    "plt.show()"
   ]
  },
  {
   "cell_type": "code",
   "execution_count": null,
   "id": "5dcd2c69",
   "metadata": {},
   "outputs": [],
   "source": []
  }
 ],
 "metadata": {
  "kernelspec": {
   "display_name": "Python 3 (ipykernel)",
   "language": "python",
   "name": "python3"
  },
  "language_info": {
   "codemirror_mode": {
    "name": "ipython",
    "version": 3
   },
   "file_extension": ".py",
   "mimetype": "text/x-python",
   "name": "python",
   "nbconvert_exporter": "python",
   "pygments_lexer": "ipython3",
   "version": "3.11.5"
  }
 },
 "nbformat": 4,
 "nbformat_minor": 5
}
