{
 "cells": [
  {
   "cell_type": "markdown",
   "id": "d75ebc43",
   "metadata": {},
   "source": [
    "## Load libraries"
   ]
  },
  {
   "cell_type": "code",
   "execution_count": 1,
   "id": "086e0b68",
   "metadata": {},
   "outputs": [
    {
     "name": "stderr",
     "output_type": "stream",
     "text": [
      "[nltk_data] Downloading package stopwords to\n",
      "[nltk_data]     /Users/zhaolongjiang/nltk_data...\n",
      "[nltk_data]   Package stopwords is already up-to-date!\n"
     ]
    }
   ],
   "source": [
    "import pandas as pd\n",
    "import numpy as np\n",
    "from datetime import datetime\n",
    "import matplotlib.pyplot as plt\n",
    "import re\n",
    "import os\n",
    "import gensim\n",
    "import gensim\n",
    "from gensim.utils import simple_preprocess\n",
    "import nltk\n",
    "nltk.download('stopwords')\n",
    "from nltk.corpus import stopwords\n",
    "stop_words = stopwords.words('english')\n",
    "import pyLDAvis.gensim\n",
    "import pickle \n",
    "import pyLDAvis\n",
    "\n",
    "pd.options.mode.chained_assignment = None  "
   ]
  },
  {
   "cell_type": "markdown",
   "id": "c7f2d0db",
   "metadata": {},
   "source": [
    "## Load/Clean data"
   ]
  },
  {
   "cell_type": "code",
   "execution_count": 2,
   "id": "0b7c3932",
   "metadata": {},
   "outputs": [
    {
     "data": {
      "text/html": [
       "<div>\n",
       "<style scoped>\n",
       "    .dataframe tbody tr th:only-of-type {\n",
       "        vertical-align: middle;\n",
       "    }\n",
       "\n",
       "    .dataframe tbody tr th {\n",
       "        vertical-align: top;\n",
       "    }\n",
       "\n",
       "    .dataframe thead th {\n",
       "        text-align: right;\n",
       "    }\n",
       "</style>\n",
       "<table border=\"1\" class=\"dataframe\">\n",
       "  <thead>\n",
       "    <tr style=\"text-align: right;\">\n",
       "      <th></th>\n",
       "      <th>Tweets</th>\n",
       "      <th>Time</th>\n",
       "      <th>Account</th>\n",
       "      <th>Likes</th>\n",
       "      <th>Hashtag</th>\n",
       "      <th>Unnamed: 5</th>\n",
       "      <th>sentiment</th>\n",
       "    </tr>\n",
       "  </thead>\n",
       "  <tbody>\n",
       "    <tr>\n",
       "      <th>0</th>\n",
       "      <td>Immigration remains the top issue among SC pri...</td>\n",
       "      <td>Feb 24</td>\n",
       "      <td>@IzzyLyman</td>\n",
       "      <td>1 reply, 4 reposts, 27 likes, 1 bookmark, 745 ...</td>\n",
       "      <td>us since:2024-02-01 until:2024-02-29 immigration</td>\n",
       "      <td>NaN</td>\n",
       "      <td>NaN</td>\n",
       "    </tr>\n",
       "    <tr>\n",
       "      <th>1</th>\n",
       "      <td>Here is Del. Alfonso López speaking about two ...</td>\n",
       "      <td>Feb 15</td>\n",
       "      <td>@LatinoCaucusVA</td>\n",
       "      <td>5 replies, 6 reposts, 4 likes, 503 views</td>\n",
       "      <td>us since:2024-02-01 until:2024-02-29 immigration</td>\n",
       "      <td>NaN</td>\n",
       "      <td>NaN</td>\n",
       "    </tr>\n",
       "    <tr>\n",
       "      <th>2</th>\n",
       "      <td>Don’t let the Left gaslight you \\n\\nIt’s norma...</td>\n",
       "      <td>Feb 27</td>\n",
       "      <td>@JesseHughesNC</td>\n",
       "      <td>2 replies, 3 reposts, 14 likes, 1 bookmark, 68...</td>\n",
       "      <td>us since:2024-02-01 until:2024-02-29 immigration</td>\n",
       "      <td>NaN</td>\n",
       "      <td>NaN</td>\n",
       "    </tr>\n",
       "    <tr>\n",
       "      <th>3</th>\n",
       "      <td>Sometimes, unbearable horrors and cruel twists...</td>\n",
       "      <td>Feb 19</td>\n",
       "      <td>@KiddieChronicle</td>\n",
       "      <td>2 reposts, 35 likes, 496 views</td>\n",
       "      <td>us since:2024-02-01 until:2024-02-29 immigration</td>\n",
       "      <td>NaN</td>\n",
       "      <td>NaN</td>\n",
       "    </tr>\n",
       "    <tr>\n",
       "      <th>4</th>\n",
       "      <td>Your Party members have called out the BS with...</td>\n",
       "      <td>Feb 24</td>\n",
       "      <td>@IamAmericasidea</td>\n",
       "      <td>6 replies, 55 reposts, 215 likes, 2 bookmarks,...</td>\n",
       "      <td>us since:2024-02-01 until:2024-02-29 immigration</td>\n",
       "      <td>NaN</td>\n",
       "      <td>NaN</td>\n",
       "    </tr>\n",
       "  </tbody>\n",
       "</table>\n",
       "</div>"
      ],
      "text/plain": [
       "                                              Tweets    Time  \\\n",
       "0  Immigration remains the top issue among SC pri...  Feb 24   \n",
       "1  Here is Del. Alfonso López speaking about two ...  Feb 15   \n",
       "2  Don’t let the Left gaslight you \\n\\nIt’s norma...  Feb 27   \n",
       "3  Sometimes, unbearable horrors and cruel twists...  Feb 19   \n",
       "4  Your Party members have called out the BS with...  Feb 24   \n",
       "\n",
       "            Account                                              Likes  \\\n",
       "0        @IzzyLyman  1 reply, 4 reposts, 27 likes, 1 bookmark, 745 ...   \n",
       "1   @LatinoCaucusVA           5 replies, 6 reposts, 4 likes, 503 views   \n",
       "2    @JesseHughesNC  2 replies, 3 reposts, 14 likes, 1 bookmark, 68...   \n",
       "3  @KiddieChronicle                     2 reposts, 35 likes, 496 views   \n",
       "4  @IamAmericasidea  6 replies, 55 reposts, 215 likes, 2 bookmarks,...   \n",
       "\n",
       "                                            Hashtag  Unnamed: 5  sentiment  \n",
       "0  us since:2024-02-01 until:2024-02-29 immigration         NaN        NaN  \n",
       "1  us since:2024-02-01 until:2024-02-29 immigration         NaN        NaN  \n",
       "2  us since:2024-02-01 until:2024-02-29 immigration         NaN        NaN  \n",
       "3  us since:2024-02-01 until:2024-02-29 immigration         NaN        NaN  \n",
       "4  us since:2024-02-01 until:2024-02-29 immigration         NaN        NaN  "
      ]
     },
     "execution_count": 2,
     "metadata": {},
     "output_type": "execute_result"
    }
   ],
   "source": [
    "us = pd.read_excel('/Users/zhaolongjiang/Desktop/US_tweet_data (1).xlsx')\n",
    "us.head()## Load/Clean data"
   ]
  },
  {
   "cell_type": "code",
   "execution_count": 3,
   "id": "a48ce60e",
   "metadata": {},
   "outputs": [
    {
     "data": {
      "text/plain": [
       "(12849, 7)"
      ]
     },
     "execution_count": 3,
     "metadata": {},
     "output_type": "execute_result"
    }
   ],
   "source": [
    "us_cleaned = us.drop_duplicates(subset = ['Tweets', 'Account', 'Likes'], keep = 'last')\n",
    "us_cleaned.shape"
   ]
  },
  {
   "cell_type": "code",
   "execution_count": 4,
   "id": "f1e6e53b",
   "metadata": {},
   "outputs": [
    {
     "data": {
      "text/html": [
       "<div>\n",
       "<style scoped>\n",
       "    .dataframe tbody tr th:only-of-type {\n",
       "        vertical-align: middle;\n",
       "    }\n",
       "\n",
       "    .dataframe tbody tr th {\n",
       "        vertical-align: top;\n",
       "    }\n",
       "\n",
       "    .dataframe thead th {\n",
       "        text-align: right;\n",
       "    }\n",
       "</style>\n",
       "<table border=\"1\" class=\"dataframe\">\n",
       "  <thead>\n",
       "    <tr style=\"text-align: right;\">\n",
       "      <th></th>\n",
       "      <th>Tweets</th>\n",
       "      <th>Time</th>\n",
       "      <th>Account</th>\n",
       "      <th>Likes</th>\n",
       "      <th>Hashtag</th>\n",
       "      <th>Unnamed: 5</th>\n",
       "      <th>sentiment</th>\n",
       "      <th>Region</th>\n",
       "    </tr>\n",
       "  </thead>\n",
       "  <tbody>\n",
       "    <tr>\n",
       "      <th>0</th>\n",
       "      <td>Immigration remains the top issue among SC pri...</td>\n",
       "      <td>Feb 24</td>\n",
       "      <td>@IzzyLyman</td>\n",
       "      <td>1 reply, 4 reposts, 27 likes, 1 bookmark, 745 ...</td>\n",
       "      <td>us since:2024-02-01 until:2024-02-29 immigration</td>\n",
       "      <td>NaN</td>\n",
       "      <td>NaN</td>\n",
       "      <td>US</td>\n",
       "    </tr>\n",
       "    <tr>\n",
       "      <th>1</th>\n",
       "      <td>Here is Del. Alfonso López speaking about two ...</td>\n",
       "      <td>Feb 15</td>\n",
       "      <td>@LatinoCaucusVA</td>\n",
       "      <td>5 replies, 6 reposts, 4 likes, 503 views</td>\n",
       "      <td>us since:2024-02-01 until:2024-02-29 immigration</td>\n",
       "      <td>NaN</td>\n",
       "      <td>NaN</td>\n",
       "      <td>US</td>\n",
       "    </tr>\n",
       "    <tr>\n",
       "      <th>2</th>\n",
       "      <td>Don’t let the Left gaslight you \\n\\nIt’s norma...</td>\n",
       "      <td>Feb 27</td>\n",
       "      <td>@JesseHughesNC</td>\n",
       "      <td>2 replies, 3 reposts, 14 likes, 1 bookmark, 68...</td>\n",
       "      <td>us since:2024-02-01 until:2024-02-29 immigration</td>\n",
       "      <td>NaN</td>\n",
       "      <td>NaN</td>\n",
       "      <td>US</td>\n",
       "    </tr>\n",
       "    <tr>\n",
       "      <th>3</th>\n",
       "      <td>Sometimes, unbearable horrors and cruel twists...</td>\n",
       "      <td>Feb 19</td>\n",
       "      <td>@KiddieChronicle</td>\n",
       "      <td>2 reposts, 35 likes, 496 views</td>\n",
       "      <td>us since:2024-02-01 until:2024-02-29 immigration</td>\n",
       "      <td>NaN</td>\n",
       "      <td>NaN</td>\n",
       "      <td>US</td>\n",
       "    </tr>\n",
       "    <tr>\n",
       "      <th>4</th>\n",
       "      <td>Your Party members have called out the BS with...</td>\n",
       "      <td>Feb 24</td>\n",
       "      <td>@IamAmericasidea</td>\n",
       "      <td>6 replies, 55 reposts, 215 likes, 2 bookmarks,...</td>\n",
       "      <td>us since:2024-02-01 until:2024-02-29 immigration</td>\n",
       "      <td>NaN</td>\n",
       "      <td>NaN</td>\n",
       "      <td>US</td>\n",
       "    </tr>\n",
       "  </tbody>\n",
       "</table>\n",
       "</div>"
      ],
      "text/plain": [
       "                                              Tweets    Time  \\\n",
       "0  Immigration remains the top issue among SC pri...  Feb 24   \n",
       "1  Here is Del. Alfonso López speaking about two ...  Feb 15   \n",
       "2  Don’t let the Left gaslight you \\n\\nIt’s norma...  Feb 27   \n",
       "3  Sometimes, unbearable horrors and cruel twists...  Feb 19   \n",
       "4  Your Party members have called out the BS with...  Feb 24   \n",
       "\n",
       "            Account                                              Likes  \\\n",
       "0        @IzzyLyman  1 reply, 4 reposts, 27 likes, 1 bookmark, 745 ...   \n",
       "1   @LatinoCaucusVA           5 replies, 6 reposts, 4 likes, 503 views   \n",
       "2    @JesseHughesNC  2 replies, 3 reposts, 14 likes, 1 bookmark, 68...   \n",
       "3  @KiddieChronicle                     2 reposts, 35 likes, 496 views   \n",
       "4  @IamAmericasidea  6 replies, 55 reposts, 215 likes, 2 bookmarks,...   \n",
       "\n",
       "                                            Hashtag  Unnamed: 5  sentiment  \\\n",
       "0  us since:2024-02-01 until:2024-02-29 immigration         NaN        NaN   \n",
       "1  us since:2024-02-01 until:2024-02-29 immigration         NaN        NaN   \n",
       "2  us since:2024-02-01 until:2024-02-29 immigration         NaN        NaN   \n",
       "3  us since:2024-02-01 until:2024-02-29 immigration         NaN        NaN   \n",
       "4  us since:2024-02-01 until:2024-02-29 immigration         NaN        NaN   \n",
       "\n",
       "  Region  \n",
       "0     US  \n",
       "1     US  \n",
       "2     US  \n",
       "3     US  \n",
       "4     US  "
      ]
     },
     "execution_count": 4,
     "metadata": {},
     "output_type": "execute_result"
    }
   ],
   "source": [
    "us_cleaned.loc[:,'Region'] = us_cleaned['Hashtag'].apply(lambda x: x.upper()[:2])\n",
    "us_cleaned.head()"
   ]
  },
  {
   "cell_type": "code",
   "execution_count": 6,
   "id": "54da5827",
   "metadata": {},
   "outputs": [
    {
     "data": {
      "text/html": [
       "<div>\n",
       "<style scoped>\n",
       "    .dataframe tbody tr th:only-of-type {\n",
       "        vertical-align: middle;\n",
       "    }\n",
       "\n",
       "    .dataframe tbody tr th {\n",
       "        vertical-align: top;\n",
       "    }\n",
       "\n",
       "    .dataframe thead th {\n",
       "        text-align: right;\n",
       "    }\n",
       "</style>\n",
       "<table border=\"1\" class=\"dataframe\">\n",
       "  <thead>\n",
       "    <tr style=\"text-align: right;\">\n",
       "      <th></th>\n",
       "      <th>Tweets</th>\n",
       "      <th>Time</th>\n",
       "      <th>Account</th>\n",
       "      <th>Likes</th>\n",
       "      <th>Unnamed: 5</th>\n",
       "      <th>sentiment</th>\n",
       "      <th>Region</th>\n",
       "      <th>Month</th>\n",
       "    </tr>\n",
       "  </thead>\n",
       "  <tbody>\n",
       "    <tr>\n",
       "      <th>0</th>\n",
       "      <td>Immigration remains the top issue among SC pri...</td>\n",
       "      <td>Feb 24</td>\n",
       "      <td>@IzzyLyman</td>\n",
       "      <td>1 reply, 4 reposts, 27 likes, 1 bookmark, 745 ...</td>\n",
       "      <td>NaN</td>\n",
       "      <td>NaN</td>\n",
       "      <td>US</td>\n",
       "      <td>2024-02</td>\n",
       "    </tr>\n",
       "    <tr>\n",
       "      <th>1</th>\n",
       "      <td>Here is Del. Alfonso López speaking about two ...</td>\n",
       "      <td>Feb 15</td>\n",
       "      <td>@LatinoCaucusVA</td>\n",
       "      <td>5 replies, 6 reposts, 4 likes, 503 views</td>\n",
       "      <td>NaN</td>\n",
       "      <td>NaN</td>\n",
       "      <td>US</td>\n",
       "      <td>2024-02</td>\n",
       "    </tr>\n",
       "    <tr>\n",
       "      <th>2</th>\n",
       "      <td>Don’t let the Left gaslight you \\n\\nIt’s norma...</td>\n",
       "      <td>Feb 27</td>\n",
       "      <td>@JesseHughesNC</td>\n",
       "      <td>2 replies, 3 reposts, 14 likes, 1 bookmark, 68...</td>\n",
       "      <td>NaN</td>\n",
       "      <td>NaN</td>\n",
       "      <td>US</td>\n",
       "      <td>2024-02</td>\n",
       "    </tr>\n",
       "    <tr>\n",
       "      <th>3</th>\n",
       "      <td>Sometimes, unbearable horrors and cruel twists...</td>\n",
       "      <td>Feb 19</td>\n",
       "      <td>@KiddieChronicle</td>\n",
       "      <td>2 reposts, 35 likes, 496 views</td>\n",
       "      <td>NaN</td>\n",
       "      <td>NaN</td>\n",
       "      <td>US</td>\n",
       "      <td>2024-02</td>\n",
       "    </tr>\n",
       "    <tr>\n",
       "      <th>4</th>\n",
       "      <td>Your Party members have called out the BS with...</td>\n",
       "      <td>Feb 24</td>\n",
       "      <td>@IamAmericasidea</td>\n",
       "      <td>6 replies, 55 reposts, 215 likes, 2 bookmarks,...</td>\n",
       "      <td>NaN</td>\n",
       "      <td>NaN</td>\n",
       "      <td>US</td>\n",
       "      <td>2024-02</td>\n",
       "    </tr>\n",
       "  </tbody>\n",
       "</table>\n",
       "</div>"
      ],
      "text/plain": [
       "                                              Tweets    Time  \\\n",
       "0  Immigration remains the top issue among SC pri...  Feb 24   \n",
       "1  Here is Del. Alfonso López speaking about two ...  Feb 15   \n",
       "2  Don’t let the Left gaslight you \\n\\nIt’s norma...  Feb 27   \n",
       "3  Sometimes, unbearable horrors and cruel twists...  Feb 19   \n",
       "4  Your Party members have called out the BS with...  Feb 24   \n",
       "\n",
       "            Account                                              Likes  \\\n",
       "0        @IzzyLyman  1 reply, 4 reposts, 27 likes, 1 bookmark, 745 ...   \n",
       "1   @LatinoCaucusVA           5 replies, 6 reposts, 4 likes, 503 views   \n",
       "2    @JesseHughesNC  2 replies, 3 reposts, 14 likes, 1 bookmark, 68...   \n",
       "3  @KiddieChronicle                     2 reposts, 35 likes, 496 views   \n",
       "4  @IamAmericasidea  6 replies, 55 reposts, 215 likes, 2 bookmarks,...   \n",
       "\n",
       "   Unnamed: 5  sentiment Region    Month  \n",
       "0         NaN        NaN     US  2024-02  \n",
       "1         NaN        NaN     US  2024-02  \n",
       "2         NaN        NaN     US  2024-02  \n",
       "3         NaN        NaN     US  2024-02  \n",
       "4         NaN        NaN     US  2024-02  "
      ]
     },
     "execution_count": 6,
     "metadata": {},
     "output_type": "execute_result"
    }
   ],
   "source": [
    "us_cleaned.loc[:,'Month'] = us_cleaned['Hashtag'].apply(lambda x: x[9:16])\n",
    "us_cleaned = us_cleaned.drop(columns = 'Hashtag')\n",
    "us_cleaned['Likes'] = us_cleaned['Likes'].fillna('none')\n",
    "us_cleaned.head()"
   ]
  },
  {
   "cell_type": "code",
   "execution_count": 8,
   "id": "9e6935b3",
   "metadata": {},
   "outputs": [],
   "source": [
    "us_cleaned.to_csv('/Users/zhaolongjiang/Desktop/US_tweet_data.csv', index = False)"
   ]
  },
  {
   "cell_type": "markdown",
   "id": "cfc60005",
   "metadata": {},
   "source": [
    "## Analysis"
   ]
  },
  {
   "cell_type": "markdown",
   "id": "4815c5db",
   "metadata": {},
   "source": [
    "### Influence"
   ]
  },
  {
   "cell_type": "code",
   "execution_count": 9,
   "id": "9a7ac510",
   "metadata": {},
   "outputs": [
    {
     "name": "stderr",
     "output_type": "stream",
     "text": [
      "<>:2: DeprecationWarning: invalid escape sequence '\\d'\n",
      "<>:2: DeprecationWarning: invalid escape sequence '\\d'\n",
      "/var/folders/mm/vz00s87d5831dtr_qcjg3ln00000gn/T/ipykernel_87909/1985288720.py:2: DeprecationWarning: invalid escape sequence '\\d'\n",
      "  us_cleaned.loc[repost_filter, 'Reposts'] = us_cleaned.loc[repost_filter, 'Likes'].apply(lambda x: re.findall('(\\d+[.,]?\\d*)(?:[\\s\\d\\-\\+\\/]*)(?:repost)', x)[0]).astype('int')\n"
     ]
    },
    {
     "data": {
      "text/html": [
       "<div>\n",
       "<style scoped>\n",
       "    .dataframe tbody tr th:only-of-type {\n",
       "        vertical-align: middle;\n",
       "    }\n",
       "\n",
       "    .dataframe tbody tr th {\n",
       "        vertical-align: top;\n",
       "    }\n",
       "\n",
       "    .dataframe thead th {\n",
       "        text-align: right;\n",
       "    }\n",
       "</style>\n",
       "<table border=\"1\" class=\"dataframe\">\n",
       "  <thead>\n",
       "    <tr style=\"text-align: right;\">\n",
       "      <th></th>\n",
       "      <th>Likes</th>\n",
       "      <th>Reposts</th>\n",
       "    </tr>\n",
       "  </thead>\n",
       "  <tbody>\n",
       "    <tr>\n",
       "      <th>0</th>\n",
       "      <td>1 reply, 4 reposts, 27 likes, 1 bookmark, 745 ...</td>\n",
       "      <td>4.0</td>\n",
       "    </tr>\n",
       "    <tr>\n",
       "      <th>1</th>\n",
       "      <td>5 replies, 6 reposts, 4 likes, 503 views</td>\n",
       "      <td>6.0</td>\n",
       "    </tr>\n",
       "    <tr>\n",
       "      <th>2</th>\n",
       "      <td>2 replies, 3 reposts, 14 likes, 1 bookmark, 68...</td>\n",
       "      <td>3.0</td>\n",
       "    </tr>\n",
       "    <tr>\n",
       "      <th>3</th>\n",
       "      <td>2 reposts, 35 likes, 496 views</td>\n",
       "      <td>2.0</td>\n",
       "    </tr>\n",
       "    <tr>\n",
       "      <th>4</th>\n",
       "      <td>6 replies, 55 reposts, 215 likes, 2 bookmarks,...</td>\n",
       "      <td>55.0</td>\n",
       "    </tr>\n",
       "    <tr>\n",
       "      <th>5</th>\n",
       "      <td>5 reposts, 11 likes, 2 bookmarks, 1178 views</td>\n",
       "      <td>5.0</td>\n",
       "    </tr>\n",
       "    <tr>\n",
       "      <th>6</th>\n",
       "      <td>3 replies, 4 reposts, 26 likes, 252 views</td>\n",
       "      <td>4.0</td>\n",
       "    </tr>\n",
       "    <tr>\n",
       "      <th>7</th>\n",
       "      <td>27 replies, 276 reposts, 427 likes, 4 bookmark...</td>\n",
       "      <td>276.0</td>\n",
       "    </tr>\n",
       "    <tr>\n",
       "      <th>8</th>\n",
       "      <td>7 replies, 30 reposts, 129 likes, 8586 views</td>\n",
       "      <td>30.0</td>\n",
       "    </tr>\n",
       "    <tr>\n",
       "      <th>9</th>\n",
       "      <td>16 replies, 105 reposts, 327 likes, 3 bookmark...</td>\n",
       "      <td>105.0</td>\n",
       "    </tr>\n",
       "  </tbody>\n",
       "</table>\n",
       "</div>"
      ],
      "text/plain": [
       "                                               Likes  Reposts\n",
       "0  1 reply, 4 reposts, 27 likes, 1 bookmark, 745 ...      4.0\n",
       "1           5 replies, 6 reposts, 4 likes, 503 views      6.0\n",
       "2  2 replies, 3 reposts, 14 likes, 1 bookmark, 68...      3.0\n",
       "3                     2 reposts, 35 likes, 496 views      2.0\n",
       "4  6 replies, 55 reposts, 215 likes, 2 bookmarks,...     55.0\n",
       "5       5 reposts, 11 likes, 2 bookmarks, 1178 views      5.0\n",
       "6          3 replies, 4 reposts, 26 likes, 252 views      4.0\n",
       "7  27 replies, 276 reposts, 427 likes, 4 bookmark...    276.0\n",
       "8       7 replies, 30 reposts, 129 likes, 8586 views     30.0\n",
       "9  16 replies, 105 reposts, 327 likes, 3 bookmark...    105.0"
      ]
     },
     "execution_count": 9,
     "metadata": {},
     "output_type": "execute_result"
    }
   ],
   "source": [
    "repost_filter = us_cleaned['Likes'].str.contains('repost')### Influence\n",
    "us_cleaned.loc[repost_filter, 'Reposts'] = us_cleaned.loc[repost_filter, 'Likes'].apply(lambda x: re.findall('(\\d+[.,]?\\d*)(?:[\\s\\d\\-\\+\\/]*)(?:repost)', x)[0]).astype('int')   \n",
    "us_cleaned.loc[~repost_filter, 'Reposts'] = 0\n",
    "us_cleaned[['Likes', 'Reposts']].head(10)## Analysis"
   ]
  },
  {
   "cell_type": "code",
   "execution_count": 10,
   "id": "d7c64067",
   "metadata": {},
   "outputs": [
    {
     "name": "stdout",
     "output_type": "stream",
     "text": [
      "2083\n"
     ]
    },
    {
     "data": {
      "text/html": [
       "<div>\n",
       "<style scoped>\n",
       "    .dataframe tbody tr th:only-of-type {\n",
       "        vertical-align: middle;\n",
       "    }\n",
       "\n",
       "    .dataframe tbody tr th {\n",
       "        vertical-align: top;\n",
       "    }\n",
       "\n",
       "    .dataframe thead th {\n",
       "        text-align: right;\n",
       "    }\n",
       "</style>\n",
       "<table border=\"1\" class=\"dataframe\">\n",
       "  <thead>\n",
       "    <tr style=\"text-align: right;\">\n",
       "      <th></th>\n",
       "      <th>Tweets</th>\n",
       "      <th>Time</th>\n",
       "      <th>Account</th>\n",
       "      <th>Likes</th>\n",
       "      <th>Unnamed: 5</th>\n",
       "      <th>sentiment</th>\n",
       "      <th>Region</th>\n",
       "      <th>Month</th>\n",
       "      <th>Reposts</th>\n",
       "      <th>Influential</th>\n",
       "    </tr>\n",
       "  </thead>\n",
       "  <tbody>\n",
       "    <tr>\n",
       "      <th>0</th>\n",
       "      <td>Immigration remains the top issue among SC pri...</td>\n",
       "      <td>Feb 24</td>\n",
       "      <td>@IzzyLyman</td>\n",
       "      <td>1 reply, 4 reposts, 27 likes, 1 bookmark, 745 ...</td>\n",
       "      <td>NaN</td>\n",
       "      <td>NaN</td>\n",
       "      <td>US</td>\n",
       "      <td>2024-02</td>\n",
       "      <td>4.0</td>\n",
       "      <td>no</td>\n",
       "    </tr>\n",
       "    <tr>\n",
       "      <th>1</th>\n",
       "      <td>Here is Del. Alfonso López speaking about two ...</td>\n",
       "      <td>Feb 15</td>\n",
       "      <td>@LatinoCaucusVA</td>\n",
       "      <td>5 replies, 6 reposts, 4 likes, 503 views</td>\n",
       "      <td>NaN</td>\n",
       "      <td>NaN</td>\n",
       "      <td>US</td>\n",
       "      <td>2024-02</td>\n",
       "      <td>6.0</td>\n",
       "      <td>no</td>\n",
       "    </tr>\n",
       "    <tr>\n",
       "      <th>2</th>\n",
       "      <td>Don’t let the Left gaslight you \\n\\nIt’s norma...</td>\n",
       "      <td>Feb 27</td>\n",
       "      <td>@JesseHughesNC</td>\n",
       "      <td>2 replies, 3 reposts, 14 likes, 1 bookmark, 68...</td>\n",
       "      <td>NaN</td>\n",
       "      <td>NaN</td>\n",
       "      <td>US</td>\n",
       "      <td>2024-02</td>\n",
       "      <td>3.0</td>\n",
       "      <td>no</td>\n",
       "    </tr>\n",
       "    <tr>\n",
       "      <th>3</th>\n",
       "      <td>Sometimes, unbearable horrors and cruel twists...</td>\n",
       "      <td>Feb 19</td>\n",
       "      <td>@KiddieChronicle</td>\n",
       "      <td>2 reposts, 35 likes, 496 views</td>\n",
       "      <td>NaN</td>\n",
       "      <td>NaN</td>\n",
       "      <td>US</td>\n",
       "      <td>2024-02</td>\n",
       "      <td>2.0</td>\n",
       "      <td>no</td>\n",
       "    </tr>\n",
       "    <tr>\n",
       "      <th>4</th>\n",
       "      <td>Your Party members have called out the BS with...</td>\n",
       "      <td>Feb 24</td>\n",
       "      <td>@IamAmericasidea</td>\n",
       "      <td>6 replies, 55 reposts, 215 likes, 2 bookmarks,...</td>\n",
       "      <td>NaN</td>\n",
       "      <td>NaN</td>\n",
       "      <td>US</td>\n",
       "      <td>2024-02</td>\n",
       "      <td>55.0</td>\n",
       "      <td>yes</td>\n",
       "    </tr>\n",
       "  </tbody>\n",
       "</table>\n",
       "</div>"
      ],
      "text/plain": [
       "                                              Tweets    Time  \\\n",
       "0  Immigration remains the top issue among SC pri...  Feb 24   \n",
       "1  Here is Del. Alfonso López speaking about two ...  Feb 15   \n",
       "2  Don’t let the Left gaslight you \\n\\nIt’s norma...  Feb 27   \n",
       "3  Sometimes, unbearable horrors and cruel twists...  Feb 19   \n",
       "4  Your Party members have called out the BS with...  Feb 24   \n",
       "\n",
       "            Account                                              Likes  \\\n",
       "0        @IzzyLyman  1 reply, 4 reposts, 27 likes, 1 bookmark, 745 ...   \n",
       "1   @LatinoCaucusVA           5 replies, 6 reposts, 4 likes, 503 views   \n",
       "2    @JesseHughesNC  2 replies, 3 reposts, 14 likes, 1 bookmark, 68...   \n",
       "3  @KiddieChronicle                     2 reposts, 35 likes, 496 views   \n",
       "4  @IamAmericasidea  6 replies, 55 reposts, 215 likes, 2 bookmarks,...   \n",
       "\n",
       "   Unnamed: 5  sentiment Region    Month  Reposts Influential  \n",
       "0         NaN        NaN     US  2024-02      4.0          no  \n",
       "1         NaN        NaN     US  2024-02      6.0          no  \n",
       "2         NaN        NaN     US  2024-02      3.0          no  \n",
       "3         NaN        NaN     US  2024-02      2.0          no  \n",
       "4         NaN        NaN     US  2024-02     55.0         yes  "
      ]
     },
     "execution_count": 10,
     "metadata": {},
     "output_type": "execute_result"
    }
   ],
   "source": [
    "print(len(us_cleaned[us_cleaned.Reposts >= 10]))\n",
    "us_cleaned['Influential'] = np.where(us_cleaned.Reposts >= 10, 'yes', 'no')\n",
    "us_cleaned.head()"
   ]
  },
  {
   "cell_type": "markdown",
   "id": "2c4489d7",
   "metadata": {},
   "source": [
    "### Sentiment and topic, Overall"
   ]
  },
  {
   "cell_type": "code",
   "execution_count": 11,
   "id": "7d2b3bac",
   "metadata": {},
   "outputs": [
    {
     "name": "stdout",
     "output_type": "stream",
     "text": [
      "['immigration', 'remains', 'top', 'issue', 'among', 'sc', 'primary', 'voters', 'stoptheinvasion']\n"
     ]
    }
   ],
   "source": [
    "def sent_to_words(sentences):\n",
    "    for sentence in sentences:\n",
    "        # deacc=True removes punctuations\n",
    "        yield(gensim.utils.simple_preprocess(str(sentence), deacc=True))\n",
    "def remove_stopwords(texts):\n",
    "    res = [[word for word in simple_preprocess(str(doc)) \n",
    "             if (word not in stop_words) & (word not in ['https', 'com'])] for doc in texts]\n",
    "    return res\n",
    "\n",
    "data = us_cleaned.Tweets.values.tolist()\n",
    "data_words = list(sent_to_words(data))\n",
    "# remove stop words\n",
    "data_words = remove_stopwords(data_words)\n",
    "print(data_words[:1][0][:30])### Sentiment and topic, Overall"
   ]
  },
  {
   "cell_type": "code",
   "execution_count": 12,
   "id": "d549950b",
   "metadata": {},
   "outputs": [
    {
     "name": "stdout",
     "output_type": "stream",
     "text": [
      "[(0, 1), (1, 1), (2, 1), (3, 1), (4, 1), (5, 1), (6, 1), (7, 1), (8, 1)]\n"
     ]
    }
   ],
   "source": [
    "import gensim.corpora as corpora\n",
    "# Create Dictionary\n",
    "id2word = corpora.Dictionary(data_words)\n",
    "# Create Corpus\n",
    "texts = data_words\n",
    "# Term Document Frequency\n",
    "corpus = [id2word.doc2bow(text) for text in texts]\n",
    "# View\n",
    "print(corpus[:1][0][:30])"
   ]
  },
  {
   "cell_type": "code",
   "execution_count": 13,
   "id": "9ed49438",
   "metadata": {},
   "outputs": [
    {
     "name": "stdout",
     "output_type": "stream",
     "text": [
      "[(0,\n",
      "  '0.042*\"immigration\" + 0.009*\"illegal\" + 0.008*\"border\" + 0.006*\"people\" + '\n",
      "  '0.005*\"biden\" + 0.004*\"laws\" + 0.004*\"us\" + 0.004*\"new\" + 0.004*\"get\" + '\n",
      "  '0.003*\"years\"'),\n",
      " (1,\n",
      "  '0.048*\"immigration\" + 0.008*\"border\" + 0.005*\"illegal\" + 0.003*\"get\" + '\n",
      "  '0.003*\"people\" + 0.003*\"status\" + 0.003*\"new\" + 0.003*\"trump\" + '\n",
      "  '0.003*\"like\" + 0.003*\"immigrants\"'),\n",
      " (2,\n",
      "  '0.056*\"immigration\" + 0.007*\"illegal\" + 0.006*\"us\" + 0.005*\"people\" + '\n",
      "  '0.005*\"biden\" + 0.004*\"like\" + 0.004*\"reform\" + 0.004*\"policy\" + '\n",
      "  '0.004*\"need\" + 0.003*\"country\"')]\n"
     ]
    }
   ],
   "source": [
    "from pprint import pprint\n",
    "# number of topics\n",
    "num_topics = 3\n",
    "# Build LDA model\n",
    "lda_model = gensim.models.LdaMulticore(corpus=corpus,\n",
    "                                       id2word=id2word,\n",
    "                                       num_topics=num_topics,\n",
    "                                       alpha = 'symmetric',\n",
    "                                       eta = 'auto',\n",
    "                                       random_state = 9)\n",
    "# Print the Keyword in the 10 topics\n",
    "pprint(lda_model.print_topics())\n",
    "doc_lda = lda_model[corpus]#### Sentiment analysis"
   ]
  },
  {
   "cell_type": "code",
   "execution_count": 14,
   "id": "5c2e45ac",
   "metadata": {},
   "outputs": [
    {
     "data": {
      "text/html": [
       "\n",
       "<link rel=\"stylesheet\" type=\"text/css\" href=\"https://cdn.jsdelivr.net/gh/bmabey/pyLDAvis@3.4.0/pyLDAvis/js/ldavis.v1.0.0.css\">\n",
       "\n",
       "\n",
       "<div id=\"ldavis_el8790958841293765778490058\" style=\"background-color:white;\"></div>\n",
       "<script type=\"text/javascript\">\n",
       "\n",
       "var ldavis_el8790958841293765778490058_data = {\"mdsDat\": {\"x\": [-0.015175940103899943, -0.017538936480744977, 0.032714876584644906], \"y\": [0.02635121620532061, -0.0251121494635072, -0.0012390667418133868], \"topics\": [1, 2, 3], \"cluster\": [1, 1, 1], \"Freq\": [40.615471086998674, 30.21063574287784, 29.17389317012349]}, \"tinfo\": {\"Term\": [\"border\", \"illegal\", \"great\", \"laws\", \"try\", \"years\", \"crisis\", \"status\", \"students\", \"today\", \"biden\", \"anti\", \"free\", \"make\", \"ai\", \"afremov\", \"people\", \"reform\", \"day\", \"work\", \"bluetooth\", \"know\", \"cal\", \"original\", \"already\", \"vtw\", \"could\", \"florida\", \"come\", \"world\", \"fasting\", \"fasters\", \"fetterman\", \"superlight\", \"intolerant\", \"\\u30b9\\u30a4\\u30c3\\u30c1\\u3068\\u30bb\\u30f3\\u30b5\\u30fc\\u306e\\u9032\\u5316\\u3066\", \"\\u30ed\\u30b7\\u30af\\u30fc\\u30eb\\u53f2\\u4e0a\\u6700\\u8efd\\u91cf\", \"rioting\", \"\\u3057\\u304b\\u3082\", \"\\u6700\\u9ad8\\u5cf0\\u30de\\u30a6\\u30b9\\u304b\\u65b0\\u767a\\u58f2\", \"\\u30bf\\u30c3\\u30d5\\u3057\\u3066\\u8a73\\u7d30\\u30c1\\u30a7\\u30c3\\u30af\", \"superlight\\u304b\\u9032\\u5316\\u3057\\u305f\", \"automotive\", \"cedefop\", \"warrants\", \"activation\", \"infonomics\", \"seaweed\", \"diets\", \"reputed\", \"apple\", \"bungled\", \"tasty\", \"unleashed\", \"reach\", \"loveyourw\", \"arson\", \"decapitating\", \"overspending\", \"poetry\", \"apps\", \"powerbeatsvr\", \"appstore\", \"vr\", \"ensures\", \"excuse\", \"restricting\", \"hira\", \"rating\", \"younger\", \"reform\", \"quest\", \"thing\", \"immigration\", \"either\", \"policy\", \"us\", \"mean\", \"stop\", \"plan\", \"meta\", \"countries\", \"think\", \"americans\", \"must\", \"love\", \"borders\", \"probably\", \"pass\", \"democrats\", \"need\", \"like\", \"issues\", \"also\", \"good\", \"illegal\", \"biden\", \"people\", \"one\", \"workers\", \"country\", \"even\", \"would\", \"immigrants\", \"legal\", \"law\", \"gop\", \"trump\", \"policies\", \"want\", \"get\", \"new\", \"canada\", \"way\", \"bill\", \"america\", \"border\", \"laws\", \"right\", \"maths\", \"\\u3046\\u304a\\u3063\\u304b\", \"\\u3055\\u3089\\u306b\\u30cf\\u30a4\\u30a8\\u30f3\\u30c8\\u306a\", \"\\u753b\\u50cf\\u30bf\\u30c3\\u30d5\\u3066\", \"glorious\", \"arrangement\", \"floristry\", \"\\u65b0\\u767b\\u5834\\u3057\\u305f\", \"florist\", \"\\u52d5\\u753b\\u672c\\u7bc7\\u3078\", \"stocked\", \"\\u9078\\u624b\\u304b\\u3044\\u3061\\u65e9\\u304f\\u4f53\\u611f\", \"\\u30ea\\u30a2\\u30eb\\u306a\\u611f\\u60f3\\u3092\\u52d5\\u753b\\u3066\\u30c1\\u30a7\\u30c3\\u30af\", \"jjtc\", \"lqzlqnwgmva\", \"ilydptq\", \"sjvsworldtour\", \"bitcoin\", \"dogcare\", \"plaintiffs\", \"pmc\", \"\\u304a\\u307b\", \"raccoon\", \"copa\", \"canines\", \"sht\", \"copaamerica\", \"finale\", \"messi\", \"copainusa\", \"neymar\", \"fuck\", \"icelandic\", \"great\", \"incredible\", \"usasoccer\", \"curriculum\", \"\\u30b7\\u30ea\\u30fc\\u30b9\", \"rules\", \"status\", \"border\", \"legally\", \"twitter\", \"criminal\", \"immigration\", \"able\", \"forced\", \"reason\", \"pro\\u30b7\\u30ea\\u30fc\\u30b9\\u304b\\u3089\", \"could\", \"florida\", \"crime\", \"know\", \"much\", \"crisis\", \"never\", \"states\", \"right\", \"money\", \"housing\", \"government\", \"law\", \"legal\", \"come\", \"security\", \"family\", \"get\", \"trump\", \"new\", \"work\", \"immigrants\", \"canada\", \"time\", \"control\", \"want\", \"like\", \"illegal\", \"republicans\", \"country\", \"need\", \"people\", \"would\", \"us\", \"one\", \"biden\", \"policy\", \"laws\", \"afremov\", \"tailored\", \"anatomy\", \"bundle\", \"pathology\", \"physiology\", \"premed\", \"reliability\", \"readers\", \"vtw\", \"trimmer\", \"mbbs\", \"mbchb\", \"canvas\", \"leonid\", \"dentistry\", \"usmle\", \"tudor\", \"dinosaurs\", \"giants\", \"coa\", \"medieval\", \"cal\", \"motn\", \"wired\", \"recreation\", \"bluetooth\", \"watts\", \"fishing\", \"amsterdam\", \"yield\", \"ammo\", \"variant\", \"thodio\", \"wifi\", \"battery\", \"ammocanspeaker\", \"guitar\", \"md\", \"painting\", \"pa\", \"original\", \"usb\", \"claycaneshow\", \"notes\", \"essays\", \"students\", \"try\", \"border\", \"years\", \"illegal\", \"laws\", \"immigration\", \"today\", \"anti\", \"ai\", \"free\", \"biden\", \"people\", \"make\", \"day\", \"world\", \"new\", \"pm\", \"speaker\", \"work\", \"bill\", \"get\", \"quillbot\", \"policies\", \"state\", \"system\", \"canada\", \"us\", \"trump\", \"twclid\", \"crisis\", \"would\", \"support\", \"like\", \"immigrants\", \"country\", \"time\", \"one\", \"want\", \"policy\", \"need\"], \"Freq\": [1278.0, 1629.0, 213.0, 602.0, 196.0, 480.0, 338.0, 465.0, 170.0, 389.0, 952.0, 274.0, 347.0, 411.0, 195.0, 36.0, 1104.0, 621.0, 278.0, 499.0, 39.0, 437.0, 36.0, 49.0, 132.0, 30.0, 266.0, 196.0, 269.0, 319.0, 10.930188243128898, 10.892005306039827, 9.764659727574205, 7.9701189271056405, 6.011076185184077, 5.133722502674512, 5.121452117258836, 5.103068005154459, 5.101694179929644, 5.0955405877768305, 5.094515329815158, 5.0928651721852525, 5.9324826152420895, 5.05827217124912, 5.05991210696515, 5.046394988787172, 5.879830218332346, 4.187747408669052, 4.180396489671001, 4.179723547007557, 41.61695498236495, 4.174392478191226, 4.174300480966351, 4.174778866535705, 20.80855381480608, 4.170244084810246, 5.825091869531155, 4.13287140476101, 4.134029888333522, 4.1173354585927, 26.953028020443057, 41.43575724824928, 7.297009987195487, 23.118401056085542, 8.079256938628294, 16.310222071303503, 7.286761496344306, 6.497167714678999, 8.730891681869625, 7.234626328276643, 397.20863556312764, 20.64044285629424, 100.44149613714488, 5225.3895133929545, 47.4005956282107, 378.56674314588224, 544.6636520713919, 61.04960375361372, 258.52272365810285, 116.82567034803014, 20.676520760585962, 148.65300300767697, 226.00896903791494, 193.01151890484445, 126.37740829104683, 90.66343139171487, 126.79891095406958, 46.89293994920486, 141.67475590860647, 149.10758650984326, 342.3951243477525, 407.1740148359362, 152.56224449163534, 198.79170318087856, 181.69751210638475, 695.0280378843197, 441.74412413667574, 494.3460166143456, 296.47237759163653, 136.21457477958086, 324.31442863146896, 183.23622906830104, 304.0145690421184, 313.7946127500747, 270.36232763880196, 251.63277208816368, 183.7130554550596, 294.60929613279166, 241.9870361509952, 247.90745963370838, 303.0059632596088, 273.88049777880474, 242.5461394039954, 173.22143570089838, 212.49842286909856, 189.45987540420535, 229.92301891016018, 192.3496840544776, 186.11430568728838, 23.497363866257718, 7.4843041284185645, 20.138923141687776, 19.92963037890066, 7.9709348926996695, 4.778409244404291, 4.772318515807416, 19.7088029440138, 4.770124718090432, 19.696183538292445, 7.901927079624831, 19.549557965742427, 19.537135231350597, 3.9247330081217178, 3.918355636130906, 3.9166530098528685, 3.909434969305306, 3.8880256730547864, 4.632248485279981, 3.8494953265532126, 8.457132777301869, 6.055342457222216, 18.796241892393425, 6.108332201522931, 4.541299653726085, 4.528250916519912, 6.0813699815225135, 6.074058674158887, 6.058882541153689, 6.059072116095036, 6.026818018052727, 17.99542056903617, 8.092728175472647, 135.38117111234305, 18.311550469624606, 6.006406778111066, 9.161592245579426, 21.70673629218429, 37.43099026523254, 226.56559869869614, 541.7919628137379, 54.396536348355646, 44.40469608518103, 53.92830043600368, 3361.8602915547435, 47.30334762687124, 24.79250336983318, 66.06146569442876, 20.0201539340487, 123.9147378813279, 94.37484205916527, 119.95460454077632, 181.27061002799974, 117.27594103262838, 145.6461249985058, 110.46877730553854, 115.07812878747481, 175.37246524105933, 91.90697777563784, 139.11336035443418, 153.98820099295583, 194.64826685379856, 204.45925465046716, 113.7943232295906, 112.03574091699308, 93.06890388032119, 231.4277194724817, 219.13795922988515, 224.7800825516509, 170.03547850082333, 213.81028295093972, 192.86476202591717, 154.80328808409192, 100.84802137300886, 175.40714427631931, 217.6133468630816, 327.48052076437557, 145.17289728395494, 184.57851635857884, 179.1852937833352, 226.65010654420803, 174.45364923014424, 207.21638393647763, 156.23473095672648, 166.10333331524888, 145.81239945615312, 141.1692042852225, 33.69968133433666, 7.67093485290122, 7.669240727901856, 7.6637608869981095, 7.669353310609124, 7.6581576946064, 18.325657028358503, 8.378571501472152, 14.428078946033388, 27.983522475174478, 7.570842462769833, 18.17988885490855, 18.115528747593835, 18.67189290730949, 13.37918208468267, 5.209981133406271, 17.849770903718046, 5.188007925887807, 5.189930642731927, 5.178840267085996, 9.601369486348922, 5.168794463167497, 31.654766240768758, 7.35094493995452, 5.143209308705868, 9.53948815655422, 34.378412128071595, 16.082741259048824, 7.275448444930903, 7.999106102236058, 19.681307502711462, 17.442896999652618, 15.983960212712091, 15.964640041164893, 15.949365994218889, 17.950639135549515, 15.69333921217128, 15.695929593418498, 19.76641219756533, 28.221265825561815, 21.098089408130715, 38.358851082945726, 15.648037888726886, 25.288607694766355, 21.997033935241376, 15.369866577649756, 102.30389434638815, 114.40135461517026, 507.06201886739336, 225.55105436187247, 606.615582287916, 268.9675514065106, 2839.5958004138133, 183.76751172632845, 136.30646428043755, 101.67842006809114, 159.23884513745952, 344.5697175381495, 383.5998826618714, 175.90403058510756, 127.73659811665651, 137.32493248346395, 249.14389432872989, 59.75896758833357, 44.13074523506585, 179.14495583208296, 185.1604358876076, 243.2121836392529, 40.173551182812275, 182.16823423140835, 124.61875807506678, 162.61248875364245, 201.2424938185723, 262.2151891414971, 205.36282510855708, 126.21111222297996, 126.80225954434101, 190.56504804737813, 122.28224593783506, 204.0330255817529, 186.10057002189723, 175.27633989594747, 142.2729953328023, 151.7822124468224, 145.49152151593174, 144.48188762899562, 143.36523947339128], \"Total\": [1278.0, 1629.0, 213.0, 602.0, 196.0, 480.0, 338.0, 465.0, 170.0, 389.0, 952.0, 274.0, 347.0, 411.0, 195.0, 36.0, 1104.0, 621.0, 278.0, 499.0, 39.0, 437.0, 36.0, 49.0, 132.0, 30.0, 266.0, 196.0, 269.0, 319.0, 11.616432240745624, 11.6109876134797, 10.622635054665151, 8.688096498146026, 6.747205214295222, 5.777417900783052, 5.772883308416002, 5.770841264457684, 5.76995101303204, 5.767746877400894, 5.76888313593714, 5.767258271861524, 6.735814805185701, 5.762303001288903, 5.768130867907804, 5.760400164270207, 6.713291513142316, 4.805069557450597, 4.8024445396076105, 4.801979358123454, 47.83928703509263, 4.800453255325666, 4.8004314404589215, 4.802551719830917, 23.949707446193834, 4.8033214097207555, 6.731537050381647, 4.79425084729513, 4.801696747145297, 4.794791773840449, 32.555143850380375, 51.10987806752506, 8.588563903621191, 28.523730754537638, 9.57420773635735, 20.07620628552883, 8.59729944375758, 7.643992303223709, 10.476552942692017, 8.58340719465518, 621.0036836085968, 26.383207481566163, 147.57635127100343, 11426.845605361512, 66.94125364091757, 668.861030231031, 1014.0952251493666, 89.53027003580134, 445.65301122511653, 185.6198311841648, 27.252584700777877, 245.07744724110898, 393.5159566153004, 333.68976087883124, 207.47638060786392, 143.22737755216826, 208.92358113103236, 68.41985808077474, 238.82451663739587, 253.7504453166854, 664.945657604479, 828.8203872807707, 265.8134726269881, 366.0721205182458, 330.9592839103385, 1629.1241409366112, 952.417174990074, 1104.596005820425, 604.4893209951854, 238.66160296030472, 684.1692848859952, 347.0084693961742, 669.0332663196408, 713.7054657229116, 596.4581321366218, 552.2532733990772, 359.50738148455184, 719.1100804712339, 543.1403785354314, 568.8061254259594, 777.6458663713433, 747.8044746591855, 636.6533952484849, 342.8224803076663, 526.0009805067505, 424.7504624300142, 1278.7770005912914, 602.4864397462106, 449.2718348768441, 25.57161208545869, 8.186140135435073, 22.59400421673928, 22.568931437458236, 9.083858484458737, 5.4614220506063855, 5.455623335020923, 22.54415626681324, 5.459569603850225, 22.545976373186843, 9.080474904915508, 22.5347910386186, 22.531050972245307, 4.55044434925162, 4.548083187824819, 4.547338883642458, 4.544021339267131, 4.549202879936057, 5.444028483270777, 4.541576558079383, 10.04714650760512, 7.228748813964802, 22.449267659154557, 7.298005457044869, 5.431093810075776, 5.433412739771731, 7.300762871653659, 7.297932002848942, 7.29696067827443, 7.297693209019036, 7.290134494976652, 22.670210414692818, 9.976073083594818, 213.42272705371784, 24.47870103020395, 7.294780933772914, 11.665213107571862, 30.545899551916335, 57.4538154438617, 465.7929269703598, 1278.7770005912914, 91.9654653326223, 72.76942398377798, 92.2844236336012, 11426.845605361512, 80.659601418413, 37.783021892086694, 120.36795746866886, 29.518750965159423, 266.0427084774025, 196.05155390941252, 263.8784509973833, 437.88587072586955, 257.2299262582284, 338.53698841202, 242.3105591871063, 259.2493515228265, 449.2718348768441, 197.95111978852398, 340.57056396007545, 392.3462042880807, 552.2532733990772, 596.4581321366218, 269.1471003434085, 265.50468905416653, 207.8556048134949, 777.6458663713433, 719.1100804712339, 747.8044746591855, 499.03578518991606, 713.7054657229116, 636.6533952484849, 457.77339410302125, 238.29472688516358, 568.8061254259594, 828.8203872807707, 1629.1241409366112, 433.93854214289047, 684.1692848859952, 664.945657604479, 1104.596005820425, 669.0332663196408, 1014.0952251493666, 604.4893209951854, 952.417174990074, 668.861030231031, 602.4864397462106, 36.75205625753664, 8.370426934593077, 8.369918691580324, 8.364752036237295, 8.371048312015173, 8.365472200553139, 20.141638570919195, 9.21572998044369, 15.898894118921824, 30.952837835932073, 8.38165851238154, 20.15911176699306, 20.15817635027075, 20.949117561217797, 15.093870269679545, 5.886130059698869, 20.21750512273074, 5.887373908286484, 5.890775145092401, 5.887280134573215, 10.917093218582268, 5.886193789329239, 36.15389573979499, 8.400503817136592, 5.889576512137216, 10.925839646702464, 39.530716819531754, 18.516115505391458, 8.411270294422495, 9.25434572109758, 22.793100675875614, 20.210446158838934, 18.527469428206672, 18.52220286393782, 18.522139775916894, 21.110521005464104, 18.55175581486198, 18.563812930272423, 23.709635957464567, 34.64313865923387, 25.446317299300162, 49.32107821853336, 18.557481681735783, 32.53379515211995, 28.22116547285174, 18.636486817039394, 170.34417111483373, 196.88411257885065, 1278.7770005912914, 480.52135379028323, 1629.1241409366112, 602.4864397462106, 11426.845605361512, 389.8281975923949, 274.74116550969563, 195.41079431521212, 347.6900473401099, 952.417174990074, 1104.596005820425, 411.82585184215856, 278.29567273529784, 319.82261108818363, 747.8044746591855, 105.86654378540035, 70.31763662188246, 499.03578518991606, 526.0009805067505, 777.6458663713433, 61.72696362951941, 543.1403785354314, 314.5237921190201, 464.7687834002802, 636.6533952484849, 1014.0952251493666, 719.1100804712339, 333.4383287962341, 338.53698841202, 669.0332663196408, 326.67010694459657, 828.8203872807707, 713.7054657229116, 684.1692848859952, 457.77339410302125, 604.4893209951854, 568.8061254259594, 668.861030231031, 664.945657604479], \"Category\": [\"Default\", \"Default\", \"Default\", \"Default\", \"Default\", \"Default\", \"Default\", \"Default\", \"Default\", \"Default\", \"Default\", \"Default\", \"Default\", \"Default\", \"Default\", \"Default\", \"Default\", \"Default\", \"Default\", \"Default\", \"Default\", \"Default\", \"Default\", \"Default\", \"Default\", \"Default\", \"Default\", \"Default\", \"Default\", \"Default\", \"Topic1\", \"Topic1\", \"Topic1\", \"Topic1\", \"Topic1\", \"Topic1\", \"Topic1\", \"Topic1\", \"Topic1\", \"Topic1\", \"Topic1\", \"Topic1\", \"Topic1\", \"Topic1\", \"Topic1\", \"Topic1\", \"Topic1\", \"Topic1\", \"Topic1\", \"Topic1\", \"Topic1\", \"Topic1\", \"Topic1\", \"Topic1\", \"Topic1\", \"Topic1\", \"Topic1\", \"Topic1\", \"Topic1\", \"Topic1\", \"Topic1\", \"Topic1\", \"Topic1\", \"Topic1\", \"Topic1\", \"Topic1\", \"Topic1\", \"Topic1\", \"Topic1\", \"Topic1\", \"Topic1\", \"Topic1\", \"Topic1\", \"Topic1\", \"Topic1\", \"Topic1\", \"Topic1\", \"Topic1\", \"Topic1\", \"Topic1\", \"Topic1\", \"Topic1\", \"Topic1\", \"Topic1\", \"Topic1\", \"Topic1\", \"Topic1\", \"Topic1\", \"Topic1\", \"Topic1\", \"Topic1\", \"Topic1\", \"Topic1\", \"Topic1\", \"Topic1\", \"Topic1\", \"Topic1\", \"Topic1\", \"Topic1\", \"Topic1\", \"Topic1\", \"Topic1\", \"Topic1\", \"Topic1\", \"Topic1\", \"Topic1\", \"Topic1\", \"Topic1\", \"Topic1\", \"Topic1\", \"Topic1\", \"Topic1\", \"Topic1\", \"Topic1\", \"Topic1\", \"Topic1\", \"Topic1\", \"Topic1\", \"Topic1\", \"Topic2\", \"Topic2\", \"Topic2\", \"Topic2\", \"Topic2\", \"Topic2\", \"Topic2\", \"Topic2\", \"Topic2\", \"Topic2\", \"Topic2\", \"Topic2\", \"Topic2\", \"Topic2\", \"Topic2\", \"Topic2\", \"Topic2\", \"Topic2\", \"Topic2\", \"Topic2\", \"Topic2\", \"Topic2\", \"Topic2\", \"Topic2\", \"Topic2\", \"Topic2\", \"Topic2\", \"Topic2\", \"Topic2\", \"Topic2\", \"Topic2\", \"Topic2\", \"Topic2\", \"Topic2\", \"Topic2\", \"Topic2\", \"Topic2\", \"Topic2\", \"Topic2\", \"Topic2\", \"Topic2\", \"Topic2\", \"Topic2\", \"Topic2\", \"Topic2\", \"Topic2\", \"Topic2\", \"Topic2\", \"Topic2\", \"Topic2\", \"Topic2\", \"Topic2\", \"Topic2\", \"Topic2\", \"Topic2\", \"Topic2\", \"Topic2\", \"Topic2\", \"Topic2\", \"Topic2\", \"Topic2\", \"Topic2\", \"Topic2\", \"Topic2\", \"Topic2\", \"Topic2\", \"Topic2\", \"Topic2\", \"Topic2\", \"Topic2\", \"Topic2\", \"Topic2\", \"Topic2\", \"Topic2\", \"Topic2\", \"Topic2\", \"Topic2\", \"Topic2\", \"Topic2\", \"Topic2\", \"Topic2\", \"Topic2\", \"Topic2\", \"Topic2\", \"Topic2\", \"Topic2\", \"Topic2\", \"Topic3\", \"Topic3\", \"Topic3\", \"Topic3\", \"Topic3\", \"Topic3\", \"Topic3\", \"Topic3\", \"Topic3\", \"Topic3\", \"Topic3\", \"Topic3\", \"Topic3\", \"Topic3\", \"Topic3\", \"Topic3\", \"Topic3\", \"Topic3\", \"Topic3\", \"Topic3\", \"Topic3\", \"Topic3\", \"Topic3\", \"Topic3\", \"Topic3\", \"Topic3\", \"Topic3\", \"Topic3\", \"Topic3\", \"Topic3\", \"Topic3\", \"Topic3\", \"Topic3\", \"Topic3\", \"Topic3\", \"Topic3\", \"Topic3\", \"Topic3\", \"Topic3\", \"Topic3\", \"Topic3\", \"Topic3\", \"Topic3\", \"Topic3\", \"Topic3\", \"Topic3\", \"Topic3\", \"Topic3\", \"Topic3\", \"Topic3\", \"Topic3\", \"Topic3\", \"Topic3\", \"Topic3\", \"Topic3\", \"Topic3\", \"Topic3\", \"Topic3\", \"Topic3\", \"Topic3\", \"Topic3\", \"Topic3\", \"Topic3\", \"Topic3\", \"Topic3\", \"Topic3\", \"Topic3\", \"Topic3\", \"Topic3\", \"Topic3\", \"Topic3\", \"Topic3\", \"Topic3\", \"Topic3\", \"Topic3\", \"Topic3\", \"Topic3\", \"Topic3\", \"Topic3\", \"Topic3\", \"Topic3\", \"Topic3\", \"Topic3\", \"Topic3\", \"Topic3\", \"Topic3\", \"Topic3\"], \"logprob\": [30.0, 29.0, 28.0, 27.0, 26.0, 25.0, 24.0, 23.0, 22.0, 21.0, 20.0, 19.0, 18.0, 17.0, 16.0, 15.0, 14.0, 13.0, 12.0, 11.0, 10.0, 9.0, 8.0, 7.0, 6.0, 5.0, 4.0, 3.0, 2.0, 1.0, -9.0559, -9.0594, -9.1686, -9.3717, -9.6538, -9.8116, -9.814, -9.8176, -9.8178, -9.8191, -9.8193, -9.8196, -9.667, -9.8264, -9.8261, -9.8287, -9.6759, -10.0153, -10.017, -10.0172, -7.7189, -10.0184, -10.0185, -10.0184, -8.4121, -10.0194, -9.6852, -10.0284, -10.0282, -10.0322, -8.1533, -7.7233, -9.46, -8.3068, -9.3581, -8.6556, -9.4614, -9.5761, -9.2806, -9.4685, -5.463, -8.4202, -6.8378, -2.8861, -7.5888, -5.511, -5.1473, -7.3357, -5.8924, -6.6867, -8.4184, -6.4458, -6.0268, -6.1847, -6.6081, -6.9403, -6.6048, -7.5996, -6.4939, -6.4428, -5.6115, -5.4382, -6.4198, -6.1552, -6.2451, -4.9035, -5.3567, -5.2442, -5.7555, -6.5332, -5.6657, -6.2366, -5.7303, -5.6987, -5.8477, -5.9194, -6.234, -5.7618, -5.9585, -5.9344, -5.7337, -5.8347, -5.9562, -6.2928, -6.0885, -6.2032, -6.0097, -6.1881, -6.2211, -7.9946, -9.1387, -8.1488, -8.1593, -9.0757, -9.5874, -9.5886, -8.1704, -9.5891, -8.171, -9.0844, -8.1785, -8.1791, -9.7842, -9.7858, -9.7862, -9.7881, -9.7936, -9.6184, -9.8035, -9.0165, -9.3505, -8.2178, -9.3418, -9.6383, -9.6411, -9.3462, -9.3474, -9.3499, -9.3499, -9.3552, -8.2613, -9.0605, -6.2434, -8.2439, -9.3586, -8.9364, -8.0738, -7.529, -5.7284, -4.8566, -7.1552, -7.3581, -7.1638, -3.0312, -7.2949, -7.9409, -6.9609, -8.1547, -6.3319, -6.6042, -6.3644, -5.9515, -6.3869, -6.1703, -6.4467, -6.4059, -5.9846, -6.6307, -6.2162, -6.1146, -5.8803, -5.8311, -6.4171, -6.4326, -6.6181, -5.7072, -5.7618, -5.7363, -6.0155, -5.7864, -5.8895, -6.1093, -6.5378, -5.9844, -5.7687, -5.36, -6.1735, -5.9334, -5.963, -5.7281, -5.9898, -5.8177, -6.1001, -6.0389, -6.1691, -6.2015, -7.5991, -9.0791, -9.0793, -9.08, -9.0793, -9.0808, -8.2082, -8.9909, -8.4474, -7.7849, -9.0922, -8.2162, -8.2198, -8.1895, -8.5228, -9.466, -8.2346, -9.4702, -9.4698, -9.472, -8.8546, -9.4739, -7.6617, -9.1217, -9.4789, -8.8611, -7.5791, -8.3388, -9.132, -9.0372, -8.1369, -8.2576, -8.345, -8.3462, -8.3471, -8.2289, -8.3633, -8.3631, -8.1326, -7.7765, -8.0674, -7.4696, -8.3662, -7.8862, -8.0256, -8.3841, -6.4886, -6.3768, -4.8879, -5.698, -4.7086, -5.522, -3.1651, -5.9029, -6.2016, -6.4947, -6.0461, -5.2742, -5.1669, -5.9466, -6.2666, -6.1942, -5.5985, -7.0262, -7.3294, -5.9283, -5.8953, -5.6226, -7.4233, -5.9116, -6.2913, -6.0252, -5.812, -5.5474, -5.7918, -6.2786, -6.2739, -5.8666, -6.3102, -5.7983, -5.8903, -5.9502, -6.1588, -6.0941, -6.1364, -6.1434, -6.1511], \"loglift\": [30.0, 29.0, 28.0, 27.0, 26.0, 25.0, 24.0, 23.0, 22.0, 21.0, 20.0, 19.0, 18.0, 17.0, 16.0, 15.0, 14.0, 13.0, 12.0, 11.0, 10.0, 9.0, 8.0, 7.0, 6.0, 5.0, 4.0, 3.0, 2.0, 1.0, 0.8401, 0.8371, 0.8168, 0.8148, 0.7855, 0.7829, 0.7813, 0.778, 0.7779, 0.7771, 0.7767, 0.7767, 0.774, 0.7707, 0.77, 0.7687, 0.7685, 0.7635, 0.7623, 0.7622, 0.7617, 0.7613, 0.7613, 0.7609, 0.7604, 0.7597, 0.7564, 0.7526, 0.7513, 0.7487, 0.7122, 0.6912, 0.7381, 0.6909, 0.7312, 0.6933, 0.7356, 0.7385, 0.7187, 0.7301, 0.4541, 0.6555, 0.5163, 0.1186, 0.5558, 0.3318, 0.2794, 0.5181, 0.3565, 0.438, 0.6249, 0.4011, 0.3465, 0.3536, 0.4053, 0.4437, 0.4017, 0.5232, 0.3788, 0.3693, 0.2373, 0.1903, 0.3458, 0.2904, 0.3014, 0.0492, 0.1327, 0.097, 0.1886, 0.3402, 0.1545, 0.2624, 0.1123, 0.0793, 0.1098, 0.115, 0.2297, 0.0087, 0.0925, 0.0705, -0.0415, -0.1034, -0.064, 0.2184, -0.0053, 0.0937, -0.8149, -0.2407, 0.0198, 1.1124, 1.1073, 1.0819, 1.0726, 1.0663, 1.0634, 1.0632, 1.0626, 1.062, 1.0618, 1.058, 1.0549, 1.0544, 1.049, 1.0479, 1.0477, 1.0466, 1.0399, 1.0355, 1.0316, 1.0247, 1.0199, 1.0194, 1.019, 1.018, 1.0147, 1.0142, 1.0134, 1.011, 1.011, 1.0067, 0.966, 0.9878, 0.7418, 0.9067, 1.0026, 0.9554, 0.8554, 0.7685, 0.4763, 0.3382, 0.6719, 0.703, 0.6598, -0.0265, 0.6633, 0.7757, 0.597, 0.8087, 0.4329, 0.4659, 0.4086, 0.315, 0.4115, 0.3535, 0.4115, 0.3848, 0.2563, 0.4297, 0.3016, 0.2617, 0.1542, 0.1263, 0.3361, 0.3342, 0.3935, -0.015, 0.0087, -0.005, 0.1203, -0.0084, 0.0027, 0.1128, 0.3371, 0.0205, -0.1403, -0.4074, 0.102, -0.1132, -0.1143, -0.3869, -0.1472, -0.391, -0.156, -0.5494, -0.3263, -0.2541, 1.1452, 1.1446, 1.1445, 1.1444, 1.1443, 1.1436, 1.1374, 1.1367, 1.1348, 1.131, 1.1302, 1.1286, 1.1251, 1.1168, 1.1113, 1.1099, 1.1073, 1.1054, 1.1052, 1.1037, 1.1035, 1.1019, 1.099, 1.0984, 1.0964, 1.0962, 1.0922, 1.091, 1.0868, 1.0861, 1.0851, 1.0846, 1.0842, 1.0833, 1.0823, 1.0698, 1.0646, 1.0641, 1.05, 1.0269, 1.0445, 0.9805, 1.0614, 0.98, 0.9827, 1.0392, 0.722, 0.689, 0.3069, 0.4756, 0.244, 0.4254, -0.1604, 0.4799, 0.531, 0.5786, 0.451, 0.2152, 0.1743, 0.3812, 0.4532, 0.3865, 0.1328, 0.66, 0.766, 0.2074, 0.1878, 0.0696, 0.8024, 0.1395, 0.3061, 0.1817, 0.0802, -0.1207, -0.0213, 0.2604, 0.2499, -0.0239, 0.2493, -0.1698, -0.1123, -0.1299, 0.0633, -0.15, -0.1315, -0.3005, -0.3024]}, \"token.table\": {\"Topic\": [1, 2, 3, 1, 1, 2, 3, 1, 2, 3, 1, 2, 3, 1, 2, 3, 1, 2, 3, 1, 2, 3, 1, 2, 3, 1, 2, 3, 2, 3, 3, 1, 2, 3, 1, 2, 3, 1, 2, 3, 1, 3, 2, 1, 2, 1, 1, 2, 3, 1, 2, 3, 1, 2, 3, 2, 1, 2, 3, 1, 2, 3, 1, 2, 3, 3, 1, 1, 2, 3, 1, 2, 3, 2, 3, 2, 3, 1, 1, 2, 3, 2, 3, 1, 2, 3, 1, 2, 3, 1, 2, 1, 2, 1, 2, 1, 2, 3, 1, 2, 3, 1, 2, 3, 1, 2, 3, 1, 2, 3, 1, 2, 3, 2, 3, 1, 2, 3, 1, 1, 2, 3, 3, 1, 3, 2, 1, 2, 3, 1, 2, 3, 1, 2, 3, 1, 2, 3, 1, 2, 3, 1, 2, 3, 1, 1, 1, 1, 2, 2, 3, 1, 2, 3, 2, 2, 1, 2, 3, 1, 2, 3, 1, 2, 3, 1, 2, 3, 3, 1, 2, 3, 1, 2, 3, 1, 2, 3, 1, 2, 3, 1, 2, 3, 1, 2, 3, 1, 3, 1, 2, 3, 1, 2, 3, 1, 2, 3, 2, 1, 2, 3, 1, 2, 3, 1, 2, 3, 1, 1, 1, 2, 3, 2, 1, 2, 3, 1, 2, 3, 1, 2, 3, 1, 2, 3, 1, 2, 3, 2, 3, 1, 2, 3, 1, 2, 3, 1, 2, 1, 2, 3, 1, 2, 1, 3, 1, 3, 1, 2, 3, 1, 2, 3, 3, 1, 2, 1, 2, 3, 1, 2, 3, 2, 3, 1, 2, 3, 1, 2, 3, 1, 2, 3, 1, 2, 3, 1, 2, 3, 1, 2, 1, 2, 3, 1, 2, 3, 1, 2, 3, 1, 1, 2, 3, 1, 2, 3, 1, 2, 3, 3, 1, 2, 3, 3, 2, 1, 2, 3, 1, 2, 3, 1, 2, 1, 1, 2, 3, 1, 2, 3, 1, 2, 3, 1, 3, 1, 2, 3, 1, 2, 3, 1, 2, 3, 1, 2, 3, 2, 3, 1, 2, 3, 1, 2, 3, 2, 3, 1, 2, 3, 2, 3, 1, 2, 3, 3, 1, 2, 3, 1, 1, 3, 1, 2, 3, 1, 1, 2, 3, 1, 1, 2, 3, 2, 3, 2, 1, 2, 3, 1, 2, 3, 1, 2, 3, 1, 2, 3, 1, 2, 3, 1, 2, 3, 1, 2, 3, 1, 1, 1, 2, 3, 1, 2, 3, 3, 1, 1, 2, 3, 1, 2, 3, 1, 2, 3, 1, 2, 3, 1, 2, 3, 3, 1, 2, 3, 1, 2, 3, 3, 1, 2, 3, 1, 2, 3, 1, 1, 2, 3, 1, 2, 1, 2, 3, 1, 3, 1, 2, 3, 1, 2, 3, 1, 2, 3, 1, 2, 3, 1, 1, 2, 3, 1, 2, 3, 1, 2, 3, 3, 1, 2, 3, 1, 2, 3, 1, 2, 3, 1, 2, 3, 1, 2, 3, 1, 2, 3, 1, 3, 2, 2, 3, 2, 3, 1, 1, 2, 3, 1, 1, 2, 3, 1, 2, 3, 2, 3, 1, 2, 3, 2, 3], \"Freq\": [0.14877336100077276, 0.5826956639196933, 0.2603533817513523, 0.8679952533529338, 0.027209361919577846, 0.05441872383915569, 0.9251183052656468, 0.3377500215957216, 0.14328788794970007, 0.5219773061024788, 0.1738815810392545, 0.31752288711516036, 0.5140846743769263, 0.5436087285704169, 0.1994142572142735, 0.2567800024402974, 0.4449671435758387, 0.3154793504717587, 0.23778667460931063, 0.5783815466548935, 0.266714806488526, 0.15283657450466098, 0.04947936290672411, 0.09895872581344822, 0.84114916941431, 0.05390325368550242, 0.10780650737100483, 0.8624520589680387, 0.10805734193831246, 0.8644587355064997, 0.955803789115366, 0.33850042030457217, 0.16743031541946582, 0.4950113673271163, 0.8779395054359985, 0.04180664311599993, 0.08361328623199986, 0.8293620241424469, 0.12286844802110325, 0.061434224010551625, 0.815037307581608, 0.11643390108308685, 0.915512471599745, 0.8913268923714575, 0.14855448206190958, 0.8907608319903304, 0.09473949029881042, 0.04736974514940521, 0.8526554126892938, 0.4640823492127874, 0.17429337097131836, 0.3622362228018363, 0.40304107379373844, 0.24334555398867228, 0.3517103709992529, 0.8792749203693953, 0.05059356775973814, 0.07589035163960721, 0.8600906519155483, 0.1798593499051443, 0.42384246803734005, 0.3964725669648181, 0.6078777671360531, 0.1866711253409927, 0.20581688178622273, 0.9563941603221306, 0.8332546506024956, 0.05531907306460969, 0.08297860959691453, 0.885105169033755, 0.3816833489204239, 0.30314768041827905, 0.3157133873786222, 0.9206248639498714, 0.18412497278997428, 0.09546941507944537, 0.906959443254731, 0.8677086225562257, 0.21516088016383386, 0.03073726859483341, 0.7684317148708353, 0.09159947432690911, 0.915994743269091, 0.2600808253579029, 0.42356020129715616, 0.31581243079173926, 0.4322378482577025, 0.4238448803303685, 0.1426804547646785, 0.1370237396896827, 0.8221424381380962, 0.13697198739088687, 0.8218319243453212, 0.13702960255497246, 0.8221776153298348, 0.28566841931116255, 0.4660905788761073, 0.24808046940179904, 0.6079710788459972, 0.2611419399070055, 0.13465131276454972, 0.4735670062329514, 0.27040091405276545, 0.2557846484282916, 0.2880113920357735, 0.4547548295301686, 0.2576944034004289, 0.21672129718668912, 0.5851475024040605, 0.20588523232735464, 0.1949565402279588, 0.4312674980800301, 0.37514364559016317, 0.7715246962919281, 0.17144993250931737, 0.28027744460902937, 0.26231094174947617, 0.459942473204561, 0.8343326470405197, 0.5871910877399453, 0.1931031093909887, 0.22068926787541568, 0.849454556608251, 0.8329091501235378, 0.848784731524763, 0.9184375165127711, 0.702108153697191, 0.16432318490785322, 0.11950777084207508, 0.8355782765837207, 0.1044472845729651, 0.1044472845729651, 0.10731636384232002, 0.05365818192116001, 0.8048727288174001, 0.5273646499707526, 0.2074877311360338, 0.2651232120071543, 0.7969633192867216, 0.0996204149108402, 0.0498102074554201, 0.39450463735907976, 0.44742599115115145, 0.15876406137621504, 0.9473784975215735, 0.946934460773297, 0.9413860071949184, 0.13702511884320426, 0.8221507130592256, 0.1188881066707723, 0.8322167466954061, 0.23463216221818234, 0.479465722793677, 0.2805384548260876, 0.915823107461415, 0.9164855586535511, 0.13233457118069225, 0.6616728559034613, 0.2117353138891076, 0.29624086391879245, 0.2473467407477296, 0.4573038578940582, 0.08822150140714079, 0.793993512664267, 0.08822150140714079, 0.389637511241281, 0.2970503798572142, 0.3124815684212254, 0.8492886164253272, 0.1100853785548141, 0.8806830284385128, 0.1100853785548141, 0.5499165874715464, 0.23567853748780557, 0.2145278995081307, 0.511811466123976, 0.2976294938873121, 0.19192929979649098, 0.3797666407155976, 0.3925104877194767, 0.22938924606982405, 0.2342768302619203, 0.6325474417071848, 0.13588056155191378, 0.053868243757686105, 0.053868243757686105, 0.8618919001229777, 0.7849301467074494, 0.13082169111790823, 0.3112424008917759, 0.40813862003732876, 0.2789436611765916, 0.10023984303447545, 0.8019187442758036, 0.10023984303447545, 0.42660960115687235, 0.20072135191121906, 0.372592845902477, 0.8796353432968614, 0.4399573985074497, 0.2998435773267332, 0.2606117073961326, 0.45725655009711635, 0.29421942993808714, 0.24853753153604027, 0.12255552270924584, 0.7353331362554751, 0.12255552270924584, 0.8937493609884307, 0.8892570789588367, 0.5755915924348294, 0.25205644897472923, 0.17305368138563498, 0.879035033283695, 0.3037321112451747, 0.4133497153035836, 0.28089511039967285, 0.45631236995474744, 0.35309885770307836, 0.19194091752064774, 0.31867937157370285, 0.23403016349943803, 0.4464830778819066, 0.45267217504908647, 0.3420189767037542, 0.20454076057773538, 0.25009387944499817, 0.5871769343491261, 0.16310470398586838, 0.06625206008354216, 0.8612767810860481, 0.49105934922197436, 0.26302441801078724, 0.2461329416247734, 0.6353533909175619, 0.22342097263035146, 0.13963810789396966, 0.832757098432966, 0.8794913889675472, 0.29138530148902037, 0.281672458106053, 0.42736510885056317, 0.07821172921426026, 0.8994348859639929, 0.09921072034903057, 0.8928964831412751, 0.09921532410709054, 0.8929379169638149, 0.08435388900901006, 0.08435388900901006, 0.8435388900901006, 0.6813338100690117, 0.2010493210039707, 0.11169406722442815, 0.8494453595911552, 0.1370433587476146, 0.8222601524856877, 0.7705691122721505, 0.03669376725105479, 0.18346883625527394, 0.38898491750014336, 0.4647612001300414, 0.14650081308446958, 0.11904047921031259, 0.8332833544721882, 0.2954555136936322, 0.4548459881862496, 0.2449170705618267, 0.6072980434247283, 0.2072525068830422, 0.1831533781757117, 0.5143277440626997, 0.26919493037199776, 0.21505516783908202, 0.28475853562254333, 0.45396288287651837, 0.25586998853040127, 0.36640593802929095, 0.3008807885277024, 0.3329747393039907, 0.13717168053470907, 0.8230300832082544, 0.17717198833655226, 0.03543439766731045, 0.7795567486808299, 0.4896695271848443, 0.25806907513795846, 0.2514519193651903, 0.10137653475144735, 0.12165184170173682, 0.7704616641109998, 0.8330388632680892, 0.11789525237439791, 0.03929841745813264, 0.8252667666207854, 0.05773148962260424, 0.1443287240565106, 0.8082408547164593, 0.5945788229756861, 0.2219202649134603, 0.18842286643595685, 0.9556748093924392, 0.44722233051448307, 0.20550499802993452, 0.3476384107642945, 0.9563118265423232, 0.8807514194347494, 0.6303205818774672, 0.19394479442383608, 0.17778272822184973, 0.23614636981704937, 0.19836295064632145, 0.5667512875609184, 0.09953074728661085, 0.7962459782928868, 0.8342385214355512, 0.44555700434673773, 0.2190962128812471, 0.33508832558308377, 0.5666348955463735, 0.2182815164901597, 0.21529135873002053, 0.8021932657681525, 0.03913137881795866, 0.15652551527183464, 0.04964839362393362, 0.8936710852308052, 0.6869350699984352, 0.16077203765920822, 0.16077203765920822, 0.10163031638909312, 0.6775354425939542, 0.23713740490788393, 0.7959608404199001, 0.03790289716285239, 0.18951448581426195, 0.2754063864542685, 0.064801502695122, 0.64801502695122, 0.8463527758889727, 0.13363464882457463, 0.859061186368366, 0.09545124292981845, 0.09545124292981845, 0.8768374330742561, 0.041754163479726485, 0.08350832695945297, 0.06289745642181901, 0.8805643899054661, 0.24092790647833787, 0.5483186837093207, 0.216004329946096, 0.09152614648722314, 0.9152614648722314, 0.6392876732921592, 0.17230171547169024, 0.18840467953446505, 0.8680809894578575, 0.4240231787002942, 0.3341487006062101, 0.2419697487148418, 0.8329898364167779, 0.8142091648421803, 0.11631559497745432, 0.41400325050642656, 0.38951918730443363, 0.19587250561594377, 0.8664248020119257, 0.2262686977282186, 0.6439955243033914, 0.12183699108442539, 0.8324541304085223, 0.3841740059784429, 0.4218381242116236, 0.1958534148125395, 0.920231949875772, 0.18404638997515438, 0.8802775562328518, 0.2133177495805097, 0.15643301635904044, 0.6257320654361618, 0.3147615617025788, 0.2893262839892391, 0.39742621427093283, 0.27001031859413005, 0.4435883805474994, 0.2854394796566518, 0.339206524726929, 0.48734101970261323, 0.17389701584102057, 0.11012639872598214, 0.8810111898078571, 0.11012639872598214, 0.5811696397787136, 0.21092643296988062, 0.2086825347467968, 0.18198450699614513, 0.21720731480185063, 0.5987877326969936, 0.9208000856927797, 0.86696308094871, 0.3030580328453208, 0.32448637860206064, 0.373465454617466, 0.3679248824521998, 0.2840121899631016, 0.35071202245443606, 0.9557457537724645, 0.8332584372078022, 0.6776153437779737, 0.1829561428200529, 0.13552306875559475, 0.5743096212511064, 0.21600140622276126, 0.20837782717960499, 0.05398925858581164, 0.05398925858581164, 0.8638281373729862, 0.35170239702433903, 0.3385954753961028, 0.310197145201591, 0.29243651614755334, 0.23600139899627112, 0.47200279799254224, 0.9544650367444883, 0.41022926532567316, 0.3045430817163472, 0.2850745742093661, 0.33522257908731706, 0.08126607977874353, 0.5790208184235477, 0.8492750890108228, 0.37788097263706977, 0.24292348240954484, 0.37788097263706977, 0.15116238933610576, 0.604649557344423, 0.23361460170125437, 0.8328905617992652, 0.5374248753806397, 0.20412284257576588, 0.25835838045821574, 0.13708430850476447, 0.8225058510285868, 0.053886621964670825, 0.10777324392934165, 0.8621859514347332, 0.09892417426675364, 0.8903175684007828, 0.053973911757078684, 0.053973911757078684, 0.8635825881132589, 0.806346133257519, 0.07011705506587122, 0.10517558259880683, 0.03230721542562843, 0.06461443085125686, 0.904602031917596, 0.43600093057064265, 0.3076619469752519, 0.25491989892235156, 0.8668319277945895, 0.05400700809566799, 0.05400700809566799, 0.8641121295306878, 0.5046343514134225, 0.30919792629955367, 0.183768578838414, 0.0539894424779276, 0.0539894424779276, 0.8638310796468416, 0.8489574742251874, 0.30057964669390413, 0.340656932919758, 0.35869171172139225, 0.5698444924239453, 0.16760132130116037, 0.2597820480167986, 0.35644759328341286, 0.21574459593469725, 0.42836245859497857, 0.45438697192488986, 0.26007675366753563, 0.2854865514396512, 0.29759343444789, 0.23308017243471102, 0.47032249080575617, 0.13161877546459583, 0.04387292515486528, 0.8774585030973056, 0.8155269628078282, 0.11650385182968974, 0.8551038565415381, 0.8300191574521094, 0.13833652624201823, 0.8851905934045347, 0.08851905934045347, 0.8665584835481228, 0.09821285488420953, 0.7202276024842033, 0.19642570976841905, 0.8654385204370133, 0.8667188920594702, 0.8876638743854798, 0.13314958115782197, 0.8661183212746993, 0.8870762422950693, 0.08870762422950693, 0.8871478605496345, 0.08871478605496345, 0.8668896375447631, 0.8861739890265911, 0.0886173989026591, 0.8875165501080242, 0.13312748251620363], \"Term\": [\"able\", \"able\", \"able\", \"activation\", \"afremov\", \"afremov\", \"afremov\", \"ai\", \"ai\", \"ai\", \"already\", \"already\", \"already\", \"also\", \"also\", \"also\", \"america\", \"america\", \"america\", \"americans\", \"americans\", \"americans\", \"ammo\", \"ammo\", \"ammo\", \"ammocanspeaker\", \"ammocanspeaker\", \"ammocanspeaker\", \"amsterdam\", \"amsterdam\", \"anatomy\", \"anti\", \"anti\", \"anti\", \"apple\", \"apple\", \"apple\", \"apps\", \"apps\", \"apps\", \"appstore\", \"appstore\", \"arrangement\", \"arson\", \"arson\", \"automotive\", \"battery\", \"battery\", \"battery\", \"biden\", \"biden\", \"biden\", \"bill\", \"bill\", \"bill\", \"bitcoin\", \"bluetooth\", \"bluetooth\", \"bluetooth\", \"border\", \"border\", \"border\", \"borders\", \"borders\", \"borders\", \"bundle\", \"bungled\", \"cal\", \"cal\", \"cal\", \"canada\", \"canada\", \"canada\", \"canines\", \"canines\", \"canvas\", \"canvas\", \"cedefop\", \"claycaneshow\", \"claycaneshow\", \"claycaneshow\", \"coa\", \"coa\", \"come\", \"come\", \"come\", \"control\", \"control\", \"control\", \"copa\", \"copa\", \"copaamerica\", \"copaamerica\", \"copainusa\", \"copainusa\", \"could\", \"could\", \"could\", \"countries\", \"countries\", \"countries\", \"country\", \"country\", \"country\", \"crime\", \"crime\", \"crime\", \"criminal\", \"criminal\", \"criminal\", \"crisis\", \"crisis\", \"crisis\", \"curriculum\", \"curriculum\", \"day\", \"day\", \"day\", \"decapitating\", \"democrats\", \"democrats\", \"democrats\", \"dentistry\", \"diets\", \"dinosaurs\", \"dogcare\", \"either\", \"either\", \"either\", \"ensures\", \"ensures\", \"ensures\", \"essays\", \"essays\", \"essays\", \"even\", \"even\", \"even\", \"excuse\", \"excuse\", \"excuse\", \"family\", \"family\", \"family\", \"fasters\", \"fasting\", \"fetterman\", \"finale\", \"finale\", \"fishing\", \"fishing\", \"florida\", \"florida\", \"florida\", \"florist\", \"floristry\", \"forced\", \"forced\", \"forced\", \"free\", \"free\", \"free\", \"fuck\", \"fuck\", \"fuck\", \"get\", \"get\", \"get\", \"giants\", \"glorious\", \"glorious\", \"glorious\", \"good\", \"good\", \"good\", \"gop\", \"gop\", \"gop\", \"government\", \"government\", \"government\", \"great\", \"great\", \"great\", \"guitar\", \"guitar\", \"guitar\", \"hira\", \"hira\", \"housing\", \"housing\", \"housing\", \"icelandic\", \"icelandic\", \"icelandic\", \"illegal\", \"illegal\", \"illegal\", \"ilydptq\", \"immigrants\", \"immigrants\", \"immigrants\", \"immigration\", \"immigration\", \"immigration\", \"incredible\", \"incredible\", \"incredible\", \"infonomics\", \"intolerant\", \"issues\", \"issues\", \"issues\", \"jjtc\", \"know\", \"know\", \"know\", \"law\", \"law\", \"law\", \"laws\", \"laws\", \"laws\", \"legal\", \"legal\", \"legal\", \"legally\", \"legally\", \"legally\", \"leonid\", \"leonid\", \"like\", \"like\", \"like\", \"love\", \"love\", \"love\", \"loveyourw\", \"lqzlqnwgmva\", \"make\", \"make\", \"make\", \"maths\", \"maths\", \"mbbs\", \"mbbs\", \"mbchb\", \"mbchb\", \"md\", \"md\", \"md\", \"mean\", \"mean\", \"mean\", \"medieval\", \"messi\", \"messi\", \"meta\", \"meta\", \"meta\", \"money\", \"money\", \"money\", \"motn\", \"motn\", \"much\", \"much\", \"much\", \"must\", \"must\", \"must\", \"need\", \"need\", \"need\", \"never\", \"never\", \"never\", \"new\", \"new\", \"new\", \"neymar\", \"neymar\", \"notes\", \"notes\", \"notes\", \"one\", \"one\", \"one\", \"original\", \"original\", \"original\", \"overspending\", \"pa\", \"pa\", \"pa\", \"painting\", \"painting\", \"painting\", \"pass\", \"pass\", \"pass\", \"pathology\", \"people\", \"people\", \"people\", \"physiology\", \"plaintiffs\", \"plan\", \"plan\", \"plan\", \"pm\", \"pm\", \"pm\", \"pmc\", \"pmc\", \"poetry\", \"policies\", \"policies\", \"policies\", \"policy\", \"policy\", \"policy\", \"powerbeatsvr\", \"powerbeatsvr\", \"powerbeatsvr\", \"premed\", \"premed\", \"probably\", \"probably\", \"probably\", \"pro\\u30b7\\u30ea\\u30fc\\u30b9\\u304b\\u3089\", \"pro\\u30b7\\u30ea\\u30fc\\u30b9\\u304b\\u3089\", \"pro\\u30b7\\u30ea\\u30fc\\u30b9\\u304b\\u3089\", \"quest\", \"quest\", \"quest\", \"quillbot\", \"quillbot\", \"quillbot\", \"raccoon\", \"raccoon\", \"rating\", \"rating\", \"rating\", \"reach\", \"reach\", \"reach\", \"readers\", \"readers\", \"reason\", \"reason\", \"reason\", \"recreation\", \"recreation\", \"reform\", \"reform\", \"reform\", \"reliability\", \"republicans\", \"republicans\", \"republicans\", \"reputed\", \"restricting\", \"restricting\", \"right\", \"right\", \"right\", \"rioting\", \"rules\", \"rules\", \"rules\", \"seaweed\", \"security\", \"security\", \"security\", \"sht\", \"sht\", \"sjvsworldtour\", \"speaker\", \"speaker\", \"speaker\", \"state\", \"state\", \"state\", \"states\", \"states\", \"states\", \"status\", \"status\", \"status\", \"stocked\", \"stocked\", \"stocked\", \"stop\", \"stop\", \"stop\", \"students\", \"students\", \"students\", \"superlight\", \"superlight\\u304b\\u9032\\u5316\\u3057\\u305f\", \"support\", \"support\", \"support\", \"system\", \"system\", \"system\", \"tailored\", \"tasty\", \"thing\", \"thing\", \"thing\", \"think\", \"think\", \"think\", \"thodio\", \"thodio\", \"thodio\", \"time\", \"time\", \"time\", \"today\", \"today\", \"today\", \"trimmer\", \"trump\", \"trump\", \"trump\", \"try\", \"try\", \"try\", \"tudor\", \"twclid\", \"twclid\", \"twclid\", \"twitter\", \"twitter\", \"twitter\", \"unleashed\", \"us\", \"us\", \"us\", \"usasoccer\", \"usasoccer\", \"usb\", \"usb\", \"usb\", \"usmle\", \"usmle\", \"variant\", \"variant\", \"variant\", \"vr\", \"vr\", \"vr\", \"vtw\", \"vtw\", \"vtw\", \"want\", \"want\", \"want\", \"warrants\", \"watts\", \"watts\", \"watts\", \"way\", \"way\", \"way\", \"wifi\", \"wifi\", \"wifi\", \"wired\", \"work\", \"work\", \"work\", \"workers\", \"workers\", \"workers\", \"world\", \"world\", \"world\", \"would\", \"would\", \"would\", \"years\", \"years\", \"years\", \"yield\", \"yield\", \"yield\", \"younger\", \"younger\", \"\\u3046\\u304a\\u3063\\u304b\", \"\\u304a\\u307b\", \"\\u304a\\u307b\", \"\\u3055\\u3089\\u306b\\u30cf\\u30a4\\u30a8\\u30f3\\u30c8\\u306a\", \"\\u3055\\u3089\\u306b\\u30cf\\u30a4\\u30a8\\u30f3\\u30c8\\u306a\", \"\\u3057\\u304b\\u3082\", \"\\u30b7\\u30ea\\u30fc\\u30b9\", \"\\u30b7\\u30ea\\u30fc\\u30b9\", \"\\u30b7\\u30ea\\u30fc\\u30b9\", \"\\u30b9\\u30a4\\u30c3\\u30c1\\u3068\\u30bb\\u30f3\\u30b5\\u30fc\\u306e\\u9032\\u5316\\u3066\", \"\\u30bf\\u30c3\\u30d5\\u3057\\u3066\\u8a73\\u7d30\\u30c1\\u30a7\\u30c3\\u30af\", \"\\u30ea\\u30a2\\u30eb\\u306a\\u611f\\u60f3\\u3092\\u52d5\\u753b\\u3066\\u30c1\\u30a7\\u30c3\\u30af\", \"\\u30ea\\u30a2\\u30eb\\u306a\\u611f\\u60f3\\u3092\\u52d5\\u753b\\u3066\\u30c1\\u30a7\\u30c3\\u30af\", \"\\u30ed\\u30b7\\u30af\\u30fc\\u30eb\\u53f2\\u4e0a\\u6700\\u8efd\\u91cf\", \"\\u52d5\\u753b\\u672c\\u7bc7\\u3078\", \"\\u52d5\\u753b\\u672c\\u7bc7\\u3078\", \"\\u65b0\\u767b\\u5834\\u3057\\u305f\", \"\\u65b0\\u767b\\u5834\\u3057\\u305f\", \"\\u6700\\u9ad8\\u5cf0\\u30de\\u30a6\\u30b9\\u304b\\u65b0\\u767a\\u58f2\", \"\\u753b\\u50cf\\u30bf\\u30c3\\u30d5\\u3066\", \"\\u753b\\u50cf\\u30bf\\u30c3\\u30d5\\u3066\", \"\\u9078\\u624b\\u304b\\u3044\\u3061\\u65e9\\u304f\\u4f53\\u611f\", \"\\u9078\\u624b\\u304b\\u3044\\u3061\\u65e9\\u304f\\u4f53\\u611f\"]}, \"R\": 30, \"lambda.step\": 0.01, \"plot.opts\": {\"xlab\": \"PC1\", \"ylab\": \"PC2\"}, \"topic.order\": [3, 2, 1]};\n",
       "\n",
       "function LDAvis_load_lib(url, callback){\n",
       "  var s = document.createElement('script');\n",
       "  s.src = url;\n",
       "  s.async = true;\n",
       "  s.onreadystatechange = s.onload = callback;\n",
       "  s.onerror = function(){console.warn(\"failed to load library \" + url);};\n",
       "  document.getElementsByTagName(\"head\")[0].appendChild(s);\n",
       "}\n",
       "\n",
       "if(typeof(LDAvis) !== \"undefined\"){\n",
       "   // already loaded: just create the visualization\n",
       "   !function(LDAvis){\n",
       "       new LDAvis(\"#\" + \"ldavis_el8790958841293765778490058\", ldavis_el8790958841293765778490058_data);\n",
       "   }(LDAvis);\n",
       "}else if(typeof define === \"function\" && define.amd){\n",
       "   // require.js is available: use it to load d3/LDAvis\n",
       "   require.config({paths: {d3: \"https://d3js.org/d3.v5\"}});\n",
       "   require([\"d3\"], function(d3){\n",
       "      window.d3 = d3;\n",
       "      LDAvis_load_lib(\"https://cdn.jsdelivr.net/gh/bmabey/pyLDAvis@3.4.0/pyLDAvis/js/ldavis.v3.0.0.js\", function(){\n",
       "        new LDAvis(\"#\" + \"ldavis_el8790958841293765778490058\", ldavis_el8790958841293765778490058_data);\n",
       "      });\n",
       "    });\n",
       "}else{\n",
       "    // require.js not available: dynamically load d3 & LDAvis\n",
       "    LDAvis_load_lib(\"https://d3js.org/d3.v5.js\", function(){\n",
       "         LDAvis_load_lib(\"https://cdn.jsdelivr.net/gh/bmabey/pyLDAvis@3.4.0/pyLDAvis/js/ldavis.v3.0.0.js\", function(){\n",
       "                 new LDAvis(\"#\" + \"ldavis_el8790958841293765778490058\", ldavis_el8790958841293765778490058_data);\n",
       "            })\n",
       "         });\n",
       "}\n",
       "</script>"
      ],
      "text/plain": [
       "PreparedData(topic_coordinates=              x         y  topics  cluster       Freq\n",
       "topic                                                \n",
       "2     -0.015176  0.026351       1        1  40.615471\n",
       "1     -0.017539 -0.025112       2        1  30.210636\n",
       "0      0.032715 -0.001239       3        1  29.173893, topic_info=        Term         Freq        Total Category  logprob  loglift\n",
       "71    border  1278.000000  1278.000000  Default  30.0000  30.0000\n",
       "326  illegal  1629.000000  1629.000000  Default  29.0000  29.0000\n",
       "277    great   213.000000   213.000000  Default  28.0000  28.0000\n",
       "879     laws   602.000000   602.000000  Default  27.0000  27.0000\n",
       "192      try   196.000000   196.000000  Default  26.0000  26.0000\n",
       "..       ...          ...          ...      ...      ...      ...\n",
       "191     time   142.272995   457.773394   Topic3  -6.1588   0.0633\n",
       "222      one   151.782212   604.489321   Topic3  -6.0941  -0.1500\n",
       "779     want   145.491522   568.806125   Topic3  -6.1364  -0.1315\n",
       "129   policy   144.481888   668.861030   Topic3  -6.1434  -0.3005\n",
       "88      need   143.365239   664.945658   Topic3  -6.1511  -0.3024\n",
       "\n",
       "[293 rows x 6 columns], token_table=       Topic      Freq        Term\n",
       "term                              \n",
       "1886       1  0.148773        able\n",
       "1886       2  0.582696        able\n",
       "1886       3  0.260353        able\n",
       "10169      1  0.867995  activation\n",
       "392        1  0.027209     afremov\n",
       "...      ...       ...         ...\n",
       "6609       1  0.866890  最高峰マウスか新発売\n",
       "1010       2  0.886174      画像タッフて\n",
       "1010       3  0.088617      画像タッフて\n",
       "1011       2  0.887517   選手かいち早く体感\n",
       "1011       3  0.133127   選手かいち早く体感\n",
       "\n",
       "[515 rows x 3 columns], R=30, lambda_step=0.01, plot_opts={'xlab': 'PC1', 'ylab': 'PC2'}, topic_order=[3, 2, 1])"
      ]
     },
     "execution_count": 14,
     "metadata": {},
     "output_type": "execute_result"
    }
   ],
   "source": [
    "# Visualize the topics\n",
    "pyLDAvis.enable_notebook()\n",
    "LDAvis_data_filepath = os.path.join('ldavis_prepared_'+str(num_topics))\n",
    "# # this is a bit time consuming - make the if statement True\n",
    "# # if you want to execute visualization prep yourself\n",
    "if 1 == 1:\n",
    "    LDAvis_prepared = pyLDAvis.gensim.prepare(lda_model, corpus, id2word)\n",
    "    with open(LDAvis_data_filepath, 'wb') as f:\n",
    "        pickle.dump(LDAvis_prepared, f)\n",
    "# load the pre-prepared pyLDAvis data from disk\n",
    "with open(LDAvis_data_filepath, 'rb') as f:\n",
    "    LDAvis_prepared = pickle.load(f)\n",
    "pyLDAvis.save_html(LDAvis_prepared, 'ldavis_prepared_'+ str(num_topics) +'.html')\n",
    "LDAvis_prepared"
   ]
  },
  {
   "cell_type": "markdown",
   "id": "7c81f22c",
   "metadata": {},
   "source": [
    "#### Sentiment analysis"
   ]
  },
  {
   "cell_type": "code",
   "execution_count": 16,
   "id": "791fb074",
   "metadata": {},
   "outputs": [
    {
     "data": {
      "text/html": [
       "<div>\n",
       "<style scoped>\n",
       "    .dataframe tbody tr th:only-of-type {\n",
       "        vertical-align: middle;\n",
       "    }\n",
       "\n",
       "    .dataframe tbody tr th {\n",
       "        vertical-align: top;\n",
       "    }\n",
       "\n",
       "    .dataframe thead th {\n",
       "        text-align: right;\n",
       "    }\n",
       "</style>\n",
       "<table border=\"1\" class=\"dataframe\">\n",
       "  <thead>\n",
       "    <tr style=\"text-align: right;\">\n",
       "      <th></th>\n",
       "      <th>Tweets</th>\n",
       "      <th>Time</th>\n",
       "      <th>Account</th>\n",
       "      <th>Likes</th>\n",
       "      <th>Unnamed: 5</th>\n",
       "      <th>sentiment</th>\n",
       "      <th>Region</th>\n",
       "      <th>Month</th>\n",
       "      <th>Reposts</th>\n",
       "      <th>Influential</th>\n",
       "      <th>Sentiment</th>\n",
       "    </tr>\n",
       "  </thead>\n",
       "  <tbody>\n",
       "    <tr>\n",
       "      <th>0</th>\n",
       "      <td>Immigration remains the top issue among SC pri...</td>\n",
       "      <td>Feb 24</td>\n",
       "      <td>@IzzyLyman</td>\n",
       "      <td>1 reply, 4 reposts, 27 likes, 1 bookmark, 745 ...</td>\n",
       "      <td>NaN</td>\n",
       "      <td>NaN</td>\n",
       "      <td>US</td>\n",
       "      <td>2024-02</td>\n",
       "      <td>4.0</td>\n",
       "      <td>no</td>\n",
       "      <td>0.2714</td>\n",
       "    </tr>\n",
       "    <tr>\n",
       "      <th>1</th>\n",
       "      <td>Here is Del. Alfonso López speaking about two ...</td>\n",
       "      <td>Feb 15</td>\n",
       "      <td>@LatinoCaucusVA</td>\n",
       "      <td>5 replies, 6 reposts, 4 likes, 503 views</td>\n",
       "      <td>NaN</td>\n",
       "      <td>NaN</td>\n",
       "      <td>US</td>\n",
       "      <td>2024-02</td>\n",
       "      <td>6.0</td>\n",
       "      <td>no</td>\n",
       "      <td>0.0000</td>\n",
       "    </tr>\n",
       "    <tr>\n",
       "      <th>2</th>\n",
       "      <td>Don’t let the Left gaslight you \\n\\nIt’s norma...</td>\n",
       "      <td>Feb 27</td>\n",
       "      <td>@JesseHughesNC</td>\n",
       "      <td>2 replies, 3 reposts, 14 likes, 1 bookmark, 68...</td>\n",
       "      <td>NaN</td>\n",
       "      <td>NaN</td>\n",
       "      <td>US</td>\n",
       "      <td>2024-02</td>\n",
       "      <td>3.0</td>\n",
       "      <td>no</td>\n",
       "      <td>0.7783</td>\n",
       "    </tr>\n",
       "    <tr>\n",
       "      <th>3</th>\n",
       "      <td>Sometimes, unbearable horrors and cruel twists...</td>\n",
       "      <td>Feb 19</td>\n",
       "      <td>@KiddieChronicle</td>\n",
       "      <td>2 reposts, 35 likes, 496 views</td>\n",
       "      <td>NaN</td>\n",
       "      <td>NaN</td>\n",
       "      <td>US</td>\n",
       "      <td>2024-02</td>\n",
       "      <td>2.0</td>\n",
       "      <td>no</td>\n",
       "      <td>-0.2960</td>\n",
       "    </tr>\n",
       "    <tr>\n",
       "      <th>4</th>\n",
       "      <td>Your Party members have called out the BS with...</td>\n",
       "      <td>Feb 24</td>\n",
       "      <td>@IamAmericasidea</td>\n",
       "      <td>6 replies, 55 reposts, 215 likes, 2 bookmarks,...</td>\n",
       "      <td>NaN</td>\n",
       "      <td>NaN</td>\n",
       "      <td>US</td>\n",
       "      <td>2024-02</td>\n",
       "      <td>55.0</td>\n",
       "      <td>yes</td>\n",
       "      <td>0.6476</td>\n",
       "    </tr>\n",
       "  </tbody>\n",
       "</table>\n",
       "</div>"
      ],
      "text/plain": [
       "                                              Tweets    Time  \\\n",
       "0  Immigration remains the top issue among SC pri...  Feb 24   \n",
       "1  Here is Del. Alfonso López speaking about two ...  Feb 15   \n",
       "2  Don’t let the Left gaslight you \\n\\nIt’s norma...  Feb 27   \n",
       "3  Sometimes, unbearable horrors and cruel twists...  Feb 19   \n",
       "4  Your Party members have called out the BS with...  Feb 24   \n",
       "\n",
       "            Account                                              Likes  \\\n",
       "0        @IzzyLyman  1 reply, 4 reposts, 27 likes, 1 bookmark, 745 ...   \n",
       "1   @LatinoCaucusVA           5 replies, 6 reposts, 4 likes, 503 views   \n",
       "2    @JesseHughesNC  2 replies, 3 reposts, 14 likes, 1 bookmark, 68...   \n",
       "3  @KiddieChronicle                     2 reposts, 35 likes, 496 views   \n",
       "4  @IamAmericasidea  6 replies, 55 reposts, 215 likes, 2 bookmarks,...   \n",
       "\n",
       "   Unnamed: 5  sentiment Region    Month  Reposts Influential  Sentiment  \n",
       "0         NaN        NaN     US  2024-02      4.0          no     0.2714  \n",
       "1         NaN        NaN     US  2024-02      6.0          no     0.0000  \n",
       "2         NaN        NaN     US  2024-02      3.0          no     0.7783  \n",
       "3         NaN        NaN     US  2024-02      2.0          no    -0.2960  \n",
       "4         NaN        NaN     US  2024-02     55.0         yes     0.6476  "
      ]
     },
     "execution_count": 16,
     "metadata": {},
     "output_type": "execute_result"
    }
   ],
   "source": [
    "from nltk.sentiment.vader import SentimentIntensityAnalyzer\n",
    "\n",
    "def tweet_sentiment(tweet):\n",
    "    sid = SentimentIntensityAnalyzer()\n",
    "    ss = sid.polarity_scores(tweet)\n",
    "    return ss['compound']\n",
    "\n",
    "us_cleaned['Sentiment'] = us_cleaned['Tweets'].apply(tweet_sentiment)\n",
    "us_cleaned.head()#### Sentiment analysis"
   ]
  },
  {
   "cell_type": "code",
   "execution_count": 17,
   "id": "fb0824b3",
   "metadata": {},
   "outputs": [
    {
     "data": {
      "text/plain": [
       "<Axes: >"
      ]
     },
     "execution_count": 17,
     "metadata": {},
     "output_type": "execute_result"
    },
    {
     "data": {
      "image/png": "[encoded data removed]",
      "text/plain": [
       "<Figure size 640x480 with 1 Axes>"
      ]
     },
     "metadata": {},
     "output_type": "display_data"
    }
   ],
   "source": [
    "us_cleaned['Sentiment'].hist()"
   ]
  },
  {
   "cell_type": "markdown",
   "id": "b1aae36d",
   "metadata": {},
   "source": [
    "Topical sentiment"
   ]
  },
  {
   "cell_type": "code",
   "execution_count": 18,
   "id": "9869a336",
   "metadata": {},
   "outputs": [],
   "source": [
    "def topic_classify(text, lda_model):\n",
    "    #clean_text = remove_stopwords(sent_to_words(text))\n",
    "    clean_text = text.split()\n",
    "    new_text_corpus =  id2word.doc2bow(clean_text)\n",
    "    lda_res = lda_model[new_text_corpus]\n",
    "    res = max(lda_res, key=lambda item: item[1])[0]\n",
    "    return 'topic ' + str(res)Topical sentiment"
   ]
  },
  {
   "cell_type": "code",
   "execution_count": 19,
   "id": "9b75bc54",
   "metadata": {},
   "outputs": [
    {
     "data": {
      "text/plain": [
       "topic_class\n",
       "topic 2    5405\n",
       "topic 0    3809\n",
       "topic 1    3635\n",
       "Name: count, dtype: int64"
      ]
     },
     "execution_count": 19,
     "metadata": {},
     "output_type": "execute_result"
    }
   ],
   "source": [
    "us_cleaned['topic_class'] = us_cleaned['Tweets'].apply(lambda x: topic_classify(x, lda_model))\n",
    "us_cleaned['topic_class'].value_counts()"
   ]
  },
  {
   "cell_type": "code",
   "execution_count": 20,
   "id": "e29b716c",
   "metadata": {},
   "outputs": [
    {
     "data": {
      "text/plain": [
       "{'topic 0': [42.84589131005513, 16.80231031766868, 40.351798372276185],\n",
       " 'topic 1': [43.053645116918844, 13.039889958734525, 43.90646492434663],\n",
       " 'topic 2': [45.328399629972246, 11.859389454209065, 42.81221091581869]}"
      ]
     },
     "execution_count": 20,
     "metadata": {},
     "output_type": "execute_result"
    }
   ],
   "source": [
    "topic_pct = us_cleaned.groupby('topic_class')['Sentiment'].apply(lambda x: [100*(x<0).sum()/len(x), 100*(x==0).sum()/len(x), 100*(x>0).sum()/len(x)])\n",
    "topic_dict = topic_pct.to_dict()\n",
    "topic_dict"
   ]
  },
  {
   "cell_type": "code",
   "execution_count": 21,
   "id": "ce7cb3d8",
   "metadata": {},
   "outputs": [
    {
     "data": {
      "image/png": "[encoded data removed]",
      "text/plain": [
       "<Figure size 1000x500 with 1 Axes>"
      ]
     },
     "metadata": {},
     "output_type": "display_data"
    }
   ],
   "source": [
    "import matplotlib.pyplot as plt\n",
    "\n",
    "category_names = ['Negative', 'Neutral', 'Positive']\n",
    "def survey(results, category_names):\n",
    "    \"\"\"\n",
    "    Parameters\n",
    "    ----------\n",
    "    results : dict\n",
    "        A mapping from question labels to a list of answers per category.\n",
    "        It is assumed all lists contain the same number of entries and that\n",
    "        it matches the length of *category_names*. The order is assumed\n",
    "        to be from 'Strongly disagree' to 'Strongly aisagree'\n",
    "    category_names : list of str\n",
    "        The category labels.\n",
    "    \"\"\"\n",
    "    \n",
    "    labels = list(results.keys())\n",
    "    data = np.array(list(results.values()))\n",
    "    data_cum = data.cumsum(axis=1)\n",
    "    middle_index = data.shape[1]//2\n",
    "    offsets = data[:, range(middle_index)].sum(axis=1) + data[:, middle_index]/2\n",
    "    \n",
    "    # Color Mapping\n",
    "    category_colors = plt.get_cmap('coolwarm_r')(\n",
    "        np.linspace(0.15, 0.85, data.shape[1]))\n",
    "    \n",
    "    fig, ax = plt.subplots(figsize=(10, 5))\n",
    "    \n",
    "    # Plot Bars\n",
    "    for i, (colname, color) in enumerate(zip(category_names, category_colors)):\n",
    "        widths = data[:, i]\n",
    "        starts = data_cum[:, i] - widths - offsets\n",
    "        rects = ax.barh(labels, widths, left=starts, height=0.5,\n",
    "                        label=colname, color=color)\n",
    "    \n",
    "    # Add Zero Reference Line\n",
    "    ax.axvline(0, linestyle='--', color='black', alpha=.25)\n",
    "    \n",
    "    # X Axis\n",
    "    ax.set_xlim(-90, 90)\n",
    "    ax.set_xticks(np.arange(-90, 91, 10))\n",
    "    ax.xaxis.set_major_formatter(lambda x, pos: str(abs(int(x))))\n",
    "    \n",
    "    # Y Axis\n",
    "    ax.invert_yaxis()\n",
    "    \n",
    "    # Remove spines\n",
    "    ax.spines['right'].set_visible(False)\n",
    "    ax.spines['top'].set_visible(False)\n",
    "    ax.spines['left'].set_visible(False)\n",
    "    \n",
    "    # Ledgend\n",
    "    ax.legend(ncol=len(category_names), bbox_to_anchor=(0, 1),\n",
    "              loc='lower left', fontsize='small')\n",
    "    \n",
    "    # Set Background Color\n",
    "    fig.set_facecolor('#FFFFFF')\n",
    "\n",
    "    return fig, ax\n",
    "\n",
    "\n",
    "fig, ax = survey(topic_pct.to_dict(), category_names)\n",
    "plt.show()"
   ]
  },
  {
   "cell_type": "markdown",
   "id": "5fb881c9",
   "metadata": {},
   "source": [
    "### Sentiment and topic, influence"
   ]
  },
  {
   "cell_type": "code",
   "execution_count": 22,
   "id": "75371a90",
   "metadata": {},
   "outputs": [
    {
     "name": "stdout",
     "output_type": "stream",
     "text": [
      "['immigration', 'remains', 'top', 'issue', 'among', 'sc', 'primary', 'voters', 'stoptheinvasion']\n"
     ]
    }
   ],
   "source": [
    "inf_data = us_cleaned[us_cleaned.Influential == 'yes'].Tweets.values.tolist()\n",
    "inf_words = list(sent_to_words(data))\n",
    "# remove stop words\n",
    "inf_words = remove_stopwords(inf_words)\n",
    "print(inf_words[:1][0][:30])### Sentiment and topic, influence"
   ]
  },
  {
   "cell_type": "code",
   "execution_count": 23,
   "id": "44072425",
   "metadata": {},
   "outputs": [
    {
     "name": "stdout",
     "output_type": "stream",
     "text": [
      "[(0, 1), (1, 1), (2, 1), (3, 1), (4, 1), (5, 1), (6, 1), (7, 1), (8, 1)]\n"
     ]
    }
   ],
   "source": [
    "import gensim.corpora as corpora\n",
    "# Create Dictionary\n",
    "inf_id2word = corpora.Dictionary(inf_words)\n",
    "# Create Corpus\n",
    "inf_texts = inf_words\n",
    "# Term Document Frequency\n",
    "inf_corpus = [id2word.doc2bow(text) for text in inf_texts]\n",
    "# View\n",
    "print(inf_corpus[:1][0][:30])"
   ]
  },
  {
   "cell_type": "code",
   "execution_count": 24,
   "id": "7c3380e3",
   "metadata": {},
   "outputs": [
    {
     "name": "stdout",
     "output_type": "stream",
     "text": [
      "[(0,\n",
      "  '0.042*\"immigration\" + 0.009*\"illegal\" + 0.008*\"border\" + 0.006*\"people\" + '\n",
      "  '0.005*\"biden\" + 0.004*\"laws\" + 0.004*\"us\" + 0.004*\"new\" + 0.004*\"get\" + '\n",
      "  '0.003*\"years\"'),\n",
      " (1,\n",
      "  '0.048*\"immigration\" + 0.008*\"border\" + 0.005*\"illegal\" + 0.003*\"get\" + '\n",
      "  '0.003*\"people\" + 0.003*\"status\" + 0.003*\"new\" + 0.003*\"trump\" + '\n",
      "  '0.003*\"like\" + 0.003*\"immigrants\"'),\n",
      " (2,\n",
      "  '0.056*\"immigration\" + 0.007*\"illegal\" + 0.006*\"us\" + 0.005*\"people\" + '\n",
      "  '0.005*\"biden\" + 0.004*\"like\" + 0.004*\"reform\" + 0.004*\"policy\" + '\n",
      "  '0.004*\"need\" + 0.003*\"country\"')]\n"
     ]
    }
   ],
   "source": [
    "from pprint import pprint\n",
    "# number of topics\n",
    "inf_num_topics = 3\n",
    "# Build LDA model\n",
    "inf_lda_model = gensim.models.LdaMulticore(corpus=inf_corpus,\n",
    "                                       id2word=inf_id2word,\n",
    "                                       num_topics=inf_num_topics,\n",
    "                                       alpha = 'symmetric',\n",
    "                                       eta = 'auto',\n",
    "                                       random_state = 9)\n",
    "# Print the Keyword in the 10 topics\n",
    "pprint(inf_lda_model.print_topics())\n",
    "inf_doc_lda = inf_lda_model[inf_corpus]"
   ]
  },
  {
   "cell_type": "code",
   "execution_count": 25,
   "id": "7efaf91f",
   "metadata": {},
   "outputs": [
    {
     "data": {
      "text/html": [
       "\n",
       "<link rel=\"stylesheet\" type=\"text/css\" href=\"https://cdn.jsdelivr.net/gh/bmabey/pyLDAvis@3.4.0/pyLDAvis/js/ldavis.v1.0.0.css\">\n",
       "\n",
       "\n",
       "<div id=\"ldavis_el8790958977841122698906628\" style=\"background-color:white;\"></div>\n",
       "<script type=\"text/javascript\">\n",
       "\n",
       "var ldavis_el8790958977841122698906628_data = {\"mdsDat\": {\"x\": [-0.015175940199000853, -0.01753893652174756, 0.03271487672074842], \"y\": [0.026351216170691884, -0.02511214946324064, -0.0012390667074512441], \"topics\": [1, 2, 3], \"cluster\": [1, 1, 1], \"Freq\": [40.615472274122, 30.210635260377476, 29.17389246550052]}, \"tinfo\": {\"Term\": [\"border\", \"illegal\", \"great\", \"laws\", \"try\", \"years\", \"crisis\", \"status\", \"students\", \"today\", \"biden\", \"anti\", \"free\", \"make\", \"ai\", \"afremov\", \"people\", \"reform\", \"day\", \"work\", \"bluetooth\", \"know\", \"cal\", \"original\", \"already\", \"vtw\", \"could\", \"florida\", \"come\", \"world\", \"fasting\", \"fasters\", \"fetterman\", \"superlight\", \"intolerant\", \"\\u30b9\\u30a4\\u30c3\\u30c1\\u3068\\u30bb\\u30f3\\u30b5\\u30fc\\u306e\\u9032\\u5316\\u3066\", \"\\u30ed\\u30b7\\u30af\\u30fc\\u30eb\\u53f2\\u4e0a\\u6700\\u8efd\\u91cf\", \"rioting\", \"\\u3057\\u304b\\u3082\", \"\\u6700\\u9ad8\\u5cf0\\u30de\\u30a6\\u30b9\\u304b\\u65b0\\u767a\\u58f2\", \"\\u30bf\\u30c3\\u30d5\\u3057\\u3066\\u8a73\\u7d30\\u30c1\\u30a7\\u30c3\\u30af\", \"superlight\\u304b\\u9032\\u5316\\u3057\\u305f\", \"automotive\", \"cedefop\", \"warrants\", \"activation\", \"infonomics\", \"seaweed\", \"diets\", \"reputed\", \"apple\", \"bungled\", \"tasty\", \"unleashed\", \"reach\", \"loveyourw\", \"arson\", \"decapitating\", \"overspending\", \"poetry\", \"apps\", \"powerbeatsvr\", \"appstore\", \"vr\", \"ensures\", \"excuse\", \"restricting\", \"hira\", \"rating\", \"younger\", \"reform\", \"quest\", \"thing\", \"immigration\", \"either\", \"policy\", \"us\", \"mean\", \"stop\", \"plan\", \"meta\", \"countries\", \"think\", \"americans\", \"must\", \"love\", \"borders\", \"probably\", \"pass\", \"democrats\", \"need\", \"like\", \"issues\", \"also\", \"good\", \"illegal\", \"biden\", \"people\", \"one\", \"workers\", \"country\", \"even\", \"would\", \"immigrants\", \"legal\", \"law\", \"gop\", \"trump\", \"policies\", \"want\", \"get\", \"new\", \"canada\", \"way\", \"bill\", \"america\", \"border\", \"laws\", \"right\", \"maths\", \"\\u3046\\u304a\\u3063\\u304b\", \"\\u3055\\u3089\\u306b\\u30cf\\u30a4\\u30a8\\u30f3\\u30c8\\u306a\", \"\\u753b\\u50cf\\u30bf\\u30c3\\u30d5\\u3066\", \"glorious\", \"arrangement\", \"floristry\", \"\\u65b0\\u767b\\u5834\\u3057\\u305f\", \"florist\", \"\\u52d5\\u753b\\u672c\\u7bc7\\u3078\", \"stocked\", \"\\u9078\\u624b\\u304b\\u3044\\u3061\\u65e9\\u304f\\u4f53\\u611f\", \"\\u30ea\\u30a2\\u30eb\\u306a\\u611f\\u60f3\\u3092\\u52d5\\u753b\\u3066\\u30c1\\u30a7\\u30c3\\u30af\", \"jjtc\", \"lqzlqnwgmva\", \"ilydptq\", \"sjvsworldtour\", \"bitcoin\", \"dogcare\", \"plaintiffs\", \"pmc\", \"\\u304a\\u307b\", \"raccoon\", \"copa\", \"canines\", \"sht\", \"copaamerica\", \"finale\", \"messi\", \"copainusa\", \"neymar\", \"fuck\", \"icelandic\", \"great\", \"incredible\", \"usasoccer\", \"curriculum\", \"\\u30b7\\u30ea\\u30fc\\u30b9\", \"rules\", \"status\", \"border\", \"legally\", \"twitter\", \"criminal\", \"immigration\", \"able\", \"forced\", \"reason\", \"pro\\u30b7\\u30ea\\u30fc\\u30b9\\u304b\\u3089\", \"could\", \"florida\", \"crime\", \"know\", \"much\", \"crisis\", \"never\", \"states\", \"right\", \"money\", \"housing\", \"government\", \"law\", \"legal\", \"come\", \"security\", \"family\", \"get\", \"trump\", \"new\", \"work\", \"immigrants\", \"canada\", \"time\", \"control\", \"want\", \"like\", \"illegal\", \"republicans\", \"country\", \"need\", \"people\", \"would\", \"us\", \"one\", \"biden\", \"policy\", \"laws\", \"afremov\", \"tailored\", \"anatomy\", \"bundle\", \"pathology\", \"physiology\", \"premed\", \"reliability\", \"readers\", \"vtw\", \"trimmer\", \"mbbs\", \"mbchb\", \"canvas\", \"leonid\", \"dentistry\", \"usmle\", \"tudor\", \"dinosaurs\", \"giants\", \"coa\", \"medieval\", \"cal\", \"motn\", \"wired\", \"recreation\", \"bluetooth\", \"watts\", \"fishing\", \"amsterdam\", \"yield\", \"ammo\", \"variant\", \"thodio\", \"wifi\", \"battery\", \"ammocanspeaker\", \"guitar\", \"md\", \"painting\", \"pa\", \"original\", \"usb\", \"claycaneshow\", \"notes\", \"essays\", \"students\", \"try\", \"border\", \"years\", \"illegal\", \"laws\", \"immigration\", \"today\", \"anti\", \"ai\", \"free\", \"biden\", \"people\", \"make\", \"day\", \"world\", \"new\", \"pm\", \"speaker\", \"work\", \"bill\", \"get\", \"quillbot\", \"policies\", \"state\", \"system\", \"canada\", \"us\", \"trump\", \"twclid\", \"crisis\", \"would\", \"support\", \"like\", \"immigrants\", \"country\", \"time\", \"one\", \"want\", \"policy\", \"need\"], \"Freq\": [1278.0, 1629.0, 213.0, 602.0, 196.0, 480.0, 338.0, 465.0, 170.0, 389.0, 952.0, 274.0, 347.0, 411.0, 195.0, 36.0, 1104.0, 621.0, 278.0, 499.0, 39.0, 437.0, 36.0, 49.0, 132.0, 30.0, 266.0, 196.0, 269.0, 319.0, 10.930188560107771, 10.89200494045044, 9.764660692213333, 7.970119158241579, 6.011076359507164, 5.133721970093124, 5.1214519250520745, 5.103068153145024, 5.101694327880369, 5.0955407355491, 5.094515477557693, 5.092865319879934, 5.932482105824994, 5.0582723179405935, 5.059912253704182, 5.046395135134204, 5.879830388849259, 4.187747530115035, 4.180396270173333, 4.179723668220845, 41.61695618926965, 4.174392599249912, 4.1743006020223685, 4.174778987605596, 20.808554418260638, 4.170244205748627, 5.825092038460639, 4.132871524615572, 4.13403000822168, 4.117335577996714, 26.95302607624551, 41.435755724055404, 7.297010198811056, 23.118399000682615, 8.07925717292927, 16.310223907226927, 7.286761026201721, 6.497167221637947, 8.730891935068211, 7.2346251751611765, 397.20864708230215, 20.64044618071731, 100.44148814660453, 5225.389664930883, 47.40059700284279, 378.5667977379365, 544.6636678668078, 61.04961097575885, 258.52273115534257, 116.82567373601108, 20.676519997289635, 148.65300731866049, 226.00897559224563, 193.01152450223879, 126.37741195603115, 90.66343402098269, 126.79891463127761, 46.892946760802324, 141.6747382104684, 149.10759083400984, 342.3951342773181, 407.1740266441098, 152.562238012613, 198.79170894590004, 181.6975282790445, 695.0280580403498, 441.7441369473933, 494.3460309505345, 296.4723425759276, 136.21457872984607, 324.31443803668867, 183.23623438220892, 304.0145560518857, 313.79462185021646, 270.36233547939395, 251.63277938559267, 183.7130825895458, 294.6093264833035, 241.98704316869487, 247.90744501635191, 303.0059720468764, 273.8805057214247, 242.54614643790921, 173.2214189176239, 212.49840722486897, 189.4598590918507, 229.92302557799954, 192.34968963267852, 186.1143328914116, 23.497363485618063, 7.484304007178457, 20.138922815452343, 19.92963208359506, 7.970933749806785, 4.778409166997649, 4.772317931614577, 19.708802624745992, 4.7701246408179925, 19.696185246768508, 7.901927458504407, 19.549557649054265, 19.53713694240312, 3.92473294454399, 3.9183555726564867, 3.91665294640603, 3.9094349059753943, 3.8880261169565515, 4.632248410241034, 3.8494952641942786, 8.457132640302667, 6.055342359130214, 18.79624158790842, 6.108332102572535, 4.54129958016044, 4.528250843165647, 6.081370389893747, 6.074058575763697, 6.05888244300434, 6.0590710041728935, 6.0268174135379375, 17.995420277523866, 8.092728044376527, 135.38116891926973, 18.311550172991236, 6.006406680811786, 9.16159209716851, 21.70673391301201, 37.43099371395749, 226.56557880818795, 541.7919540371148, 54.39653952225149, 44.4046913107794, 53.928299562405705, 3361.8602370951307, 47.30334280551363, 24.79250296821324, 66.06146462428262, 20.020153609737235, 123.91473587400218, 94.37484053036368, 119.95460259760178, 181.27062331186752, 117.27593913284619, 145.64610641883235, 110.46878362618507, 115.07812692329551, 175.37247862047263, 91.9069762868138, 139.1133581009022, 153.98821471877815, 194.6482637006428, 204.45923511806515, 113.794321386208, 112.03573910209819, 93.06890237267481, 231.4277157235264, 219.13795568001473, 224.78006269006676, 170.03547574637625, 213.81029570768925, 192.8647751219684, 154.80330179671046, 100.84801973934663, 175.40714143485525, 217.61334333790876, 327.480515459437, 145.17287871194742, 184.57852958886102, 179.18529088066796, 226.6500866523309, 174.4536464041261, 207.2163805797278, 156.2347446461567, 166.1033306244996, 145.81239709410173, 141.1692019983874, 33.69968051271961, 7.670934665879544, 7.669241519901524, 7.6637607001513395, 7.669353123626007, 7.658157507896239, 18.325654623608674, 8.3785712971979, 14.428078594268767, 27.983523750880654, 7.570842278188466, 18.17988841167271, 18.11552634796705, 18.671892452078314, 13.37918175849074, 5.209981006384021, 17.84977242649074, 5.1880077994012765, 5.189930516198519, 5.178840140822978, 9.601370231242212, 5.168794337149402, 31.65476546900788, 7.350944760734377, 5.143209183311552, 9.539486944996133, 34.37841128990671, 16.08274086694261, 7.275448267551407, 7.9991059072133845, 19.681305064910116, 17.44289657438505, 15.983959823014215, 15.964637693977973, 15.9493646263844, 17.950642613823067, 15.693338829558906, 15.69592921074297, 19.766411715649163, 28.221265137511594, 21.098086935787435, 38.35884623181536, 15.648036528238945, 25.288609036176055, 21.997033398941404, 15.369868160883904, 102.3039075158427, 114.40133616232072, 507.06200650493815, 225.55103319913118, 606.6156301530119, 268.9675448489315, 2839.595731182882, 183.7675072459739, 136.30646095720982, 101.67841758911447, 159.23884125512754, 344.5697091373474, 383.599873309492, 175.90405762383034, 127.73661066604754, 137.32492913540543, 249.1438882544626, 59.75896613137657, 44.13074415913364, 179.1449514644289, 185.1604470369734, 243.21217770960405, 40.17354628743851, 182.16819846268382, 124.61873937311124, 162.61248478905915, 201.24248891216791, 262.21518274854435, 205.3628201016967, 126.21110914588256, 126.8022486209908, 190.56504340129584, 122.28224295652562, 204.0330049436332, 186.10058114834203, 175.2763199589318, 142.2729918641072, 151.7822087462873, 145.49153363244784, 144.48188410644653, 143.36523597806666], \"Total\": [1278.0, 1629.0, 213.0, 602.0, 196.0, 480.0, 338.0, 465.0, 170.0, 389.0, 952.0, 274.0, 347.0, 411.0, 195.0, 36.0, 1104.0, 621.0, 278.0, 499.0, 39.0, 437.0, 36.0, 49.0, 132.0, 30.0, 266.0, 196.0, 269.0, 319.0, 11.616432575571434, 11.610987233460628, 10.622636001721197, 8.688096714899716, 6.747205374292552, 5.777417355280261, 5.772883103152562, 5.770841398859588, 5.769951147556041, 5.767747011675649, 5.768883270117134, 5.767258405974776, 6.735814279949774, 5.762303102874816, 5.768131000530925, 5.760400295876191, 6.713291666082396, 4.8050696664842745, 4.8024443076055805, 4.801979466819031, 47.8392882329235, 4.800453363857385, 4.800431548909732, 4.802551828289285, 23.94970773733495, 4.803321517938751, 6.731537202082731, 4.7942509536144975, 4.801696853830763, 4.794791879567137, 32.555141415069876, 51.10987632220611, 8.588564086666917, 28.52372858504113, 9.574207940958113, 20.076208049699193, 8.597298945655588, 7.643991785483343, 10.47655303565923, 8.583406011935804, 621.003698659479, 26.383210548234707, 147.5763382992785, 11426.845633208895, 66.94125462968945, 668.8610789384848, 1014.09523119508, 89.5302767108137, 445.6530149297141, 185.61983318830772, 27.25258317220472, 245.07744552817914, 393.5159519494082, 333.6897637770438, 207.47638670021402, 143.2273832184723, 208.92358703889454, 68.41986445435784, 238.82449700073747, 253.75045154283777, 664.9456611360526, 828.8203749256518, 265.8134519103195, 366.07213091323945, 330.9592970853413, 1629.1242036527988, 952.4171767092403, 1104.5959909123574, 604.4892959683716, 238.66159691224328, 684.1692875844815, 347.00847913699556, 669.0332458573076, 713.7054987062478, 596.4581174792447, 552.2532671278478, 359.5074054869517, 719.1101022650149, 543.1403397467793, 568.8061200836551, 777.6458654800068, 747.804456665954, 636.6534104720455, 342.822459981416, 526.0009739328407, 424.7504330903671, 1278.7769861200525, 602.4864364799973, 449.2718733201317, 25.571611745293495, 8.18614001724862, 22.59400389845689, 22.568933101708687, 9.083857343183134, 5.461421976585665, 5.45562275420018, 22.544155902254612, 5.459569530043454, 22.54597803671135, 9.080475285684035, 22.534790673487038, 22.531052878303452, 4.550444288322275, 4.548083127019278, 4.547338822918684, 4.544021278449879, 4.549203326816714, 5.444028407305188, 4.541576497130509, 10.04714639303426, 7.228748584376313, 22.44926729206047, 7.29800540169897, 5.431093733619589, 5.433412663411142, 7.300763294525721, 7.29793191733575, 7.2969606779545995, 7.297692080293443, 7.2901339029973355, 22.670210130181307, 9.976072953331332, 213.42272951679826, 24.47870041061854, 7.294780850727359, 11.665213254449528, 30.545897452722805, 57.453817720963094, 465.7929097022227, 1278.7769861200525, 91.96546879543197, 72.76941520352122, 92.28442286960681, 11426.845633208895, 80.65959447990389, 37.783021446466165, 120.3679566087802, 29.518750553207525, 266.04271251068946, 196.05154453964118, 263.87844174910873, 437.8859005321452, 257.22992502894124, 338.53696082558645, 242.3105738338934, 259.24934988485313, 449.2718733201317, 197.95112528776247, 340.5705733761605, 392.3462201448764, 552.2532671278478, 596.4581174792447, 269.14709062432956, 265.5046780330186, 207.8556009784088, 777.6458654800068, 719.1101022650149, 747.804456665954, 499.03578241366694, 713.7054987062478, 636.6534104720455, 457.77343081396134, 238.2947235078367, 568.8061200836551, 828.8203749256518, 1629.1242036527988, 433.93852635348645, 684.1692875844815, 664.9456611360526, 1104.5959909123574, 669.0332458573076, 1014.09523119508, 604.4892959683716, 952.4171767092403, 668.8610789384848, 602.4864364799973, 36.752055666749634, 8.370426720653603, 8.369919488316182, 8.36475185435688, 8.37104812979855, 8.365472018589406, 20.141636201929092, 9.21572977974991, 15.89889376501528, 30.95283908778973, 8.381658330686092, 20.15911122538915, 20.158173992193266, 20.94911721699486, 15.093869934075911, 5.886129937411965, 20.217506696953524, 5.887373786052412, 5.890775023711962, 5.887279981960976, 10.91709395971305, 5.886193667711059, 36.153894981421466, 8.400503636281533, 5.889576390446388, 10.92583843061933, 39.53071624228042, 18.516115126631632, 8.411270114802976, 9.25434539808555, 22.79309830069319, 20.210445744569082, 18.527469051911293, 18.52220061084885, 18.522138418927923, 21.110524511337587, 18.551755615632686, 18.563812564008508, 23.709635514692707, 34.64313862681809, 25.44631523851785, 49.32107339675631, 18.557480332608414, 32.5337967402913, 28.221165076347695, 18.636488393361645, 170.34418457595706, 196.88409679004675, 1278.7769861200525, 480.5213268528239, 1629.1242036527988, 602.4864364799973, 11426.845633208895, 389.8282030499612, 274.7411681922016, 195.41079875322177, 347.69003414884935, 952.4171767092403, 1104.5959909123574, 411.82588049535815, 278.29569726622844, 319.82260991620365, 747.804456665954, 105.86654340934437, 70.31763683050077, 499.03578241366694, 526.0009739328407, 777.6458654800068, 61.72695779392222, 543.1403397467793, 314.5237748035606, 464.7688040563164, 636.6534104720455, 1014.09523119508, 719.1101022650149, 333.43832804554296, 338.53696082558645, 669.0332458573076, 326.67010512037217, 828.8203749256518, 713.7054987062478, 684.1692875844815, 457.77343081396134, 604.4892959683716, 568.8061200836551, 668.8610789384848, 664.9456611360526], \"Category\": [\"Default\", \"Default\", \"Default\", \"Default\", \"Default\", \"Default\", \"Default\", \"Default\", \"Default\", \"Default\", \"Default\", \"Default\", \"Default\", \"Default\", \"Default\", \"Default\", \"Default\", \"Default\", \"Default\", \"Default\", \"Default\", \"Default\", \"Default\", \"Default\", \"Default\", \"Default\", \"Default\", \"Default\", \"Default\", \"Default\", \"Topic1\", \"Topic1\", \"Topic1\", \"Topic1\", \"Topic1\", \"Topic1\", \"Topic1\", \"Topic1\", \"Topic1\", \"Topic1\", \"Topic1\", \"Topic1\", \"Topic1\", \"Topic1\", \"Topic1\", \"Topic1\", \"Topic1\", \"Topic1\", \"Topic1\", \"Topic1\", \"Topic1\", \"Topic1\", \"Topic1\", \"Topic1\", \"Topic1\", \"Topic1\", \"Topic1\", \"Topic1\", \"Topic1\", \"Topic1\", \"Topic1\", \"Topic1\", \"Topic1\", \"Topic1\", \"Topic1\", \"Topic1\", \"Topic1\", \"Topic1\", \"Topic1\", \"Topic1\", \"Topic1\", \"Topic1\", \"Topic1\", \"Topic1\", \"Topic1\", \"Topic1\", \"Topic1\", \"Topic1\", \"Topic1\", \"Topic1\", \"Topic1\", \"Topic1\", \"Topic1\", \"Topic1\", \"Topic1\", \"Topic1\", \"Topic1\", \"Topic1\", \"Topic1\", \"Topic1\", \"Topic1\", \"Topic1\", \"Topic1\", \"Topic1\", \"Topic1\", \"Topic1\", \"Topic1\", \"Topic1\", \"Topic1\", \"Topic1\", \"Topic1\", \"Topic1\", \"Topic1\", \"Topic1\", \"Topic1\", \"Topic1\", \"Topic1\", \"Topic1\", \"Topic1\", \"Topic1\", \"Topic1\", \"Topic1\", \"Topic1\", \"Topic1\", \"Topic1\", \"Topic1\", \"Topic1\", \"Topic1\", \"Topic1\", \"Topic2\", \"Topic2\", \"Topic2\", \"Topic2\", \"Topic2\", \"Topic2\", \"Topic2\", \"Topic2\", \"Topic2\", \"Topic2\", \"Topic2\", \"Topic2\", \"Topic2\", \"Topic2\", \"Topic2\", \"Topic2\", \"Topic2\", \"Topic2\", \"Topic2\", \"Topic2\", \"Topic2\", \"Topic2\", \"Topic2\", \"Topic2\", \"Topic2\", \"Topic2\", \"Topic2\", \"Topic2\", \"Topic2\", \"Topic2\", \"Topic2\", \"Topic2\", \"Topic2\", \"Topic2\", \"Topic2\", \"Topic2\", \"Topic2\", \"Topic2\", \"Topic2\", \"Topic2\", \"Topic2\", \"Topic2\", \"Topic2\", \"Topic2\", \"Topic2\", \"Topic2\", \"Topic2\", \"Topic2\", \"Topic2\", \"Topic2\", \"Topic2\", \"Topic2\", \"Topic2\", \"Topic2\", \"Topic2\", \"Topic2\", \"Topic2\", \"Topic2\", \"Topic2\", \"Topic2\", \"Topic2\", \"Topic2\", \"Topic2\", \"Topic2\", \"Topic2\", \"Topic2\", \"Topic2\", \"Topic2\", \"Topic2\", \"Topic2\", \"Topic2\", \"Topic2\", \"Topic2\", \"Topic2\", \"Topic2\", \"Topic2\", \"Topic2\", \"Topic2\", \"Topic2\", \"Topic2\", \"Topic2\", \"Topic2\", \"Topic2\", \"Topic2\", \"Topic2\", \"Topic2\", \"Topic2\", \"Topic3\", \"Topic3\", \"Topic3\", \"Topic3\", \"Topic3\", \"Topic3\", \"Topic3\", \"Topic3\", \"Topic3\", \"Topic3\", \"Topic3\", \"Topic3\", \"Topic3\", \"Topic3\", \"Topic3\", \"Topic3\", \"Topic3\", \"Topic3\", \"Topic3\", \"Topic3\", \"Topic3\", \"Topic3\", \"Topic3\", \"Topic3\", \"Topic3\", \"Topic3\", \"Topic3\", \"Topic3\", \"Topic3\", \"Topic3\", \"Topic3\", \"Topic3\", \"Topic3\", \"Topic3\", \"Topic3\", \"Topic3\", \"Topic3\", \"Topic3\", \"Topic3\", \"Topic3\", \"Topic3\", \"Topic3\", \"Topic3\", \"Topic3\", \"Topic3\", \"Topic3\", \"Topic3\", \"Topic3\", \"Topic3\", \"Topic3\", \"Topic3\", \"Topic3\", \"Topic3\", \"Topic3\", \"Topic3\", \"Topic3\", \"Topic3\", \"Topic3\", \"Topic3\", \"Topic3\", \"Topic3\", \"Topic3\", \"Topic3\", \"Topic3\", \"Topic3\", \"Topic3\", \"Topic3\", \"Topic3\", \"Topic3\", \"Topic3\", \"Topic3\", \"Topic3\", \"Topic3\", \"Topic3\", \"Topic3\", \"Topic3\", \"Topic3\", \"Topic3\", \"Topic3\", \"Topic3\", \"Topic3\", \"Topic3\", \"Topic3\", \"Topic3\", \"Topic3\", \"Topic3\", \"Topic3\"], \"logprob\": [30.0, 29.0, 28.0, 27.0, 26.0, 25.0, 24.0, 23.0, 22.0, 21.0, 20.0, 19.0, 18.0, 17.0, 16.0, 15.0, 14.0, 13.0, 12.0, 11.0, 10.0, 9.0, 8.0, 7.0, 6.0, 5.0, 4.0, 3.0, 2.0, 1.0, -9.0559, -9.0594, -9.1686, -9.3717, -9.6538, -9.8116, -9.814, -9.8176, -9.8178, -9.8191, -9.8193, -9.8196, -9.667, -9.8264, -9.8261, -9.8287, -9.6759, -10.0153, -10.017, -10.0172, -7.7189, -10.0184, -10.0185, -10.0184, -8.4121, -10.0194, -9.6852, -10.0284, -10.0282, -10.0322, -8.1533, -7.7233, -9.46, -8.3068, -9.3581, -8.6556, -9.4614, -9.5761, -9.2806, -9.4685, -5.463, -8.4202, -6.8378, -2.8861, -7.5888, -5.511, -5.1473, -7.3357, -5.8924, -6.6867, -8.4184, -6.4458, -6.0268, -6.1847, -6.6081, -6.9403, -6.6048, -7.5996, -6.4939, -6.4428, -5.6115, -5.4382, -6.4198, -6.1552, -6.2451, -4.9035, -5.3567, -5.2442, -5.7555, -6.5332, -5.6657, -6.2366, -5.7303, -5.6987, -5.8477, -5.9194, -6.234, -5.7618, -5.9585, -5.9344, -5.7337, -5.8347, -5.9562, -6.2928, -6.0885, -6.2032, -6.0097, -6.1881, -6.2211, -7.9946, -9.1387, -8.1488, -8.1593, -9.0757, -9.5874, -9.5886, -8.1704, -9.5891, -8.171, -9.0844, -8.1785, -8.1791, -9.7842, -9.7858, -9.7862, -9.7881, -9.7936, -9.6184, -9.8035, -9.0165, -9.3505, -8.2178, -9.3418, -9.6383, -9.6411, -9.3462, -9.3474, -9.3499, -9.3499, -9.3552, -8.2613, -9.0605, -6.2434, -8.2439, -9.3586, -8.9364, -8.0738, -7.529, -5.7284, -4.8566, -7.1552, -7.3581, -7.1638, -3.0312, -7.2949, -7.9409, -6.9609, -8.1547, -6.3319, -6.6042, -6.3644, -5.9515, -6.3869, -6.1703, -6.4467, -6.4059, -5.9846, -6.6307, -6.2162, -6.1146, -5.8803, -5.8311, -6.4171, -6.4326, -6.6181, -5.7072, -5.7618, -5.7363, -6.0155, -5.7864, -5.8895, -6.1093, -6.5378, -5.9844, -5.7687, -5.36, -6.1735, -5.9334, -5.963, -5.7281, -5.9898, -5.8177, -6.1001, -6.0389, -6.1691, -6.2015, -7.5991, -9.0791, -9.0793, -9.08, -9.0793, -9.0808, -8.2082, -8.9909, -8.4474, -7.7849, -9.0922, -8.2162, -8.2198, -8.1895, -8.5228, -9.466, -8.2346, -9.4702, -9.4698, -9.472, -8.8546, -9.4739, -7.6617, -9.1217, -9.4789, -8.8611, -7.5791, -8.3388, -9.132, -9.0372, -8.1369, -8.2576, -8.345, -8.3462, -8.3471, -8.2289, -8.3633, -8.3631, -8.1326, -7.7765, -8.0674, -7.4696, -8.3662, -7.8862, -8.0256, -8.3841, -6.4886, -6.3768, -4.8879, -5.698, -4.7086, -5.522, -3.1651, -5.9029, -6.2016, -6.4947, -6.0461, -5.2742, -5.1669, -5.9466, -6.2666, -6.1942, -5.5985, -7.0262, -7.3294, -5.9283, -5.8953, -5.6226, -7.4233, -5.9116, -6.2913, -6.0252, -5.812, -5.5474, -5.7918, -6.2786, -6.2739, -5.8666, -6.3102, -5.7983, -5.8903, -5.9502, -6.1588, -6.0941, -6.1364, -6.1434, -6.1511], \"loglift\": [30.0, 29.0, 28.0, 27.0, 26.0, 25.0, 24.0, 23.0, 22.0, 21.0, 20.0, 19.0, 18.0, 17.0, 16.0, 15.0, 14.0, 13.0, 12.0, 11.0, 10.0, 9.0, 8.0, 7.0, 6.0, 5.0, 4.0, 3.0, 2.0, 1.0, 0.8401, 0.8371, 0.8168, 0.8148, 0.7855, 0.7829, 0.7813, 0.778, 0.7779, 0.7771, 0.7767, 0.7767, 0.774, 0.7707, 0.77, 0.7687, 0.7685, 0.7635, 0.7623, 0.7622, 0.7617, 0.7613, 0.7613, 0.7609, 0.7604, 0.7597, 0.7564, 0.7526, 0.7513, 0.7487, 0.7122, 0.6912, 0.7381, 0.6909, 0.7312, 0.6933, 0.7356, 0.7385, 0.7187, 0.7301, 0.4541, 0.6555, 0.5163, 0.1186, 0.5558, 0.3318, 0.2794, 0.5181, 0.3565, 0.438, 0.6249, 0.4011, 0.3465, 0.3536, 0.4053, 0.4437, 0.4017, 0.5232, 0.3788, 0.3693, 0.2373, 0.1903, 0.3458, 0.2904, 0.3014, 0.0492, 0.1327, 0.097, 0.1886, 0.3402, 0.1545, 0.2624, 0.1123, 0.0793, 0.1098, 0.115, 0.2297, 0.0087, 0.0925, 0.0705, -0.0415, -0.1034, -0.064, 0.2184, -0.0053, 0.0937, -0.8149, -0.2407, 0.0198, 1.1124, 1.1073, 1.0819, 1.0726, 1.0663, 1.0634, 1.0632, 1.0626, 1.062, 1.0618, 1.058, 1.0549, 1.0544, 1.049, 1.0479, 1.0477, 1.0466, 1.0399, 1.0355, 1.0316, 1.0247, 1.0199, 1.0194, 1.019, 1.018, 1.0147, 1.0142, 1.0134, 1.011, 1.011, 1.0067, 0.966, 0.9878, 0.7418, 0.9067, 1.0026, 0.9554, 0.8554, 0.7685, 0.4763, 0.3382, 0.6719, 0.703, 0.6598, -0.0265, 0.6633, 0.7757, 0.597, 0.8087, 0.4329, 0.4659, 0.4086, 0.315, 0.4115, 0.3535, 0.4115, 0.3848, 0.2563, 0.4297, 0.3016, 0.2617, 0.1542, 0.1263, 0.3361, 0.3342, 0.3935, -0.015, 0.0087, -0.005, 0.1203, -0.0084, 0.0027, 0.1128, 0.3371, 0.0205, -0.1403, -0.4074, 0.102, -0.1132, -0.1143, -0.3869, -0.1472, -0.391, -0.156, -0.5494, -0.3263, -0.2541, 1.1452, 1.1446, 1.1445, 1.1444, 1.1443, 1.1436, 1.1374, 1.1367, 1.1348, 1.131, 1.1302, 1.1286, 1.1251, 1.1168, 1.1113, 1.1099, 1.1073, 1.1054, 1.1052, 1.1037, 1.1035, 1.1019, 1.099, 1.0984, 1.0964, 1.0962, 1.0922, 1.091, 1.0868, 1.0861, 1.0851, 1.0846, 1.0842, 1.0833, 1.0823, 1.0698, 1.0646, 1.0641, 1.05, 1.0269, 1.0445, 0.9805, 1.0614, 0.98, 0.9827, 1.0392, 0.722, 0.689, 0.3069, 0.4756, 0.244, 0.4254, -0.1604, 0.4799, 0.531, 0.5786, 0.451, 0.2152, 0.1743, 0.3812, 0.4532, 0.3865, 0.1328, 0.66, 0.766, 0.2074, 0.1878, 0.0696, 0.8024, 0.1395, 0.3061, 0.1817, 0.0802, -0.1207, -0.0213, 0.2604, 0.2499, -0.0239, 0.2493, -0.1698, -0.1123, -0.1299, 0.0633, -0.15, -0.1315, -0.3005, -0.3024]}, \"token.table\": {\"Topic\": [1, 2, 3, 1, 1, 2, 3, 1, 2, 3, 1, 2, 3, 1, 2, 3, 1, 2, 3, 1, 2, 3, 1, 2, 3, 1, 2, 3, 2, 3, 3, 1, 2, 3, 1, 2, 3, 1, 2, 3, 1, 3, 2, 1, 2, 1, 1, 2, 3, 1, 2, 3, 1, 2, 3, 2, 1, 2, 3, 1, 2, 3, 1, 2, 3, 3, 1, 1, 2, 3, 1, 2, 3, 2, 3, 2, 3, 1, 1, 2, 3, 2, 3, 1, 2, 3, 1, 2, 3, 1, 2, 1, 2, 1, 2, 1, 2, 3, 1, 2, 3, 1, 2, 3, 1, 2, 3, 1, 2, 3, 1, 2, 3, 2, 3, 1, 2, 3, 1, 1, 2, 3, 3, 1, 3, 2, 1, 2, 3, 1, 2, 3, 1, 2, 3, 1, 2, 3, 1, 2, 3, 1, 2, 3, 1, 1, 1, 1, 2, 2, 3, 1, 2, 3, 2, 2, 1, 2, 3, 1, 2, 3, 1, 2, 3, 1, 2, 3, 3, 1, 2, 3, 1, 2, 3, 1, 2, 3, 1, 2, 3, 1, 2, 3, 1, 2, 3, 1, 3, 1, 2, 3, 1, 2, 3, 1, 2, 3, 2, 1, 2, 3, 1, 2, 3, 1, 2, 3, 1, 1, 1, 2, 3, 2, 1, 2, 3, 1, 2, 3, 1, 2, 3, 1, 2, 3, 1, 2, 3, 2, 3, 1, 2, 3, 1, 2, 3, 1, 2, 1, 2, 3, 1, 2, 1, 3, 1, 3, 1, 2, 3, 1, 2, 3, 3, 1, 2, 1, 2, 3, 1, 2, 3, 2, 3, 1, 2, 3, 1, 2, 3, 1, 2, 3, 1, 2, 3, 1, 2, 3, 1, 2, 1, 2, 3, 1, 2, 3, 1, 2, 3, 1, 1, 2, 3, 1, 2, 3, 1, 2, 3, 3, 1, 2, 3, 3, 2, 1, 2, 3, 1, 2, 3, 1, 2, 1, 1, 2, 3, 1, 2, 3, 1, 2, 3, 1, 3, 1, 2, 3, 1, 2, 3, 1, 2, 3, 1, 2, 3, 2, 3, 1, 2, 3, 1, 2, 3, 2, 3, 1, 2, 3, 2, 3, 1, 2, 3, 3, 1, 2, 3, 1, 1, 3, 1, 2, 3, 1, 1, 2, 3, 1, 1, 2, 3, 2, 3, 2, 1, 2, 3, 1, 2, 3, 1, 2, 3, 1, 2, 3, 1, 2, 3, 1, 2, 3, 1, 2, 3, 1, 1, 1, 2, 3, 1, 2, 3, 3, 1, 1, 2, 3, 1, 2, 3, 1, 2, 3, 1, 2, 3, 1, 2, 3, 3, 1, 2, 3, 1, 2, 3, 3, 1, 2, 3, 1, 2, 3, 1, 1, 2, 3, 1, 2, 1, 2, 3, 1, 3, 1, 2, 3, 1, 2, 3, 1, 2, 3, 1, 2, 3, 1, 1, 2, 3, 1, 2, 3, 1, 2, 3, 3, 1, 2, 3, 1, 2, 3, 1, 2, 3, 1, 2, 3, 1, 2, 3, 1, 2, 3, 1, 3, 2, 2, 3, 2, 3, 1, 1, 2, 3, 1, 1, 2, 3, 1, 2, 3, 2, 3, 1, 2, 3, 2, 3], \"Freq\": [0.1487733737985723, 0.5826957140444082, 0.2603534041475015, 0.8679952335221298, 0.02720936235696664, 0.05441872471393328, 0.9251183201368658, 0.33775001392502035, 0.14328788469546316, 0.5219772942477587, 0.1738815711415308, 0.31752286904105625, 0.514084645114091, 0.5436087131340894, 0.19941425155170114, 0.2567799951487658, 0.4449671743119556, 0.3154793722635029, 0.23778669103443129, 0.5783815416314471, 0.26671480417201443, 0.15283657317722177, 0.04947936392094263, 0.09895872784188527, 0.8411491866560248, 0.05390325426437525, 0.1078065085287505, 0.862452068230004, 0.10805734570992677, 0.8644587656794142, 0.9558036981320355, 0.33850041699953637, 0.16743031378471693, 0.4950113624939457, 0.8779394834535845, 0.04180664206921831, 0.08361328413843662, 0.8293620861834627, 0.12286845721236485, 0.061434228606182424, 0.8150372902109398, 0.11643389860156284, 0.9155124840080323, 0.8913268722846255, 0.14855447871410424, 0.8907609014488356, 0.0947394745652048, 0.0473697372826024, 0.8526552710868432, 0.4640823483750928, 0.17429337065670908, 0.3622362221479797, 0.4030410788309072, 0.2433455570299817, 0.3517103753948954, 0.8792748339958205, 0.0505935684985359, 0.07589035274780384, 0.8600906644751103, 0.1798593519405169, 0.4238424728337398, 0.39647257145148723, 0.6078777499467156, 0.1866711200623772, 0.2058168759662108, 0.9563941811176508, 0.8332546317637416, 0.05531907422499698, 0.08297861133749547, 0.8851051875999517, 0.38168333979366903, 0.3031476731694573, 0.3157133798293312, 0.920624876909962, 0.1841249753819924, 0.09546941664813974, 0.9069594581573275, 0.8677086072590484, 0.21516086966053025, 0.030737267094361462, 0.7684316773590365, 0.09159946810847862, 0.9159946810847861, 0.26008083474959304, 0.4235602165921944, 0.3158124421959344, 0.4322378543837656, 0.42384488633747885, 0.14268045678687408, 0.13702374072882995, 0.8221424443729796, 0.136971979457247, 0.821831876743482, 0.1370296237491826, 0.8221777424950956, 0.285668414980344, 0.466090571810035, 0.2480804656408251, 0.6079710830953144, 0.2611419417322156, 0.13465131370567368, 0.4735670043651183, 0.2704009129862558, 0.2557846474194312, 0.28801140212984716, 0.4547548454681797, 0.2576944124319685, 0.21672129898085812, 0.585147507248317, 0.20588523403181522, 0.194956556114424, 0.4312675332228167, 0.37514367615957345, 0.7715246865775968, 0.17144993035057707, 0.28027741990341365, 0.2623109186275538, 0.4599424326620122, 0.8343326285380007, 0.5871910733323209, 0.19310310465291092, 0.2206892624604696, 0.8494545742560379, 0.8329091903606757, 0.8487847490141193, 0.9184375293285835, 0.7021081433265338, 0.16432318248067812, 0.11950776907685683, 0.8355782587274182, 0.10444728234092727, 0.10444728234092727, 0.10731635476522519, 0.053658177382612596, 0.804872660739189, 0.527364635167181, 0.20748772531167778, 0.2651232045649216, 0.7969632492546187, 0.09962040615682734, 0.04981020307841367, 0.3945046446379755, 0.4474259994064844, 0.15876406430552673, 0.947378528528575, 0.946934433479367, 0.9413859232660979, 0.13702512044879, 0.8221507226927399, 0.11888810920958325, 0.8322167644670827, 0.2346321734318135, 0.4794657457084885, 0.28053846823369005, 0.9158231198422349, 0.9164856562251479, 0.1323345727414727, 0.6616728637073636, 0.21173531638635631, 0.29624087515808617, 0.24734675013199428, 0.45730387524403593, 0.08822150251432208, 0.7939935226288987, 0.08822150251432208, 0.38963751168788296, 0.2970503801976929, 0.31248156877939126, 0.8492886384408994, 0.11008539238569587, 0.880683139085567, 0.11008539238569587, 0.5499165655801759, 0.23567852810578968, 0.2145278909680906, 0.5118114319530429, 0.2976294740161717, 0.1919292869823911, 0.37976662536720956, 0.3925104718560421, 0.22938923679898565, 0.23427682755816576, 0.6325474344070475, 0.13588055998373613, 0.05386824482050624, 0.05386824482050624, 0.8618919171280999, 0.7849301998720829, 0.13082169997868048, 0.31124239228655526, 0.40813860875312435, 0.27894365346436556, 0.10023984434336637, 0.801918754746931, 0.10023984434336637, 0.4266095847337367, 0.2007213441840747, 0.3725928315588175, 0.8796353550432431, 0.43995737817516584, 0.29984356346969904, 0.2606116953521683, 0.45725654898277573, 0.29421942922107025, 0.24853753093035083, 0.12255552581127384, 0.7353331548676431, 0.12255552581127384, 0.8937493406273164, 0.8892570578717716, 0.5755916372946368, 0.25205646861922004, 0.17305369487289735, 0.8790350450537608, 0.3037320905705583, 0.4133496871674515, 0.2808950912795389, 0.4563123751364996, 0.3530988617127675, 0.19194091970027363, 0.3186793733013348, 0.23403016476816774, 0.4464830803023909, 0.4526721861730641, 0.3420189851085373, 0.20454076560412526, 0.2500938700281212, 0.5871769122399367, 0.16310469784442688, 0.06625206155661913, 0.8612768002360487, 0.491059356542133, 0.2630244219316585, 0.24613294529384555, 0.635353365781967, 0.22342096379146092, 0.13963810236966306, 0.8327570796710939, 0.8794914007258965, 0.2913852812155951, 0.2816724385084086, 0.42736507911620614, 0.0782117302546682, 0.8994348979286844, 0.0992107230144712, 0.8928965071302407, 0.09921533571317262, 0.8929380214185536, 0.08435389058429907, 0.08435389058429907, 0.8435389058429907, 0.681333759271541, 0.20104930601455312, 0.11169405889697395, 0.8494453771420556, 0.1370433587536213, 0.8222601525217279, 0.7705691554926869, 0.03669376930917557, 0.18346884654587783, 0.3889849066938354, 0.4647611872186085, 0.1465008090145614, 0.1190404817731438, 0.8332833724120066, 0.29545551510559726, 0.4548459903599326, 0.24491707173227142, 0.6072980255919891, 0.20725250079726612, 0.183153372797584, 0.5143277413310685, 0.26919492894228436, 0.21505516669690874, 0.2847585184099323, 0.453962855436124, 0.25586997306399717, 0.36640594684553535, 0.3008807957673192, 0.3329747473158332, 0.1371716916734342, 0.8230301500406052, 0.17717199082579782, 0.035434398165159565, 0.7795567596335105, 0.4896695474579379, 0.2580690858224267, 0.25145192977569786, 0.10137654466232347, 0.12165185359478815, 0.7704617394336584, 0.8330388447593949, 0.1178952619222027, 0.03929842064073424, 0.825266833455419, 0.05773148967662392, 0.1443287241915598, 0.8082408554727348, 0.5945788718632223, 0.22192028316021678, 0.18842288192848594, 0.9556748301950714, 0.44722233655037386, 0.2055050008035119, 0.3476384154561611, 0.9563118473437877, 0.8807514312546113, 0.630320575071877, 0.1939447923298083, 0.17778272630232428, 0.23614637065588145, 0.19836295135094043, 0.5667512895741155, 0.09953074842159215, 0.7962459873727372, 0.8342385030403261, 0.4455570361664248, 0.21909622852811797, 0.3350883495135922, 0.5666348542831817, 0.2182815005945766, 0.21529134305218514, 0.8021932931617447, 0.03913138015423145, 0.1565255206169258, 0.04964839946340723, 0.8936711903413301, 0.6869350060076953, 0.1607720226826521, 0.1607720226826521, 0.10163031780740524, 0.6775354520493683, 0.23713740821727888, 0.7959607479009071, 0.03790289275718606, 0.18951446378593026, 0.27540641249087866, 0.06480150882138322, 0.6480150882138321, 0.8463527897286717, 0.13363465100979027, 0.859061178745198, 0.09545124208279977, 0.09545124208279977, 0.8768374224151102, 0.04175416297214811, 0.08350832594429622, 0.06289745782190519, 0.8805644095066727, 0.24092790819948673, 0.5483186876264181, 0.216004331489195, 0.09152615667439586, 0.9152615667439585, 0.6392876577981396, 0.17230171129572022, 0.18840467496821744, 0.8680810083623239, 0.4240231941289157, 0.3341487127646347, 0.2419697575192182, 0.8329898175615722, 0.8142092120150435, 0.11631560171643478, 0.41400321508100385, 0.3895191539740628, 0.19587248885552871, 0.8664247818330411, 0.22626868876037645, 0.643995498779533, 0.12183698625558732, 0.8324541115189866, 0.3841740219255764, 0.4218381417222016, 0.19585342294245073, 0.9202319628086114, 0.18404639256172228, 0.8802775680145003, 0.21331774894763875, 0.15643301589493508, 0.6257320635797403, 0.3147615790311291, 0.2893262999175025, 0.39742623615041556, 0.2700103203000927, 0.4435883833501523, 0.285439481460098, 0.33920653730218436, 0.48734103776959403, 0.1738970222878287, 0.11012639410808878, 0.8810111528647102, 0.11012639410808878, 0.5811696349476017, 0.21092643121650406, 0.20868253301207315, 0.18198449261516758, 0.21720729763745808, 0.5987876853789385, 0.9208000627203355, 0.8669630607881365, 0.30305803453768826, 0.32448638041409045, 0.37346545670300973, 0.36792486610026387, 0.28401217734055456, 0.350712006867503, 0.9557457782003403, 0.8332584183829213, 0.6776154033392825, 0.18295615890160627, 0.1355230806678565, 0.574309628060657, 0.21600140878387544, 0.2083778296503269, 0.0539892651532064, 0.0539892651532064, 0.8638282424513024, 0.3517023688197191, 0.3385954482425867, 0.31019712032546654, 0.2924365120534635, 0.2360013956922688, 0.4720027913845376, 0.9544650574351375, 0.4102292528930196, 0.30454307248668233, 0.2850745655697255, 0.33522260596995335, 0.08126608629574626, 0.5790208648571922, 0.8492751066435326, 0.37788097348781746, 0.24292348295645408, 0.37788097348781746, 0.15116240757515012, 0.6046496303006005, 0.23361462988886836, 0.8328905429896918, 0.5374248721766833, 0.20412284135885037, 0.2583583789179652, 0.1370843100653655, 0.822505860392193, 0.05388662588222403, 0.10777325176444806, 0.8621860141155845, 0.09892416656408824, 0.8903174990767942, 0.053973912853296065, 0.053973912853296065, 0.863582605652737, 0.806346194587689, 0.07011706039892947, 0.10517559059839421, 0.03230721411899433, 0.06461442823798866, 0.9046019953318413, 0.4360009346656227, 0.3076619498648547, 0.25491990131659387, 0.8668319078640512, 0.05400700920041835, 0.05400700920041835, 0.8641121472066936, 0.5046343813336446, 0.3091979446321753, 0.18376858973421742, 0.05398944643336063, 0.05398944643336063, 0.8638311429337701, 0.8489574917664046, 0.3005796483660968, 0.3406569348149097, 0.3586917137168755, 0.5698445068647039, 0.16760132554844231, 0.2597820546000856, 0.35644759458960396, 0.2157445967252866, 0.4283624601646995, 0.4543869858222824, 0.26007676162196425, 0.28548656017123664, 0.29759345113062724, 0.23308018550091084, 0.47032251717148077, 0.1316187891800898, 0.0438729297266966, 0.8774585945339319, 0.8155270751804155, 0.11650386788291649, 0.8551038688870014, 0.8300191838139122, 0.13833653063565202, 0.8851906058742403, 0.08851906058742402, 0.8665584633446738, 0.09821286163365239, 0.7202276519801175, 0.19642572326730479, 0.8654386021515753, 0.8667188719002245, 0.8876637992918316, 0.13314956989377474, 0.8661183520708237, 0.887076176843348, 0.08870761768433481, 0.8871478748955877, 0.08871478748955877, 0.8668896173633311, 0.8861739236794408, 0.08861739236794408, 0.8875165644884686, 0.1331274846732703], \"Term\": [\"able\", \"able\", \"able\", \"activation\", \"afremov\", \"afremov\", \"afremov\", \"ai\", \"ai\", \"ai\", \"already\", \"already\", \"already\", \"also\", \"also\", \"also\", \"america\", \"america\", \"america\", \"americans\", \"americans\", \"americans\", \"ammo\", \"ammo\", \"ammo\", \"ammocanspeaker\", \"ammocanspeaker\", \"ammocanspeaker\", \"amsterdam\", \"amsterdam\", \"anatomy\", \"anti\", \"anti\", \"anti\", \"apple\", \"apple\", \"apple\", \"apps\", \"apps\", \"apps\", \"appstore\", \"appstore\", \"arrangement\", \"arson\", \"arson\", \"automotive\", \"battery\", \"battery\", \"battery\", \"biden\", \"biden\", \"biden\", \"bill\", \"bill\", \"bill\", \"bitcoin\", \"bluetooth\", \"bluetooth\", \"bluetooth\", \"border\", \"border\", \"border\", \"borders\", \"borders\", \"borders\", \"bundle\", \"bungled\", \"cal\", \"cal\", \"cal\", \"canada\", \"canada\", \"canada\", \"canines\", \"canines\", \"canvas\", \"canvas\", \"cedefop\", \"claycaneshow\", \"claycaneshow\", \"claycaneshow\", \"coa\", \"coa\", \"come\", \"come\", \"come\", \"control\", \"control\", \"control\", \"copa\", \"copa\", \"copaamerica\", \"copaamerica\", \"copainusa\", \"copainusa\", \"could\", \"could\", \"could\", \"countries\", \"countries\", \"countries\", \"country\", \"country\", \"country\", \"crime\", \"crime\", \"crime\", \"criminal\", \"criminal\", \"criminal\", \"crisis\", \"crisis\", \"crisis\", \"curriculum\", \"curriculum\", \"day\", \"day\", \"day\", \"decapitating\", \"democrats\", \"democrats\", \"democrats\", \"dentistry\", \"diets\", \"dinosaurs\", \"dogcare\", \"either\", \"either\", \"either\", \"ensures\", \"ensures\", \"ensures\", \"essays\", \"essays\", \"essays\", \"even\", \"even\", \"even\", \"excuse\", \"excuse\", \"excuse\", \"family\", \"family\", \"family\", \"fasters\", \"fasting\", \"fetterman\", \"finale\", \"finale\", \"fishing\", \"fishing\", \"florida\", \"florida\", \"florida\", \"florist\", \"floristry\", \"forced\", \"forced\", \"forced\", \"free\", \"free\", \"free\", \"fuck\", \"fuck\", \"fuck\", \"get\", \"get\", \"get\", \"giants\", \"glorious\", \"glorious\", \"glorious\", \"good\", \"good\", \"good\", \"gop\", \"gop\", \"gop\", \"government\", \"government\", \"government\", \"great\", \"great\", \"great\", \"guitar\", \"guitar\", \"guitar\", \"hira\", \"hira\", \"housing\", \"housing\", \"housing\", \"icelandic\", \"icelandic\", \"icelandic\", \"illegal\", \"illegal\", \"illegal\", \"ilydptq\", \"immigrants\", \"immigrants\", \"immigrants\", \"immigration\", \"immigration\", \"immigration\", \"incredible\", \"incredible\", \"incredible\", \"infonomics\", \"intolerant\", \"issues\", \"issues\", \"issues\", \"jjtc\", \"know\", \"know\", \"know\", \"law\", \"law\", \"law\", \"laws\", \"laws\", \"laws\", \"legal\", \"legal\", \"legal\", \"legally\", \"legally\", \"legally\", \"leonid\", \"leonid\", \"like\", \"like\", \"like\", \"love\", \"love\", \"love\", \"loveyourw\", \"lqzlqnwgmva\", \"make\", \"make\", \"make\", \"maths\", \"maths\", \"mbbs\", \"mbbs\", \"mbchb\", \"mbchb\", \"md\", \"md\", \"md\", \"mean\", \"mean\", \"mean\", \"medieval\", \"messi\", \"messi\", \"meta\", \"meta\", \"meta\", \"money\", \"money\", \"money\", \"motn\", \"motn\", \"much\", \"much\", \"much\", \"must\", \"must\", \"must\", \"need\", \"need\", \"need\", \"never\", \"never\", \"never\", \"new\", \"new\", \"new\", \"neymar\", \"neymar\", \"notes\", \"notes\", \"notes\", \"one\", \"one\", \"one\", \"original\", \"original\", \"original\", \"overspending\", \"pa\", \"pa\", \"pa\", \"painting\", \"painting\", \"painting\", \"pass\", \"pass\", \"pass\", \"pathology\", \"people\", \"people\", \"people\", \"physiology\", \"plaintiffs\", \"plan\", \"plan\", \"plan\", \"pm\", \"pm\", \"pm\", \"pmc\", \"pmc\", \"poetry\", \"policies\", \"policies\", \"policies\", \"policy\", \"policy\", \"policy\", \"powerbeatsvr\", \"powerbeatsvr\", \"powerbeatsvr\", \"premed\", \"premed\", \"probably\", \"probably\", \"probably\", \"pro\\u30b7\\u30ea\\u30fc\\u30b9\\u304b\\u3089\", \"pro\\u30b7\\u30ea\\u30fc\\u30b9\\u304b\\u3089\", \"pro\\u30b7\\u30ea\\u30fc\\u30b9\\u304b\\u3089\", \"quest\", \"quest\", \"quest\", \"quillbot\", \"quillbot\", \"quillbot\", \"raccoon\", \"raccoon\", \"rating\", \"rating\", \"rating\", \"reach\", \"reach\", \"reach\", \"readers\", \"readers\", \"reason\", \"reason\", \"reason\", \"recreation\", \"recreation\", \"reform\", \"reform\", \"reform\", \"reliability\", \"republicans\", \"republicans\", \"republicans\", \"reputed\", \"restricting\", \"restricting\", \"right\", \"right\", \"right\", \"rioting\", \"rules\", \"rules\", \"rules\", \"seaweed\", \"security\", \"security\", \"security\", \"sht\", \"sht\", \"sjvsworldtour\", \"speaker\", \"speaker\", \"speaker\", \"state\", \"state\", \"state\", \"states\", \"states\", \"states\", \"status\", \"status\", \"status\", \"stocked\", \"stocked\", \"stocked\", \"stop\", \"stop\", \"stop\", \"students\", \"students\", \"students\", \"superlight\", \"superlight\\u304b\\u9032\\u5316\\u3057\\u305f\", \"support\", \"support\", \"support\", \"system\", \"system\", \"system\", \"tailored\", \"tasty\", \"thing\", \"thing\", \"thing\", \"think\", \"think\", \"think\", \"thodio\", \"thodio\", \"thodio\", \"time\", \"time\", \"time\", \"today\", \"today\", \"today\", \"trimmer\", \"trump\", \"trump\", \"trump\", \"try\", \"try\", \"try\", \"tudor\", \"twclid\", \"twclid\", \"twclid\", \"twitter\", \"twitter\", \"twitter\", \"unleashed\", \"us\", \"us\", \"us\", \"usasoccer\", \"usasoccer\", \"usb\", \"usb\", \"usb\", \"usmle\", \"usmle\", \"variant\", \"variant\", \"variant\", \"vr\", \"vr\", \"vr\", \"vtw\", \"vtw\", \"vtw\", \"want\", \"want\", \"want\", \"warrants\", \"watts\", \"watts\", \"watts\", \"way\", \"way\", \"way\", \"wifi\", \"wifi\", \"wifi\", \"wired\", \"work\", \"work\", \"work\", \"workers\", \"workers\", \"workers\", \"world\", \"world\", \"world\", \"would\", \"would\", \"would\", \"years\", \"years\", \"years\", \"yield\", \"yield\", \"yield\", \"younger\", \"younger\", \"\\u3046\\u304a\\u3063\\u304b\", \"\\u304a\\u307b\", \"\\u304a\\u307b\", \"\\u3055\\u3089\\u306b\\u30cf\\u30a4\\u30a8\\u30f3\\u30c8\\u306a\", \"\\u3055\\u3089\\u306b\\u30cf\\u30a4\\u30a8\\u30f3\\u30c8\\u306a\", \"\\u3057\\u304b\\u3082\", \"\\u30b7\\u30ea\\u30fc\\u30b9\", \"\\u30b7\\u30ea\\u30fc\\u30b9\", \"\\u30b7\\u30ea\\u30fc\\u30b9\", \"\\u30b9\\u30a4\\u30c3\\u30c1\\u3068\\u30bb\\u30f3\\u30b5\\u30fc\\u306e\\u9032\\u5316\\u3066\", \"\\u30bf\\u30c3\\u30d5\\u3057\\u3066\\u8a73\\u7d30\\u30c1\\u30a7\\u30c3\\u30af\", \"\\u30ea\\u30a2\\u30eb\\u306a\\u611f\\u60f3\\u3092\\u52d5\\u753b\\u3066\\u30c1\\u30a7\\u30c3\\u30af\", \"\\u30ea\\u30a2\\u30eb\\u306a\\u611f\\u60f3\\u3092\\u52d5\\u753b\\u3066\\u30c1\\u30a7\\u30c3\\u30af\", \"\\u30ed\\u30b7\\u30af\\u30fc\\u30eb\\u53f2\\u4e0a\\u6700\\u8efd\\u91cf\", \"\\u52d5\\u753b\\u672c\\u7bc7\\u3078\", \"\\u52d5\\u753b\\u672c\\u7bc7\\u3078\", \"\\u65b0\\u767b\\u5834\\u3057\\u305f\", \"\\u65b0\\u767b\\u5834\\u3057\\u305f\", \"\\u6700\\u9ad8\\u5cf0\\u30de\\u30a6\\u30b9\\u304b\\u65b0\\u767a\\u58f2\", \"\\u753b\\u50cf\\u30bf\\u30c3\\u30d5\\u3066\", \"\\u753b\\u50cf\\u30bf\\u30c3\\u30d5\\u3066\", \"\\u9078\\u624b\\u304b\\u3044\\u3061\\u65e9\\u304f\\u4f53\\u611f\", \"\\u9078\\u624b\\u304b\\u3044\\u3061\\u65e9\\u304f\\u4f53\\u611f\"]}, \"R\": 30, \"lambda.step\": 0.01, \"plot.opts\": {\"xlab\": \"PC1\", \"ylab\": \"PC2\"}, \"topic.order\": [3, 2, 1]};\n",
       "\n",
       "function LDAvis_load_lib(url, callback){\n",
       "  var s = document.createElement('script');\n",
       "  s.src = url;\n",
       "  s.async = true;\n",
       "  s.onreadystatechange = s.onload = callback;\n",
       "  s.onerror = function(){console.warn(\"failed to load library \" + url);};\n",
       "  document.getElementsByTagName(\"head\")[0].appendChild(s);\n",
       "}\n",
       "\n",
       "if(typeof(LDAvis) !== \"undefined\"){\n",
       "   // already loaded: just create the visualization\n",
       "   !function(LDAvis){\n",
       "       new LDAvis(\"#\" + \"ldavis_el8790958977841122698906628\", ldavis_el8790958977841122698906628_data);\n",
       "   }(LDAvis);\n",
       "}else if(typeof define === \"function\" && define.amd){\n",
       "   // require.js is available: use it to load d3/LDAvis\n",
       "   require.config({paths: {d3: \"https://d3js.org/d3.v5\"}});\n",
       "   require([\"d3\"], function(d3){\n",
       "      window.d3 = d3;\n",
       "      LDAvis_load_lib(\"https://cdn.jsdelivr.net/gh/bmabey/pyLDAvis@3.4.0/pyLDAvis/js/ldavis.v3.0.0.js\", function(){\n",
       "        new LDAvis(\"#\" + \"ldavis_el8790958977841122698906628\", ldavis_el8790958977841122698906628_data);\n",
       "      });\n",
       "    });\n",
       "}else{\n",
       "    // require.js not available: dynamically load d3 & LDAvis\n",
       "    LDAvis_load_lib(\"https://d3js.org/d3.v5.js\", function(){\n",
       "         LDAvis_load_lib(\"https://cdn.jsdelivr.net/gh/bmabey/pyLDAvis@3.4.0/pyLDAvis/js/ldavis.v3.0.0.js\", function(){\n",
       "                 new LDAvis(\"#\" + \"ldavis_el8790958977841122698906628\", ldavis_el8790958977841122698906628_data);\n",
       "            })\n",
       "         });\n",
       "}\n",
       "</script>"
      ],
      "text/plain": [
       "PreparedData(topic_coordinates=              x         y  topics  cluster       Freq\n",
       "topic                                                \n",
       "2     -0.015176  0.026351       1        1  40.615472\n",
       "1     -0.017539 -0.025112       2        1  30.210635\n",
       "0      0.032715 -0.001239       3        1  29.173892, topic_info=        Term         Freq        Total Category  logprob  loglift\n",
       "71    border  1278.000000  1278.000000  Default  30.0000  30.0000\n",
       "326  illegal  1629.000000  1629.000000  Default  29.0000  29.0000\n",
       "277    great   213.000000   213.000000  Default  28.0000  28.0000\n",
       "879     laws   602.000000   602.000000  Default  27.0000  27.0000\n",
       "192      try   196.000000   196.000000  Default  26.0000  26.0000\n",
       "..       ...          ...          ...      ...      ...      ...\n",
       "191     time   142.272992   457.773431   Topic3  -6.1588   0.0633\n",
       "222      one   151.782209   604.489296   Topic3  -6.0941  -0.1500\n",
       "779     want   145.491534   568.806120   Topic3  -6.1364  -0.1315\n",
       "129   policy   144.481884   668.861079   Topic3  -6.1434  -0.3005\n",
       "88      need   143.365236   664.945661   Topic3  -6.1511  -0.3024\n",
       "\n",
       "[293 rows x 6 columns], token_table=       Topic      Freq        Term\n",
       "term                              \n",
       "1886       1  0.148773        able\n",
       "1886       2  0.582696        able\n",
       "1886       3  0.260353        able\n",
       "10169      1  0.867995  activation\n",
       "392        1  0.027209     afremov\n",
       "...      ...       ...         ...\n",
       "6609       1  0.866890  最高峰マウスか新発売\n",
       "1010       2  0.886174      画像タッフて\n",
       "1010       3  0.088617      画像タッフて\n",
       "1011       2  0.887517   選手かいち早く体感\n",
       "1011       3  0.133127   選手かいち早く体感\n",
       "\n",
       "[515 rows x 3 columns], R=30, lambda_step=0.01, plot_opts={'xlab': 'PC1', 'ylab': 'PC2'}, topic_order=[3, 2, 1])"
      ]
     },
     "execution_count": 25,
     "metadata": {},
     "output_type": "execute_result"
    }
   ],
   "source": [
    "# Visualize the topics\n",
    "pyLDAvis.enable_notebook()\n",
    "inf_LDAvis_data_filepath = os.path.join('inf_ldavis_prepared_'+str(inf_num_topics))\n",
    "# # this is a bit time consuming - make the if statement True\n",
    "# # if you want to execute visualization prep yourself\n",
    "if 1 == 1:\n",
    "    inf_LDAvis_prepared = pyLDAvis.gensim.prepare(inf_lda_model, inf_corpus, inf_id2word)\n",
    "    with open(inf_LDAvis_data_filepath, 'wb') as f:\n",
    "        pickle.dump(inf_LDAvis_prepared, f)\n",
    "# load the pre-prepared pyLDAvis data from disk\n",
    "with open(inf_LDAvis_data_filepath, 'rb') as f:\n",
    "    inf_LDAvis_prepared = pickle.load(f)\n",
    "pyLDAvis.save_html(inf_LDAvis_prepared, 'inf_ldavis_prepared_'+ str(inf_num_topics) +'.html')\n",
    "inf_LDAvis_prepared"
   ]
  },
  {
   "cell_type": "code",
   "execution_count": 26,
   "id": "4c893e19",
   "metadata": {},
   "outputs": [],
   "source": [
    "inf_sent = us_cleaned.loc[us_cleaned.Influential == 'yes', 'Tweets'].apply(tweet_sentiment)"
   ]
  },
  {
   "cell_type": "code",
   "execution_count": 27,
   "id": "82e0981c",
   "metadata": {},
   "outputs": [
    {
     "data": {
      "text/plain": [
       "<Axes: >"
      ]
     },
     "execution_count": 27,
     "metadata": {},
     "output_type": "execute_result"
    },
    {
     "data": {
      "image/png": "[encoded data removed]",
      "text/plain": [
       "<Figure size 640x480 with 1 Axes>"
      ]
     },
     "metadata": {},
     "output_type": "display_data"
    }
   ],
   "source": [
    "inf_sent.hist()"
   ]
  },
  {
   "cell_type": "code",
   "execution_count": 29,
   "id": "0bcd7412",
   "metadata": {},
   "outputs": [
    {
     "data": {
      "text/plain": [
       "inf_topic_class\n",
       "topic 2    759\n",
       "topic 0    741\n",
       "topic 1    583\n",
       "Name: count, dtype: int64"
      ]
     },
     "execution_count": 29,
     "metadata": {},
     "output_type": "execute_result"
    }
   ],
   "source": [
    "us_inf = us_cleaned[us_cleaned.Influential == 'yes']\n",
    "us_inf['inf_topic_class'] = us_inf['Tweets'].apply(lambda x: topic_classify(x, inf_lda_model))\n",
    "us_inf['inf_topic_class'].value_counts()"
   ]
  },
  {
   "cell_type": "code",
   "execution_count": 30,
   "id": "32a5b26a",
   "metadata": {},
   "outputs": [
    {
     "data": {
      "text/plain": [
       "{'topic 0': [29.071332436069987, 21.130551816958278, 49.79811574697174],\n",
       " 'topic 1': [37.54325259515571, 17.82006920415225, 44.63667820069204],\n",
       " 'topic 2': [33.98950131233596, 11.15485564304462, 54.85564304461942]}"
      ]
     },
     "execution_count": 30,
     "metadata": {},
     "output_type": "execute_result"
    }
   ],
   "source": [
    "inf_topic_pct = us_inf.groupby('topic_class')['Sentiment'].apply(lambda x: [100*(x<0).sum()/len(x), 100*(x==0).sum()/len(x), 100*(x>0).sum()/len(x)])\n",
    "inf_topic_dict = inf_topic_pct.to_dict()\n",
    "inf_topic_dict"
   ]
  },
  {
   "cell_type": "code",
   "execution_count": 31,
   "id": "d579b002",
   "metadata": {},
   "outputs": [
    {
     "data": {
      "image/png": "[encoded data removed]",
      "text/plain": [
       "<Figure size 1000x500 with 1 Axes>"
      ]
     },
     "metadata": {},
     "output_type": "display_data"
    }
   ],
   "source": [
    "fig, ax = survey(inf_topic_dict, category_names)\n",
    "plt.show()"
   ]
  },
  {
   "cell_type": "code",
   "execution_count": null,
   "id": "aa553f2b",
   "metadata": {},
   "outputs": [],
   "source": []
  }
 ],
 "metadata": {
  "kernelspec": {
   "display_name": "Python 3 (ipykernel)",
   "language": "python",
   "name": "python3"
  },
  "language_info": {
   "codemirror_mode": {
    "name": "ipython",
    "version": 3
   },
   "file_extension": ".py",
   "mimetype": "text/x-python",
   "name": "python",
   "nbconvert_exporter": "python",
   "pygments_lexer": "ipython3",
   "version": "3.11.5"
  }
 },
 "nbformat": 4,
 "nbformat_minor": 5
}
