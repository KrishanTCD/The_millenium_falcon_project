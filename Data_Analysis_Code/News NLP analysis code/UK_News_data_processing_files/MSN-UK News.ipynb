{
 "cells": [
  {
   "cell_type": "code",
   "execution_count": 1,
   "id": "b8e415a6",
   "metadata": {},
   "outputs": [],
   "source": [
    "def load_text(file_path):\n",
    "    with open(file_path, 'r', encoding='utf-8') as file:\n",
    "        text = file.read()\n",
    "    return text\n",
    "\n",
    "# Example for one file\n",
    "file_path = '/Users/zhaolongjiang/Desktop/UK txt/Is the UK government closing the door on migrant workers?.txt'  # Replace this with the actual file path\n",
    "text = load_text(file_path)"
   ]
  },
  {
   "cell_type": "code",
   "execution_count": 2,
   "id": "13d26357",
   "metadata": {},
   "outputs": [
    {
     "name": "stderr",
     "output_type": "stream",
     "text": [
      "[nltk_data] Downloading package punkt to\n",
      "[nltk_data]     /Users/zhaolongjiang/nltk_data...\n",
      "[nltk_data]   Package punkt is already up-to-date!\n",
      "[nltk_data] Downloading package wordnet to\n",
      "[nltk_data]     /Users/zhaolongjiang/nltk_data...\n",
      "[nltk_data]   Package wordnet is already up-to-date!\n",
      "[nltk_data] Downloading package stopwords to\n",
      "[nltk_data]     /Users/zhaolongjiang/nltk_data...\n",
      "[nltk_data]   Package stopwords is already up-to-date!\n"
     ]
    }
   ],
   "source": [
    "import nltk\n",
    "from nltk.corpus import stopwords\n",
    "from nltk.stem import WordNetLemmatizer\n",
    "from nltk.tokenize import word_tokenize\n",
    "\n",
    "nltk.download('punkt')\n",
    "nltk.download('wordnet')\n",
    "nltk.download('stopwords')\n",
    "\n",
    "def preprocess_text(text):\n",
    "    # Tokenize\n",
    "    tokens = word_tokenize(text.lower())\n",
    "\n",
    "    # Remove stopwords\n",
    "    stop_words = set(stopwords.words('english'))\n",
    "    filtered_tokens = [w for w in tokens if not w in stop_words]\n",
    "\n",
    "    # Lemmatize\n",
    "    lemmatizer = WordNetLemmatizer()\n",
    "    lemmatized_tokens = [lemmatizer.lemmatize(w) for w in filtered_tokens]\n",
    "    \n",
    "    return lemmatized_tokens\n",
    "\n",
    "# Preprocess the text\n",
    "preprocessed_text = preprocess_text(text)\n"
   ]
  },
  {
   "cell_type": "code",
   "execution_count": 3,
   "id": "0a5361f0",
   "metadata": {},
   "outputs": [
    {
     "name": "stdout",
     "output_type": "stream",
     "text": [
      "(0, '0.064*\",\" + 0.052*\".\" + 0.026*\"worker\" + 0.022*\"uk\" + 0.014*\"list\"')\n",
      "(1, '0.004*\".\" + 0.004*\",\" + 0.004*\"worker\" + 0.004*\"still\" + 0.004*\"uk\"')\n",
      "(2, '0.004*\",\" + 0.004*\".\" + 0.004*\"worker\" + 0.004*\"uk\" + 0.004*\"still\"')\n",
      "(3, '0.005*\",\" + 0.004*\".\" + 0.004*\"uk\" + 0.004*\"worker\" + 0.004*\"still\"')\n",
      "(4, '0.004*\",\" + 0.004*\".\" + 0.004*\"worker\" + 0.004*\"uk\" + 0.004*\"list\"')\n"
     ]
    }
   ],
   "source": [
    "from gensim import corpora, models\n",
    "\n",
    "# Create a dictionary and corpus required for Topic Modeling\n",
    "dictionary = corpora.Dictionary([preprocessed_text])\n",
    "corpus = [dictionary.doc2bow(text) for text in [preprocessed_text]]\n",
    "\n",
    "# Apply LDA\n",
    "lda_model = models.LdaModel(corpus, num_topics=5, id2word=dictionary, passes=15)\n",
    "\n",
    "# Print topics\n",
    "topics = lda_model.print_topics(num_words=5)\n",
    "for topic in topics:\n",
    "    print(topic)\n"
   ]
  },
  {
   "cell_type": "code",
   "execution_count": 4,
   "id": "53c3a01c",
   "metadata": {},
   "outputs": [
    {
     "name": "stdout",
     "output_type": "stream",
     "text": [
      "Polarity: 0.14407005116096022, Subjectivity: 0.44984966548602906\n"
     ]
    }
   ],
   "source": [
    "from textblob import TextBlob\n",
    "\n",
    "blob = TextBlob(text)\n",
    "sentiment = blob.sentiment\n",
    "print(f\"Polarity: {sentiment.polarity}, Subjectivity: {sentiment.subjectivity}\")\n"
   ]
  }
 ],
 "metadata": {
  "kernelspec": {
   "display_name": "Python 3 (ipykernel)",
   "language": "python",
   "name": "python3"
  },
  "language_info": {
   "codemirror_mode": {
    "name": "ipython",
    "version": 3
   },
   "file_extension": ".py",
   "mimetype": "text/x-python",
   "name": "python",
   "nbconvert_exporter": "python",
   "pygments_lexer": "ipython3",
   "version": "3.11.5"
  }
 },
 "nbformat": 4,
 "nbformat_minor": 5
}
